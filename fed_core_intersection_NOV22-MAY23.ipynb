{
 "cells": [
  {
   "cell_type": "markdown",
   "id": "57412b33-ef55-4d13-8bf3-bfcdcc2def99",
   "metadata": {},
   "source": [
    "# Импорт библиотек и данных"
   ]
  },
  {
   "cell_type": "code",
   "execution_count": 1,
   "id": "fdb80f6a-3008-475f-94f1-f524f2da5f3b",
   "metadata": {},
   "outputs": [],
   "source": [
    "import pandas as pd\n",
    "import plotly.express as px\n",
    "from plotly import graph_objects as go\n",
    "\n",
    "pd.options.mode.chained_assignment = None"
   ]
  },
  {
   "cell_type": "code",
   "execution_count": 2,
   "id": "f67cfbca-53ca-4190-b351-314b6e66eefc",
   "metadata": {},
   "outputs": [],
   "source": [
    "items = pd.read_csv('items.csv', sep=';')\n",
    "\n",
    "items = items[['item_id','item_name','group_id','group_name']]\n",
    "\n",
    "items.rename(columns = {'item_id':'line_item_id'}, inplace = True )"
   ]
  },
  {
   "cell_type": "code",
   "execution_count": 3,
   "id": "54574fc0-0513-4059-bc40-3365967209d1",
   "metadata": {},
   "outputs": [
    {
     "data": {
      "text/html": [
       "<div>\n",
       "<style scoped>\n",
       "    .dataframe tbody tr th:only-of-type {\n",
       "        vertical-align: middle;\n",
       "    }\n",
       "\n",
       "    .dataframe tbody tr th {\n",
       "        vertical-align: top;\n",
       "    }\n",
       "\n",
       "    .dataframe thead th {\n",
       "        text-align: right;\n",
       "    }\n",
       "</style>\n",
       "<table border=\"1\" class=\"dataframe\">\n",
       "  <thead>\n",
       "    <tr style=\"text-align: right;\">\n",
       "      <th></th>\n",
       "      <th>group_id</th>\n",
       "      <th>group_name</th>\n",
       "    </tr>\n",
       "  </thead>\n",
       "  <tbody>\n",
       "    <tr>\n",
       "      <th>0</th>\n",
       "      <td>1</td>\n",
       "      <td>СТРОЙМАТЕРИАЛЫ</td>\n",
       "    </tr>\n",
       "    <tr>\n",
       "      <th>1</th>\n",
       "      <td>2</td>\n",
       "      <td>СТОЛЯРНЫЕ ИЗДЕЛИЯ</td>\n",
       "    </tr>\n",
       "    <tr>\n",
       "      <th>2</th>\n",
       "      <td>3</td>\n",
       "      <td>ЭЛЕКТРОТОВАРЫ</td>\n",
       "    </tr>\n",
       "    <tr>\n",
       "      <th>3</th>\n",
       "      <td>4</td>\n",
       "      <td>ИНСТРУМЕНТЫ</td>\n",
       "    </tr>\n",
       "    <tr>\n",
       "      <th>4</th>\n",
       "      <td>5</td>\n",
       "      <td>НАПОЛЬНЫЕ ПОКРЫТИЯ</td>\n",
       "    </tr>\n",
       "    <tr>\n",
       "      <th>5</th>\n",
       "      <td>6</td>\n",
       "      <td>ПЛИТКА</td>\n",
       "    </tr>\n",
       "    <tr>\n",
       "      <th>6</th>\n",
       "      <td>7</td>\n",
       "      <td>САНТЕХНИКА</td>\n",
       "    </tr>\n",
       "    <tr>\n",
       "      <th>7</th>\n",
       "      <td>8</td>\n",
       "      <td>ВОДОСНАБЖЕНИЕ</td>\n",
       "    </tr>\n",
       "    <tr>\n",
       "      <th>8</th>\n",
       "      <td>9</td>\n",
       "      <td>САД</td>\n",
       "    </tr>\n",
       "    <tr>\n",
       "      <th>9</th>\n",
       "      <td>10</td>\n",
       "      <td>СКОБЯНЫЕ ИЗДЕЛИЯ</td>\n",
       "    </tr>\n",
       "    <tr>\n",
       "      <th>10</th>\n",
       "      <td>11</td>\n",
       "      <td>КРАСКИ</td>\n",
       "    </tr>\n",
       "    <tr>\n",
       "      <th>11</th>\n",
       "      <td>12</td>\n",
       "      <td>ОТДЕЛОЧНЫЕ МАТЕРИАЛЫ</td>\n",
       "    </tr>\n",
       "    <tr>\n",
       "      <th>12</th>\n",
       "      <td>13</td>\n",
       "      <td>СВЕТ</td>\n",
       "    </tr>\n",
       "    <tr>\n",
       "      <th>13</th>\n",
       "      <td>14</td>\n",
       "      <td>ХРАНЕНИЕ</td>\n",
       "    </tr>\n",
       "    <tr>\n",
       "      <th>14</th>\n",
       "      <td>15</td>\n",
       "      <td>КУХНИ</td>\n",
       "    </tr>\n",
       "  </tbody>\n",
       "</table>\n",
       "</div>"
      ],
      "text/plain": [
       "    group_id            group_name\n",
       "0          1        СТРОЙМАТЕРИАЛЫ\n",
       "1          2     СТОЛЯРНЫЕ ИЗДЕЛИЯ\n",
       "2          3         ЭЛЕКТРОТОВАРЫ\n",
       "3          4           ИНСТРУМЕНТЫ\n",
       "4          5    НАПОЛЬНЫЕ ПОКРЫТИЯ\n",
       "5          6                ПЛИТКА\n",
       "6          7            САНТЕХНИКА\n",
       "7          8         ВОДОСНАБЖЕНИЕ\n",
       "8          9                   САД\n",
       "9         10      СКОБЯНЫЕ ИЗДЕЛИЯ\n",
       "10        11                КРАСКИ\n",
       "11        12  ОТДЕЛОЧНЫЕ МАТЕРИАЛЫ\n",
       "12        13                  СВЕТ\n",
       "13        14              ХРАНЕНИЕ\n",
       "14        15                 КУХНИ"
      ]
     },
     "execution_count": 3,
     "metadata": {},
     "output_type": "execute_result"
    }
   ],
   "source": [
    "depts = items[['group_id','group_name']].drop_duplicates(keep = 'first').sort_values(by = 'group_id').reset_index(drop = True)\n",
    "\n",
    "depts"
   ]
  },
  {
   "cell_type": "markdown",
   "id": "7988f464-5194-4362-9738-aaf577be4383",
   "metadata": {},
   "source": [
    "## 1_22_11_01__23_01_31"
   ]
  },
  {
   "cell_type": "code",
   "execution_count": 4,
   "id": "c9f0871f-5a3b-478d-b01d-d884f07704a9",
   "metadata": {},
   "outputs": [],
   "source": [
    "metrics_1_22_11_01__23_01_31 = pd.read_csv('metrics_1_22_11_01__23_01_31.csv', index_col = 0)\n",
    "\n",
    "fed_core_1_22_11_01__23_01_31 = metrics_1_22_11_01__23_01_31.groupby(['line_item_id'], as_index=False).core.sum().query('core == 218')\n",
    "\n",
    "fed_core_1_22_11_01__23_01_31 = fed_core_1_22_11_01__23_01_31.drop('core', axis = 1)\n",
    "\n",
    "fed_core_1_22_11_01__23_01_31['fed_core_in'] = '1_22_11_01__23_01_31'\n",
    "\n",
    "fed_core_1_22_11_01__23_01_31 = fed_core_1_22_11_01__23_01_31.reset_index(drop = True)\n",
    "\n",
    "del(metrics_1_22_11_01__23_01_31)"
   ]
  },
  {
   "cell_type": "markdown",
   "id": "574a49fc-46b7-42d5-a4ab-6faf4c7168d1",
   "metadata": {},
   "source": [
    "## 2_22_11_15__23_02_15"
   ]
  },
  {
   "cell_type": "code",
   "execution_count": 5,
   "id": "2406beb3-12f9-46cf-884d-3d7ae274ec85",
   "metadata": {},
   "outputs": [],
   "source": [
    "metrics_2_22_11_15__23_02_15 = pd.read_csv('metrics_2_22_11_15__23_02_15.csv', index_col = 0)\n",
    "\n",
    "fed_core_2_22_11_15__23_02_15 = metrics_2_22_11_15__23_02_15.groupby(['line_item_id'], as_index=False).core.sum().query('core == 218')\n",
    "\n",
    "fed_core_2_22_11_15__23_02_15 = fed_core_2_22_11_15__23_02_15.drop('core', axis = 1)\n",
    "\n",
    "fed_core_2_22_11_15__23_02_15['fed_core_in'] = '2_22_11_15__23_02_15'\n",
    "\n",
    "fed_core_2_22_11_15__23_02_15 = fed_core_2_22_11_15__23_02_15.reset_index(drop = True)\n",
    "\n",
    "del(metrics_2_22_11_15__23_02_15)"
   ]
  },
  {
   "cell_type": "markdown",
   "id": "92ec3261-c93e-493a-9633-5f1f8df34e8b",
   "metadata": {},
   "source": [
    "## 3_22_12_01__23_02_31"
   ]
  },
  {
   "cell_type": "code",
   "execution_count": 6,
   "id": "63b5888d-9924-47e7-8d9a-c878880e7e24",
   "metadata": {},
   "outputs": [],
   "source": [
    "metrics_3_22_12_01__23_02_31 = pd.read_csv('metrics_3_22_12_01__23_02_31.csv', index_col = 0)\n",
    "\n",
    "fed_core_3_22_12_01__23_02_31 = metrics_3_22_12_01__23_02_31.groupby(['line_item_id'], as_index=False).core.sum().query('core == 218')\n",
    "\n",
    "fed_core_3_22_12_01__23_02_31 = fed_core_3_22_12_01__23_02_31.drop('core', axis = 1)\n",
    "\n",
    "fed_core_3_22_12_01__23_02_31['fed_core_in'] = '3_22_12_01__23_02_31'\n",
    "\n",
    "fed_core_3_22_12_01__23_02_31 = fed_core_3_22_12_01__23_02_31.reset_index(drop = True)\n",
    "\n",
    "del(metrics_3_22_12_01__23_02_31)"
   ]
  },
  {
   "cell_type": "markdown",
   "id": "e4356131-6f0f-4ed9-b7f3-2c62a17b5966",
   "metadata": {},
   "source": [
    "## 4_22_12_15__23_03_15"
   ]
  },
  {
   "cell_type": "code",
   "execution_count": 7,
   "id": "3aefa646-8593-40c2-b842-ce7a9bfd02d4",
   "metadata": {},
   "outputs": [],
   "source": [
    "metrics_4_22_12_15__23_03_15 = pd.read_csv('metrics_4_22_12_15__23_03_15.csv', index_col = 0)\n",
    "\n",
    "fed_core_4_22_12_15__23_03_15 = metrics_4_22_12_15__23_03_15.groupby(['line_item_id'], as_index=False).core.sum().query('core == 218')\n",
    "\n",
    "fed_core_4_22_12_15__23_03_15 = fed_core_4_22_12_15__23_03_15.drop('core', axis = 1)\n",
    "\n",
    "fed_core_4_22_12_15__23_03_15['fed_core_in'] = '4_22_12_15__23_03_15'\n",
    "\n",
    "fed_core_4_22_12_15__23_03_15 = fed_core_4_22_12_15__23_03_15.reset_index(drop = True)\n",
    "\n",
    "del(metrics_4_22_12_15__23_03_15)"
   ]
  },
  {
   "cell_type": "markdown",
   "id": "938ccd3f-e793-4697-b98f-8280775af98a",
   "metadata": {},
   "source": [
    "## 5_23_01_01__23_03_31"
   ]
  },
  {
   "cell_type": "code",
   "execution_count": 8,
   "id": "f1e29116-5988-4a6e-a064-eae84905439d",
   "metadata": {},
   "outputs": [],
   "source": [
    "metrics_5_23_01_01__23_03_31 = pd.read_csv('metrics_5_23_01_01__23_03_31.csv', index_col = 0)\n",
    "\n",
    "fed_core_5_23_01_01__23_03_31 = metrics_5_23_01_01__23_03_31.groupby(['line_item_id'], as_index=False).core.sum().query('core == 218')\n",
    "\n",
    "fed_core_5_23_01_01__23_03_31 = fed_core_5_23_01_01__23_03_31.drop('core', axis = 1)\n",
    "\n",
    "fed_core_5_23_01_01__23_03_31['fed_core_in'] = '5_23_01_01__23_03_31'\n",
    "\n",
    "fed_core_5_23_01_01__23_03_31 = fed_core_5_23_01_01__23_03_31.reset_index(drop = True)\n",
    "\n",
    "del(metrics_5_23_01_01__23_03_31)"
   ]
  },
  {
   "cell_type": "markdown",
   "id": "16a6eeb8-7416-4287-958d-c5184be0ea1b",
   "metadata": {},
   "source": [
    "## 6_23_01_15__23_04_15"
   ]
  },
  {
   "cell_type": "code",
   "execution_count": 9,
   "id": "53fd0439-edd3-4359-9723-545c43fcc8ea",
   "metadata": {},
   "outputs": [],
   "source": [
    "metrics_6_23_01_15__23_04_15 = pd.read_csv('metrics_6_23_01_15__23_04_15.csv', index_col = 0)\n",
    "\n",
    "fed_core_6_23_01_15__23_04_15 = metrics_6_23_01_15__23_04_15.groupby(['line_item_id'], as_index=False).core.sum().query('core == 218')\n",
    "\n",
    "fed_core_6_23_01_15__23_04_15 = fed_core_6_23_01_15__23_04_15.drop('core', axis = 1)\n",
    "\n",
    "fed_core_6_23_01_15__23_04_15['fed_core_in'] = '6_23_01_15__23_04_15'\n",
    "\n",
    "fed_core_6_23_01_15__23_04_15 = fed_core_6_23_01_15__23_04_15.reset_index(drop = True)\n",
    "\n",
    "del(metrics_6_23_01_15__23_04_15)"
   ]
  },
  {
   "cell_type": "markdown",
   "id": "2f50f35b-d212-41b5-937c-32bd99cf7660",
   "metadata": {},
   "source": [
    "## 7_23_02_01__23_04_31"
   ]
  },
  {
   "cell_type": "code",
   "execution_count": 10,
   "id": "778c0375-22ba-4069-992f-af5f3e774ffc",
   "metadata": {},
   "outputs": [],
   "source": [
    "metrics_7_23_02_01__23_04_31 = pd.read_csv('metrics_7_23_02_01__23_04_31.csv', index_col = 0)\n",
    "\n",
    "fed_core_7_23_02_01__23_04_31 = metrics_7_23_02_01__23_04_31.groupby(['line_item_id'], as_index=False).core.sum().query('core == 218')\n",
    "\n",
    "fed_core_7_23_02_01__23_04_31 = fed_core_7_23_02_01__23_04_31.drop('core', axis = 1)\n",
    "\n",
    "fed_core_7_23_02_01__23_04_31['fed_core_in'] = '7_23_02_01__23_04_31'\n",
    "\n",
    "fed_core_7_23_02_01__23_04_31 = fed_core_7_23_02_01__23_04_31.reset_index(drop = True)\n",
    "\n",
    "del(metrics_7_23_02_01__23_04_31)"
   ]
  },
  {
   "cell_type": "markdown",
   "id": "d26d6895-c3ae-44ef-acce-0c688dfcdbca",
   "metadata": {},
   "source": [
    "## 8_23_02_15__23_05_15"
   ]
  },
  {
   "cell_type": "code",
   "execution_count": 11,
   "id": "3991f53c-cd5d-41e9-a926-5786518c9d6e",
   "metadata": {},
   "outputs": [],
   "source": [
    "metrics_8_23_02_15__23_05_15 = pd.read_csv('metrics_8_23_02_15__23_05_15.csv', index_col = 0)\n",
    "\n",
    "fed_core_8_23_02_15__23_05_15 = metrics_8_23_02_15__23_05_15.groupby(['line_item_id'], as_index=False).core.sum().query('core == 218')\n",
    "\n",
    "fed_core_8_23_02_15__23_05_15 = fed_core_8_23_02_15__23_05_15.drop('core', axis = 1)\n",
    "\n",
    "fed_core_8_23_02_15__23_05_15['fed_core_in'] = '8_23_02_15__23_05_15'\n",
    "\n",
    "fed_core_8_23_02_15__23_05_15 = fed_core_8_23_02_15__23_05_15.reset_index(drop = True)\n",
    "\n",
    "del(metrics_8_23_02_15__23_05_15)"
   ]
  },
  {
   "cell_type": "markdown",
   "id": "9eed334a-2567-4b10-b4aa-0629abcd133f",
   "metadata": {},
   "source": [
    "## 9_23_03_01__23_05_31"
   ]
  },
  {
   "cell_type": "code",
   "execution_count": 12,
   "id": "8e404e12-5e30-4db5-8597-ff3e26e7db65",
   "metadata": {},
   "outputs": [],
   "source": [
    "metrics_9_23_03_01__23_05_31 = pd.read_csv('metrics_9_23_03_01__23_05_31.csv', index_col = 0)\n",
    "\n",
    "fed_core_9_23_03_01__23_05_31 = metrics_9_23_03_01__23_05_31.groupby(['line_item_id'], as_index=False).core.sum().query('core == 218')\n",
    "\n",
    "fed_core_9_23_03_01__23_05_31 = fed_core_9_23_03_01__23_05_31.drop('core', axis = 1)\n",
    "\n",
    "fed_core_9_23_03_01__23_05_31['fed_core_in'] = '9_23_03_01__23_05_31'\n",
    "\n",
    "fed_core_9_23_03_01__23_05_31 = fed_core_9_23_03_01__23_05_31.reset_index(drop = True)\n",
    "\n",
    "del(metrics_9_23_03_01__23_05_31)"
   ]
  },
  {
   "cell_type": "markdown",
   "id": "dd9b88da-64ba-49a4-ac2e-66068d9dd8cc",
   "metadata": {},
   "source": [
    "# Обзор пересечений"
   ]
  },
  {
   "cell_type": "code",
   "execution_count": 13,
   "id": "983dc807-543c-4d5f-a8a5-15d263041bf5",
   "metadata": {},
   "outputs": [
    {
     "data": {
      "text/plain": [
       "4032"
      ]
     },
     "metadata": {},
     "output_type": "display_data"
    },
    {
     "data": {
      "text/plain": [
       "3980"
      ]
     },
     "metadata": {},
     "output_type": "display_data"
    },
    {
     "data": {
      "text/plain": [
       "3934"
      ]
     },
     "metadata": {},
     "output_type": "display_data"
    },
    {
     "data": {
      "text/plain": [
       "3813"
      ]
     },
     "metadata": {},
     "output_type": "display_data"
    },
    {
     "data": {
      "text/plain": [
       "3790"
      ]
     },
     "metadata": {},
     "output_type": "display_data"
    },
    {
     "data": {
      "text/plain": [
       "3845"
      ]
     },
     "metadata": {},
     "output_type": "display_data"
    },
    {
     "data": {
      "text/plain": [
       "3914"
      ]
     },
     "metadata": {},
     "output_type": "display_data"
    },
    {
     "data": {
      "text/plain": [
       "3928"
      ]
     },
     "metadata": {},
     "output_type": "display_data"
    },
    {
     "data": {
      "text/plain": [
       "3981"
      ]
     },
     "metadata": {},
     "output_type": "display_data"
    }
   ],
   "source": [
    "display(len(fed_core_1_22_11_01__23_01_31))\n",
    "display(len(fed_core_2_22_11_15__23_02_15))\n",
    "display(len(fed_core_3_22_12_01__23_02_31))\n",
    "display(len(fed_core_4_22_12_15__23_03_15))\n",
    "display(len(fed_core_5_23_01_01__23_03_31))\n",
    "display(len(fed_core_6_23_01_15__23_04_15))\n",
    "display(len(fed_core_7_23_02_01__23_04_31))\n",
    "display(len(fed_core_8_23_02_15__23_05_15))\n",
    "display(len(fed_core_9_23_03_01__23_05_31))"
   ]
  },
  {
   "cell_type": "code",
   "execution_count": 14,
   "id": "ff80bf6e-79fa-440b-839f-1ded47ceae35",
   "metadata": {},
   "outputs": [],
   "source": [
    "fed_core = pd.concat([fed_core_1_22_11_01__23_01_31,\n",
    "                      fed_core_2_22_11_15__23_02_15,\n",
    "                      fed_core_3_22_12_01__23_02_31,\n",
    "                      fed_core_4_22_12_15__23_03_15,\n",
    "                      fed_core_5_23_01_01__23_03_31,\n",
    "                      fed_core_6_23_01_15__23_04_15,\n",
    "                      fed_core_7_23_02_01__23_04_31,\n",
    "                      fed_core_8_23_02_15__23_05_15,\n",
    "                      fed_core_9_23_03_01__23_05_31\n",
    "                      ], ignore_index=True)"
   ]
  },
  {
   "cell_type": "code",
   "execution_count": 15,
   "id": "5081c0a3-e47e-4df1-8f77-be0bacdcbeeb",
   "metadata": {},
   "outputs": [
    {
     "data": {
      "text/html": [
       "<div>\n",
       "<style scoped>\n",
       "    .dataframe tbody tr th:only-of-type {\n",
       "        vertical-align: middle;\n",
       "    }\n",
       "\n",
       "    .dataframe tbody tr th {\n",
       "        vertical-align: top;\n",
       "    }\n",
       "\n",
       "    .dataframe thead th {\n",
       "        text-align: right;\n",
       "    }\n",
       "</style>\n",
       "<table border=\"1\" class=\"dataframe\">\n",
       "  <thead>\n",
       "    <tr style=\"text-align: right;\">\n",
       "      <th></th>\n",
       "      <th>line_item_id</th>\n",
       "      <th>fed_core_in</th>\n",
       "    </tr>\n",
       "  </thead>\n",
       "  <tbody>\n",
       "    <tr>\n",
       "      <th>0</th>\n",
       "      <td>923536</td>\n",
       "      <td>1_22_11_01__23_01_31</td>\n",
       "    </tr>\n",
       "    <tr>\n",
       "      <th>1</th>\n",
       "      <td>923538</td>\n",
       "      <td>1_22_11_01__23_01_31</td>\n",
       "    </tr>\n",
       "    <tr>\n",
       "      <th>2</th>\n",
       "      <td>923540</td>\n",
       "      <td>1_22_11_01__23_01_31</td>\n",
       "    </tr>\n",
       "    <tr>\n",
       "      <th>3</th>\n",
       "      <td>923544</td>\n",
       "      <td>1_22_11_01__23_01_31</td>\n",
       "    </tr>\n",
       "    <tr>\n",
       "      <th>4</th>\n",
       "      <td>923546</td>\n",
       "      <td>1_22_11_01__23_01_31</td>\n",
       "    </tr>\n",
       "    <tr>\n",
       "      <th>...</th>\n",
       "      <td>...</td>\n",
       "      <td>...</td>\n",
       "    </tr>\n",
       "    <tr>\n",
       "      <th>35212</th>\n",
       "      <td>89195487</td>\n",
       "      <td>9_23_03_01__23_05_31</td>\n",
       "    </tr>\n",
       "    <tr>\n",
       "      <th>35213</th>\n",
       "      <td>89793498</td>\n",
       "      <td>9_23_03_01__23_05_31</td>\n",
       "    </tr>\n",
       "    <tr>\n",
       "      <th>35214</th>\n",
       "      <td>89795158</td>\n",
       "      <td>9_23_03_01__23_05_31</td>\n",
       "    </tr>\n",
       "    <tr>\n",
       "      <th>35215</th>\n",
       "      <td>89795518</td>\n",
       "      <td>9_23_03_01__23_05_31</td>\n",
       "    </tr>\n",
       "    <tr>\n",
       "      <th>35216</th>\n",
       "      <td>89830447</td>\n",
       "      <td>9_23_03_01__23_05_31</td>\n",
       "    </tr>\n",
       "  </tbody>\n",
       "</table>\n",
       "<p>35217 rows × 2 columns</p>\n",
       "</div>"
      ],
      "text/plain": [
       "       line_item_id           fed_core_in\n",
       "0            923536  1_22_11_01__23_01_31\n",
       "1            923538  1_22_11_01__23_01_31\n",
       "2            923540  1_22_11_01__23_01_31\n",
       "3            923544  1_22_11_01__23_01_31\n",
       "4            923546  1_22_11_01__23_01_31\n",
       "...             ...                   ...\n",
       "35212      89195487  9_23_03_01__23_05_31\n",
       "35213      89793498  9_23_03_01__23_05_31\n",
       "35214      89795158  9_23_03_01__23_05_31\n",
       "35215      89795518  9_23_03_01__23_05_31\n",
       "35216      89830447  9_23_03_01__23_05_31\n",
       "\n",
       "[35217 rows x 2 columns]"
      ]
     },
     "execution_count": 15,
     "metadata": {},
     "output_type": "execute_result"
    }
   ],
   "source": [
    "fed_core"
   ]
  },
  {
   "cell_type": "code",
   "execution_count": 16,
   "id": "98e49c45-2114-41e2-b4fd-a2af5f15de11",
   "metadata": {},
   "outputs": [
    {
     "data": {
      "text/plain": [
       "6394"
      ]
     },
     "execution_count": 16,
     "metadata": {},
     "output_type": "execute_result"
    }
   ],
   "source": [
    "fed_core.line_item_id.nunique()"
   ]
  },
  {
   "cell_type": "code",
   "execution_count": 17,
   "id": "27349b76-6c96-4b51-a589-45dbc4d64b0b",
   "metadata": {},
   "outputs": [
    {
     "data": {
      "text/html": [
       "<div>\n",
       "<style scoped>\n",
       "    .dataframe tbody tr th:only-of-type {\n",
       "        vertical-align: middle;\n",
       "    }\n",
       "\n",
       "    .dataframe tbody tr th {\n",
       "        vertical-align: top;\n",
       "    }\n",
       "\n",
       "    .dataframe thead th {\n",
       "        text-align: right;\n",
       "    }\n",
       "</style>\n",
       "<table border=\"1\" class=\"dataframe\">\n",
       "  <thead>\n",
       "    <tr style=\"text-align: right;\">\n",
       "      <th></th>\n",
       "      <th>line_item_id</th>\n",
       "      <th>fed_core_in</th>\n",
       "    </tr>\n",
       "  </thead>\n",
       "  <tbody>\n",
       "    <tr>\n",
       "      <th>0</th>\n",
       "      <td>89830447</td>\n",
       "      <td>9</td>\n",
       "    </tr>\n",
       "    <tr>\n",
       "      <th>1</th>\n",
       "      <td>83387767</td>\n",
       "      <td>9</td>\n",
       "    </tr>\n",
       "    <tr>\n",
       "      <th>2</th>\n",
       "      <td>81990626</td>\n",
       "      <td>9</td>\n",
       "    </tr>\n",
       "    <tr>\n",
       "      <th>3</th>\n",
       "      <td>83387779</td>\n",
       "      <td>9</td>\n",
       "    </tr>\n",
       "    <tr>\n",
       "      <th>4</th>\n",
       "      <td>83387777</td>\n",
       "      <td>9</td>\n",
       "    </tr>\n",
       "    <tr>\n",
       "      <th>...</th>\n",
       "      <td>...</td>\n",
       "      <td>...</td>\n",
       "    </tr>\n",
       "    <tr>\n",
       "      <th>6389</th>\n",
       "      <td>84732355</td>\n",
       "      <td>1</td>\n",
       "    </tr>\n",
       "    <tr>\n",
       "      <th>6390</th>\n",
       "      <td>82688363</td>\n",
       "      <td>1</td>\n",
       "    </tr>\n",
       "    <tr>\n",
       "      <th>6391</th>\n",
       "      <td>84734453</td>\n",
       "      <td>1</td>\n",
       "    </tr>\n",
       "    <tr>\n",
       "      <th>6392</th>\n",
       "      <td>82199030</td>\n",
       "      <td>1</td>\n",
       "    </tr>\n",
       "    <tr>\n",
       "      <th>6393</th>\n",
       "      <td>81871818</td>\n",
       "      <td>1</td>\n",
       "    </tr>\n",
       "  </tbody>\n",
       "</table>\n",
       "<p>6394 rows × 2 columns</p>\n",
       "</div>"
      ],
      "text/plain": [
       "      line_item_id  fed_core_in\n",
       "0         89830447            9\n",
       "1         83387767            9\n",
       "2         81990626            9\n",
       "3         83387779            9\n",
       "4         83387777            9\n",
       "...            ...          ...\n",
       "6389      84732355            1\n",
       "6390      82688363            1\n",
       "6391      84734453            1\n",
       "6392      82199030            1\n",
       "6393      81871818            1\n",
       "\n",
       "[6394 rows x 2 columns]"
      ]
     },
     "execution_count": 17,
     "metadata": {},
     "output_type": "execute_result"
    }
   ],
   "source": [
    "fed_core_gr = (fed_core.groupby(['line_item_id'],as_index = False)\n",
    "                       .agg({'fed_core_in': 'nunique'})\n",
    "                       .sort_values(by = 'fed_core_in', ascending = False)\n",
    "                       .reset_index(drop=True)\n",
    "               )\n",
    "\n",
    "fed_core_gr"
   ]
  },
  {
   "cell_type": "markdown",
   "id": "5b596f76-100a-4610-8c4b-6d40b11bbd4f",
   "metadata": {},
   "source": [
    "# Создание таблицы всех артикулов, попадавших в федеральное ядро"
   ]
  },
  {
   "cell_type": "code",
   "execution_count": 18,
   "id": "cd0e6656-e3f8-4d3b-8be5-0a7957603cfa",
   "metadata": {},
   "outputs": [],
   "source": [
    "fed_core_all = fed_core[['line_item_id']].merge(items, on = 'line_item_id').drop_duplicates(keep = 'first').reset_index(drop=True)"
   ]
  },
  {
   "cell_type": "code",
   "execution_count": 19,
   "id": "ff1fa01f-94db-4fe7-96e4-b41ed38f887e",
   "metadata": {},
   "outputs": [
    {
     "data": {
      "text/html": [
       "<div>\n",
       "<style scoped>\n",
       "    .dataframe tbody tr th:only-of-type {\n",
       "        vertical-align: middle;\n",
       "    }\n",
       "\n",
       "    .dataframe tbody tr th {\n",
       "        vertical-align: top;\n",
       "    }\n",
       "\n",
       "    .dataframe thead th {\n",
       "        text-align: right;\n",
       "    }\n",
       "</style>\n",
       "<table border=\"1\" class=\"dataframe\">\n",
       "  <thead>\n",
       "    <tr style=\"text-align: right;\">\n",
       "      <th></th>\n",
       "      <th>line_item_id</th>\n",
       "      <th>item_name</th>\n",
       "      <th>group_id</th>\n",
       "      <th>group_name</th>\n",
       "    </tr>\n",
       "  </thead>\n",
       "  <tbody>\n",
       "    <tr>\n",
       "      <th>0</th>\n",
       "      <td>923536</td>\n",
       "      <td>ГРУНТ AXTON Д/СУХИХ ПОМЕЩЕНИЙ, 1 Л</td>\n",
       "      <td>11</td>\n",
       "      <td>КРАСКИ</td>\n",
       "    </tr>\n",
       "    <tr>\n",
       "      <th>1</th>\n",
       "      <td>923538</td>\n",
       "      <td>Грунт для сухих помещений axton 1л</td>\n",
       "      <td>1</td>\n",
       "      <td>СТРОЙМАТЕРИАЛЫ</td>\n",
       "    </tr>\n",
       "    <tr>\n",
       "      <th>2</th>\n",
       "      <td>923540</td>\n",
       "      <td>ГРУНТ AXTON Д/СУХИХ ПОМЕЩЕНИЙ, 5 Л</td>\n",
       "      <td>11</td>\n",
       "      <td>КРАСКИ</td>\n",
       "    </tr>\n",
       "    <tr>\n",
       "      <th>3</th>\n",
       "      <td>923544</td>\n",
       "      <td>ГРУНТ ДЛЯ СУХИХ ПОМЕЩЕНИЙ AXTON 5Л</td>\n",
       "      <td>1</td>\n",
       "      <td>СТРОЙМАТЕРИАЛЫ</td>\n",
       "    </tr>\n",
       "    <tr>\n",
       "      <th>4</th>\n",
       "      <td>923546</td>\n",
       "      <td>Грунт Axton п. пок.обоев д.сух пом 5л</td>\n",
       "      <td>12</td>\n",
       "      <td>ОТДЕЛОЧНЫЕ МАТЕРИАЛЫ</td>\n",
       "    </tr>\n",
       "    <tr>\n",
       "      <th>...</th>\n",
       "      <td>...</td>\n",
       "      <td>...</td>\n",
       "      <td>...</td>\n",
       "      <td>...</td>\n",
       "    </tr>\n",
       "    <tr>\n",
       "      <th>6382</th>\n",
       "      <td>87289059</td>\n",
       "      <td>ЧАСЫ НАСТЕН. ЭКОНОМ СЕРЫЕ D30,5 СМ</td>\n",
       "      <td>12</td>\n",
       "      <td>ОТДЕЛОЧНЫЕ МАТЕРИАЛЫ</td>\n",
       "    </tr>\n",
       "    <tr>\n",
       "      <th>6383</th>\n",
       "      <td>87289062</td>\n",
       "      <td>ЧАСЫ НАСТЕН. ЭКОНОМ СЕРО-СИНИЕ D30,5 СМ</td>\n",
       "      <td>12</td>\n",
       "      <td>ОТДЕЛОЧНЫЕ МАТЕРИАЛЫ</td>\n",
       "    </tr>\n",
       "    <tr>\n",
       "      <th>6384</th>\n",
       "      <td>89133474</td>\n",
       "      <td>Ремень пряж 2,5X275CM 200КГ STANDERS 2шт</td>\n",
       "      <td>10</td>\n",
       "      <td>СКОБЯНЫЕ ИЗДЕЛИЯ</td>\n",
       "    </tr>\n",
       "    <tr>\n",
       "      <th>6385</th>\n",
       "      <td>89134267</td>\n",
       "      <td>Ремень защ 38MMX500СM 1100 кг STANDERS</td>\n",
       "      <td>10</td>\n",
       "      <td>СКОБЯНЫЕ ИЗДЕЛИЯ</td>\n",
       "    </tr>\n",
       "    <tr>\n",
       "      <th>6386</th>\n",
       "      <td>89793498</td>\n",
       "      <td>УДЛИНИТЕЛЬ ДЛЯ ПЕРЬЕВЫХ СВЕРЛ 305ММ</td>\n",
       "      <td>4</td>\n",
       "      <td>ИНСТРУМЕНТЫ</td>\n",
       "    </tr>\n",
       "  </tbody>\n",
       "</table>\n",
       "<p>6387 rows × 4 columns</p>\n",
       "</div>"
      ],
      "text/plain": [
       "      line_item_id                                 item_name  group_id  \\\n",
       "0           923536        ГРУНТ AXTON Д/СУХИХ ПОМЕЩЕНИЙ, 1 Л        11   \n",
       "1           923538       Грунт для сухих помещений axton 1л          1   \n",
       "2           923540        ГРУНТ AXTON Д/СУХИХ ПОМЕЩЕНИЙ, 5 Л        11   \n",
       "3           923544        ГРУНТ ДЛЯ СУХИХ ПОМЕЩЕНИЙ AXTON 5Л         1   \n",
       "4           923546     Грунт Axton п. пок.обоев д.сух пом 5л        12   \n",
       "...            ...                                       ...       ...   \n",
       "6382      87289059        ЧАСЫ НАСТЕН. ЭКОНОМ СЕРЫЕ D30,5 СМ        12   \n",
       "6383      87289062   ЧАСЫ НАСТЕН. ЭКОНОМ СЕРО-СИНИЕ D30,5 СМ        12   \n",
       "6384      89133474  Ремень пряж 2,5X275CM 200КГ STANDERS 2шт        10   \n",
       "6385      89134267    Ремень защ 38MMX500СM 1100 кг STANDERS        10   \n",
       "6386      89793498       УДЛИНИТЕЛЬ ДЛЯ ПЕРЬЕВЫХ СВЕРЛ 305ММ         4   \n",
       "\n",
       "                group_name  \n",
       "0                   КРАСКИ  \n",
       "1           СТРОЙМАТЕРИАЛЫ  \n",
       "2                   КРАСКИ  \n",
       "3           СТРОЙМАТЕРИАЛЫ  \n",
       "4     ОТДЕЛОЧНЫЕ МАТЕРИАЛЫ  \n",
       "...                    ...  \n",
       "6382  ОТДЕЛОЧНЫЕ МАТЕРИАЛЫ  \n",
       "6383  ОТДЕЛОЧНЫЕ МАТЕРИАЛЫ  \n",
       "6384      СКОБЯНЫЕ ИЗДЕЛИЯ  \n",
       "6385      СКОБЯНЫЕ ИЗДЕЛИЯ  \n",
       "6386           ИНСТРУМЕНТЫ  \n",
       "\n",
       "[6387 rows x 4 columns]"
      ]
     },
     "execution_count": 19,
     "metadata": {},
     "output_type": "execute_result"
    }
   ],
   "source": [
    "fed_core_all"
   ]
  },
  {
   "cell_type": "markdown",
   "id": "518fe713-cd1b-4eff-a8b2-4d49d511e6c5",
   "metadata": {},
   "source": [
    "# Создание таблиц артикулов стабильного федерального ядра"
   ]
  },
  {
   "cell_type": "code",
   "execution_count": 20,
   "id": "f8c51619-8362-4ef4-9441-0526851853ef",
   "metadata": {},
   "outputs": [],
   "source": [
    "fed_core_stable = fed_core_gr.query('fed_core_in == 9')\n",
    "\n",
    "fed_core_stable = fed_core_stable[['line_item_id']].merge(items, on = 'line_item_id').reset_index(drop=True)"
   ]
  },
  {
   "cell_type": "code",
   "execution_count": 21,
   "id": "b8d9a8b6-79cb-4b9e-871f-4ad71e2ef316",
   "metadata": {},
   "outputs": [
    {
     "data": {
      "text/html": [
       "<div>\n",
       "<style scoped>\n",
       "    .dataframe tbody tr th:only-of-type {\n",
       "        vertical-align: middle;\n",
       "    }\n",
       "\n",
       "    .dataframe tbody tr th {\n",
       "        vertical-align: top;\n",
       "    }\n",
       "\n",
       "    .dataframe thead th {\n",
       "        text-align: right;\n",
       "    }\n",
       "</style>\n",
       "<table border=\"1\" class=\"dataframe\">\n",
       "  <thead>\n",
       "    <tr style=\"text-align: right;\">\n",
       "      <th></th>\n",
       "      <th>line_item_id</th>\n",
       "      <th>item_name</th>\n",
       "      <th>group_id</th>\n",
       "      <th>group_name</th>\n",
       "    </tr>\n",
       "  </thead>\n",
       "  <tbody>\n",
       "    <tr>\n",
       "      <th>0</th>\n",
       "      <td>89830447</td>\n",
       "      <td>Л-па led GX53 7Вт 750Лм мат хол Volpe</td>\n",
       "      <td>13</td>\n",
       "      <td>СВЕТ</td>\n",
       "    </tr>\n",
       "    <tr>\n",
       "      <th>1</th>\n",
       "      <td>83387767</td>\n",
       "      <td>ДЮБ РАСП/ШУР НЕЙЛ 8Х40 10ШТ STANDERS</td>\n",
       "      <td>10</td>\n",
       "      <td>СКОБЯНЫЕ ИЗДЕЛИЯ</td>\n",
       "    </tr>\n",
       "    <tr>\n",
       "      <th>2</th>\n",
       "      <td>81990626</td>\n",
       "      <td>Короб полиэстер 31Х31Х31 GRANIT SPACEO</td>\n",
       "      <td>14</td>\n",
       "      <td>ХРАНЕНИЕ</td>\n",
       "    </tr>\n",
       "    <tr>\n",
       "      <th>3</th>\n",
       "      <td>83387779</td>\n",
       "      <td>ДЮБ РАСП/ШУР НЕЙЛ 12Х100 4ШТ STANDERS</td>\n",
       "      <td>10</td>\n",
       "      <td>СКОБЯНЫЕ ИЗДЕЛИЯ</td>\n",
       "    </tr>\n",
       "    <tr>\n",
       "      <th>4</th>\n",
       "      <td>83387777</td>\n",
       "      <td>ДЮБ РАСП/ШУР НЕЙЛ 12Х60 4ШТ STANDERS</td>\n",
       "      <td>10</td>\n",
       "      <td>СКОБЯНЫЕ ИЗДЕЛИЯ</td>\n",
       "    </tr>\n",
       "    <tr>\n",
       "      <th>...</th>\n",
       "      <td>...</td>\n",
       "      <td>...</td>\n",
       "      <td>...</td>\n",
       "      <td>...</td>\n",
       "    </tr>\n",
       "    <tr>\n",
       "      <th>1986</th>\n",
       "      <td>84535149</td>\n",
       "      <td>Аромат/дома Hygge /11 Пляж Вайкики 50 мл</td>\n",
       "      <td>12</td>\n",
       "      <td>ОТДЕЛОЧНЫЕ МАТЕРИАЛЫ</td>\n",
       "    </tr>\n",
       "    <tr>\n",
       "      <th>1987</th>\n",
       "      <td>82460699</td>\n",
       "      <td>Лоток 200х300х60мм серый</td>\n",
       "      <td>14</td>\n",
       "      <td>ХРАНЕНИЕ</td>\n",
       "    </tr>\n",
       "    <tr>\n",
       "      <th>1988</th>\n",
       "      <td>14249958</td>\n",
       "      <td>РУЧКА KERRON СКОБА 96 RS-006-96 BA AB</td>\n",
       "      <td>10</td>\n",
       "      <td>СКОБЯНЫЕ ИЗДЕЛИЯ</td>\n",
       "    </tr>\n",
       "    <tr>\n",
       "      <th>1989</th>\n",
       "      <td>14244006</td>\n",
       "      <td>Стяжка межсекционная 5х27мм никель (25 ш</td>\n",
       "      <td>10</td>\n",
       "      <td>СКОБЯНЫЕ ИЗДЕЛИЯ</td>\n",
       "    </tr>\n",
       "    <tr>\n",
       "      <th>1990</th>\n",
       "      <td>14249069</td>\n",
       "      <td>Защёлка мод. 11 ролик бихром Amig</td>\n",
       "      <td>10</td>\n",
       "      <td>СКОБЯНЫЕ ИЗДЕЛИЯ</td>\n",
       "    </tr>\n",
       "  </tbody>\n",
       "</table>\n",
       "<p>1991 rows × 4 columns</p>\n",
       "</div>"
      ],
      "text/plain": [
       "      line_item_id                                 item_name  group_id  \\\n",
       "0         89830447     Л-па led GX53 7Вт 750Лм мат хол Volpe        13   \n",
       "1         83387767      ДЮБ РАСП/ШУР НЕЙЛ 8Х40 10ШТ STANDERS        10   \n",
       "2         81990626    Короб полиэстер 31Х31Х31 GRANIT SPACEO        14   \n",
       "3         83387779     ДЮБ РАСП/ШУР НЕЙЛ 12Х100 4ШТ STANDERS        10   \n",
       "4         83387777      ДЮБ РАСП/ШУР НЕЙЛ 12Х60 4ШТ STANDERS        10   \n",
       "...            ...                                       ...       ...   \n",
       "1986      84535149  Аромат/дома Hygge /11 Пляж Вайкики 50 мл        12   \n",
       "1987      82460699                  Лоток 200х300х60мм серый        14   \n",
       "1988      14249958     РУЧКА KERRON СКОБА 96 RS-006-96 BA AB        10   \n",
       "1989      14244006  Стяжка межсекционная 5х27мм никель (25 ш        10   \n",
       "1990      14249069         Защёлка мод. 11 ролик бихром Amig        10   \n",
       "\n",
       "                group_name  \n",
       "0                     СВЕТ  \n",
       "1         СКОБЯНЫЕ ИЗДЕЛИЯ  \n",
       "2                 ХРАНЕНИЕ  \n",
       "3         СКОБЯНЫЕ ИЗДЕЛИЯ  \n",
       "4         СКОБЯНЫЕ ИЗДЕЛИЯ  \n",
       "...                    ...  \n",
       "1986  ОТДЕЛОЧНЫЕ МАТЕРИАЛЫ  \n",
       "1987              ХРАНЕНИЕ  \n",
       "1988      СКОБЯНЫЕ ИЗДЕЛИЯ  \n",
       "1989      СКОБЯНЫЕ ИЗДЕЛИЯ  \n",
       "1990      СКОБЯНЫЕ ИЗДЕЛИЯ  \n",
       "\n",
       "[1991 rows x 4 columns]"
      ]
     },
     "execution_count": 21,
     "metadata": {},
     "output_type": "execute_result"
    }
   ],
   "source": [
    "fed_core_stable"
   ]
  },
  {
   "cell_type": "markdown",
   "id": "afad77e9-c724-41cd-871d-25bb6075bec2",
   "metadata": {},
   "source": [
    "# Сводная таблица"
   ]
  },
  {
   "cell_type": "code",
   "execution_count": 22,
   "id": "55b90eec-c160-4f66-b22b-5028e2e68d9f",
   "metadata": {},
   "outputs": [
    {
     "data": {
      "text/html": [
       "<div>\n",
       "<style scoped>\n",
       "    .dataframe tbody tr th:only-of-type {\n",
       "        vertical-align: middle;\n",
       "    }\n",
       "\n",
       "    .dataframe tbody tr th {\n",
       "        vertical-align: top;\n",
       "    }\n",
       "\n",
       "    .dataframe thead th {\n",
       "        text-align: right;\n",
       "    }\n",
       "</style>\n",
       "<table border=\"1\" class=\"dataframe\">\n",
       "  <thead>\n",
       "    <tr style=\"text-align: right;\">\n",
       "      <th></th>\n",
       "      <th>group_name</th>\n",
       "      <th>items_ever_in_fed_core</th>\n",
       "    </tr>\n",
       "  </thead>\n",
       "  <tbody>\n",
       "    <tr>\n",
       "      <th>0</th>\n",
       "      <td>ВОДОСНАБЖЕНИЕ</td>\n",
       "      <td>305</td>\n",
       "    </tr>\n",
       "    <tr>\n",
       "      <th>1</th>\n",
       "      <td>ИНСТРУМЕНТЫ</td>\n",
       "      <td>1178</td>\n",
       "    </tr>\n",
       "    <tr>\n",
       "      <th>2</th>\n",
       "      <td>КРАСКИ</td>\n",
       "      <td>820</td>\n",
       "    </tr>\n",
       "    <tr>\n",
       "      <th>3</th>\n",
       "      <td>КУХНИ</td>\n",
       "      <td>217</td>\n",
       "    </tr>\n",
       "    <tr>\n",
       "      <th>4</th>\n",
       "      <td>НАПОЛЬНЫЕ ПОКРЫТИЯ</td>\n",
       "      <td>199</td>\n",
       "    </tr>\n",
       "    <tr>\n",
       "      <th>5</th>\n",
       "      <td>ОТДЕЛОЧНЫЕ МАТЕРИАЛЫ</td>\n",
       "      <td>468</td>\n",
       "    </tr>\n",
       "    <tr>\n",
       "      <th>6</th>\n",
       "      <td>ПЛИТКА</td>\n",
       "      <td>67</td>\n",
       "    </tr>\n",
       "    <tr>\n",
       "      <th>7</th>\n",
       "      <td>САД</td>\n",
       "      <td>646</td>\n",
       "    </tr>\n",
       "    <tr>\n",
       "      <th>8</th>\n",
       "      <td>САНТЕХНИКА</td>\n",
       "      <td>332</td>\n",
       "    </tr>\n",
       "    <tr>\n",
       "      <th>9</th>\n",
       "      <td>СВЕТ</td>\n",
       "      <td>313</td>\n",
       "    </tr>\n",
       "    <tr>\n",
       "      <th>10</th>\n",
       "      <td>СКОБЯНЫЕ ИЗДЕЛИЯ</td>\n",
       "      <td>892</td>\n",
       "    </tr>\n",
       "    <tr>\n",
       "      <th>11</th>\n",
       "      <td>СТОЛЯРНЫЕ ИЗДЕЛИЯ</td>\n",
       "      <td>53</td>\n",
       "    </tr>\n",
       "    <tr>\n",
       "      <th>12</th>\n",
       "      <td>СТРОЙМАТЕРИАЛЫ</td>\n",
       "      <td>59</td>\n",
       "    </tr>\n",
       "    <tr>\n",
       "      <th>13</th>\n",
       "      <td>ХРАНЕНИЕ</td>\n",
       "      <td>217</td>\n",
       "    </tr>\n",
       "    <tr>\n",
       "      <th>14</th>\n",
       "      <td>ЭЛЕКТРОТОВАРЫ</td>\n",
       "      <td>621</td>\n",
       "    </tr>\n",
       "  </tbody>\n",
       "</table>\n",
       "</div>"
      ],
      "text/plain": [
       "              group_name  items_ever_in_fed_core\n",
       "0          ВОДОСНАБЖЕНИЕ                     305\n",
       "1            ИНСТРУМЕНТЫ                    1178\n",
       "2                 КРАСКИ                     820\n",
       "3                  КУХНИ                     217\n",
       "4     НАПОЛЬНЫЕ ПОКРЫТИЯ                     199\n",
       "5   ОТДЕЛОЧНЫЕ МАТЕРИАЛЫ                     468\n",
       "6                 ПЛИТКА                      67\n",
       "7                    САД                     646\n",
       "8             САНТЕХНИКА                     332\n",
       "9                   СВЕТ                     313\n",
       "10      СКОБЯНЫЕ ИЗДЕЛИЯ                     892\n",
       "11     СТОЛЯРНЫЕ ИЗДЕЛИЯ                      53\n",
       "12        СТРОЙМАТЕРИАЛЫ                      59\n",
       "13              ХРАНЕНИЕ                     217\n",
       "14         ЭЛЕКТРОТОВАРЫ                     621"
      ]
     },
     "execution_count": 22,
     "metadata": {},
     "output_type": "execute_result"
    }
   ],
   "source": [
    "fed_core_all_dept = (fed_core_all.groupby(['group_name'],as_index = False)\n",
    "                                 .agg({'line_item_id': 'nunique'})\n",
    "                                 .sort_values(by = 'group_name', ascending = True)\n",
    "                                 .reset_index(drop=True)\n",
    "                    )\n",
    "\n",
    "fed_core_all_dept.rename(columns = {'line_item_id':'items_ever_in_fed_core'}, inplace = True)\n",
    "\n",
    "fed_core_all_dept"
   ]
  },
  {
   "cell_type": "code",
   "execution_count": 23,
   "id": "903e2cd0-e632-40c2-8b5c-57f0cad91b76",
   "metadata": {},
   "outputs": [
    {
     "data": {
      "text/html": [
       "<div>\n",
       "<style scoped>\n",
       "    .dataframe tbody tr th:only-of-type {\n",
       "        vertical-align: middle;\n",
       "    }\n",
       "\n",
       "    .dataframe tbody tr th {\n",
       "        vertical-align: top;\n",
       "    }\n",
       "\n",
       "    .dataframe thead th {\n",
       "        text-align: right;\n",
       "    }\n",
       "</style>\n",
       "<table border=\"1\" class=\"dataframe\">\n",
       "  <thead>\n",
       "    <tr style=\"text-align: right;\">\n",
       "      <th></th>\n",
       "      <th>group_name</th>\n",
       "      <th>items_in_stable_fed_core</th>\n",
       "    </tr>\n",
       "  </thead>\n",
       "  <tbody>\n",
       "    <tr>\n",
       "      <th>0</th>\n",
       "      <td>ВОДОСНАБЖЕНИЕ</td>\n",
       "      <td>141</td>\n",
       "    </tr>\n",
       "    <tr>\n",
       "      <th>1</th>\n",
       "      <td>ИНСТРУМЕНТЫ</td>\n",
       "      <td>459</td>\n",
       "    </tr>\n",
       "    <tr>\n",
       "      <th>2</th>\n",
       "      <td>КРАСКИ</td>\n",
       "      <td>330</td>\n",
       "    </tr>\n",
       "    <tr>\n",
       "      <th>3</th>\n",
       "      <td>КУХНИ</td>\n",
       "      <td>76</td>\n",
       "    </tr>\n",
       "    <tr>\n",
       "      <th>4</th>\n",
       "      <td>НАПОЛЬНЫЕ ПОКРЫТИЯ</td>\n",
       "      <td>76</td>\n",
       "    </tr>\n",
       "    <tr>\n",
       "      <th>5</th>\n",
       "      <td>ОТДЕЛОЧНЫЕ МАТЕРИАЛЫ</td>\n",
       "      <td>122</td>\n",
       "    </tr>\n",
       "    <tr>\n",
       "      <th>6</th>\n",
       "      <td>ПЛИТКА</td>\n",
       "      <td>30</td>\n",
       "    </tr>\n",
       "    <tr>\n",
       "      <th>7</th>\n",
       "      <td>САД</td>\n",
       "      <td>45</td>\n",
       "    </tr>\n",
       "    <tr>\n",
       "      <th>8</th>\n",
       "      <td>САНТЕХНИКА</td>\n",
       "      <td>74</td>\n",
       "    </tr>\n",
       "    <tr>\n",
       "      <th>9</th>\n",
       "      <td>СВЕТ</td>\n",
       "      <td>59</td>\n",
       "    </tr>\n",
       "    <tr>\n",
       "      <th>10</th>\n",
       "      <td>СКОБЯНЫЕ ИЗДЕЛИЯ</td>\n",
       "      <td>211</td>\n",
       "    </tr>\n",
       "    <tr>\n",
       "      <th>11</th>\n",
       "      <td>СТОЛЯРНЫЕ ИЗДЕЛИЯ</td>\n",
       "      <td>15</td>\n",
       "    </tr>\n",
       "    <tr>\n",
       "      <th>12</th>\n",
       "      <td>СТРОЙМАТЕРИАЛЫ</td>\n",
       "      <td>26</td>\n",
       "    </tr>\n",
       "    <tr>\n",
       "      <th>13</th>\n",
       "      <td>ХРАНЕНИЕ</td>\n",
       "      <td>89</td>\n",
       "    </tr>\n",
       "    <tr>\n",
       "      <th>14</th>\n",
       "      <td>ЭЛЕКТРОТОВАРЫ</td>\n",
       "      <td>238</td>\n",
       "    </tr>\n",
       "  </tbody>\n",
       "</table>\n",
       "</div>"
      ],
      "text/plain": [
       "              group_name  items_in_stable_fed_core\n",
       "0          ВОДОСНАБЖЕНИЕ                       141\n",
       "1            ИНСТРУМЕНТЫ                       459\n",
       "2                 КРАСКИ                       330\n",
       "3                  КУХНИ                        76\n",
       "4     НАПОЛЬНЫЕ ПОКРЫТИЯ                        76\n",
       "5   ОТДЕЛОЧНЫЕ МАТЕРИАЛЫ                       122\n",
       "6                 ПЛИТКА                        30\n",
       "7                    САД                        45\n",
       "8             САНТЕХНИКА                        74\n",
       "9                   СВЕТ                        59\n",
       "10      СКОБЯНЫЕ ИЗДЕЛИЯ                       211\n",
       "11     СТОЛЯРНЫЕ ИЗДЕЛИЯ                        15\n",
       "12        СТРОЙМАТЕРИАЛЫ                        26\n",
       "13              ХРАНЕНИЕ                        89\n",
       "14         ЭЛЕКТРОТОВАРЫ                       238"
      ]
     },
     "execution_count": 23,
     "metadata": {},
     "output_type": "execute_result"
    }
   ],
   "source": [
    "fed_core_stable_dept = (fed_core_stable.groupby(['group_name'],as_index = False)\n",
    "                                       .agg({'line_item_id': 'nunique'})\n",
    "                                       .sort_values(by = 'group_name', ascending = True)\n",
    "                                       .reset_index(drop=True)\n",
    "                        )\n",
    "\n",
    "fed_core_stable_dept.rename(columns = {'line_item_id':'items_in_stable_fed_core'}, inplace = True)\n",
    "\n",
    "fed_core_stable_dept"
   ]
  },
  {
   "cell_type": "code",
   "execution_count": 24,
   "id": "06df1ac4-39b9-46b7-9a19-a99d07f26a58",
   "metadata": {},
   "outputs": [
    {
     "data": {
      "text/html": [
       "<div>\n",
       "<style scoped>\n",
       "    .dataframe tbody tr th:only-of-type {\n",
       "        vertical-align: middle;\n",
       "    }\n",
       "\n",
       "    .dataframe tbody tr th {\n",
       "        vertical-align: top;\n",
       "    }\n",
       "\n",
       "    .dataframe thead th {\n",
       "        text-align: right;\n",
       "    }\n",
       "</style>\n",
       "<table border=\"1\" class=\"dataframe\">\n",
       "  <thead>\n",
       "    <tr style=\"text-align: right;\">\n",
       "      <th></th>\n",
       "      <th>group_id</th>\n",
       "      <th>group_name</th>\n",
       "      <th>items_ever_in_fed_core</th>\n",
       "      <th>items_in_stable_fed_core</th>\n",
       "      <th>fed_core_stability</th>\n",
       "    </tr>\n",
       "  </thead>\n",
       "  <tbody>\n",
       "    <tr>\n",
       "      <th>0</th>\n",
       "      <td>1</td>\n",
       "      <td>СТРОЙМАТЕРИАЛЫ</td>\n",
       "      <td>59</td>\n",
       "      <td>26</td>\n",
       "      <td>44</td>\n",
       "    </tr>\n",
       "    <tr>\n",
       "      <th>1</th>\n",
       "      <td>2</td>\n",
       "      <td>СТОЛЯРНЫЕ ИЗДЕЛИЯ</td>\n",
       "      <td>53</td>\n",
       "      <td>15</td>\n",
       "      <td>28</td>\n",
       "    </tr>\n",
       "    <tr>\n",
       "      <th>2</th>\n",
       "      <td>3</td>\n",
       "      <td>ЭЛЕКТРОТОВАРЫ</td>\n",
       "      <td>621</td>\n",
       "      <td>238</td>\n",
       "      <td>38</td>\n",
       "    </tr>\n",
       "    <tr>\n",
       "      <th>3</th>\n",
       "      <td>4</td>\n",
       "      <td>ИНСТРУМЕНТЫ</td>\n",
       "      <td>1178</td>\n",
       "      <td>459</td>\n",
       "      <td>38</td>\n",
       "    </tr>\n",
       "    <tr>\n",
       "      <th>4</th>\n",
       "      <td>5</td>\n",
       "      <td>НАПОЛЬНЫЕ ПОКРЫТИЯ</td>\n",
       "      <td>199</td>\n",
       "      <td>76</td>\n",
       "      <td>38</td>\n",
       "    </tr>\n",
       "    <tr>\n",
       "      <th>5</th>\n",
       "      <td>6</td>\n",
       "      <td>ПЛИТКА</td>\n",
       "      <td>67</td>\n",
       "      <td>30</td>\n",
       "      <td>44</td>\n",
       "    </tr>\n",
       "    <tr>\n",
       "      <th>6</th>\n",
       "      <td>7</td>\n",
       "      <td>САНТЕХНИКА</td>\n",
       "      <td>332</td>\n",
       "      <td>74</td>\n",
       "      <td>22</td>\n",
       "    </tr>\n",
       "    <tr>\n",
       "      <th>7</th>\n",
       "      <td>8</td>\n",
       "      <td>ВОДОСНАБЖЕНИЕ</td>\n",
       "      <td>305</td>\n",
       "      <td>141</td>\n",
       "      <td>46</td>\n",
       "    </tr>\n",
       "    <tr>\n",
       "      <th>8</th>\n",
       "      <td>9</td>\n",
       "      <td>САД</td>\n",
       "      <td>646</td>\n",
       "      <td>45</td>\n",
       "      <td>6</td>\n",
       "    </tr>\n",
       "    <tr>\n",
       "      <th>9</th>\n",
       "      <td>10</td>\n",
       "      <td>СКОБЯНЫЕ ИЗДЕЛИЯ</td>\n",
       "      <td>892</td>\n",
       "      <td>211</td>\n",
       "      <td>23</td>\n",
       "    </tr>\n",
       "    <tr>\n",
       "      <th>10</th>\n",
       "      <td>11</td>\n",
       "      <td>КРАСКИ</td>\n",
       "      <td>820</td>\n",
       "      <td>330</td>\n",
       "      <td>40</td>\n",
       "    </tr>\n",
       "    <tr>\n",
       "      <th>11</th>\n",
       "      <td>12</td>\n",
       "      <td>ОТДЕЛОЧНЫЕ МАТЕРИАЛЫ</td>\n",
       "      <td>468</td>\n",
       "      <td>122</td>\n",
       "      <td>26</td>\n",
       "    </tr>\n",
       "    <tr>\n",
       "      <th>12</th>\n",
       "      <td>13</td>\n",
       "      <td>СВЕТ</td>\n",
       "      <td>313</td>\n",
       "      <td>59</td>\n",
       "      <td>18</td>\n",
       "    </tr>\n",
       "    <tr>\n",
       "      <th>13</th>\n",
       "      <td>14</td>\n",
       "      <td>ХРАНЕНИЕ</td>\n",
       "      <td>217</td>\n",
       "      <td>89</td>\n",
       "      <td>41</td>\n",
       "    </tr>\n",
       "    <tr>\n",
       "      <th>14</th>\n",
       "      <td>15</td>\n",
       "      <td>КУХНИ</td>\n",
       "      <td>217</td>\n",
       "      <td>76</td>\n",
       "      <td>35</td>\n",
       "    </tr>\n",
       "  </tbody>\n",
       "</table>\n",
       "</div>"
      ],
      "text/plain": [
       "    group_id            group_name  items_ever_in_fed_core  \\\n",
       "0          1        СТРОЙМАТЕРИАЛЫ                      59   \n",
       "1          2     СТОЛЯРНЫЕ ИЗДЕЛИЯ                      53   \n",
       "2          3         ЭЛЕКТРОТОВАРЫ                     621   \n",
       "3          4           ИНСТРУМЕНТЫ                    1178   \n",
       "4          5    НАПОЛЬНЫЕ ПОКРЫТИЯ                     199   \n",
       "5          6                ПЛИТКА                      67   \n",
       "6          7            САНТЕХНИКА                     332   \n",
       "7          8         ВОДОСНАБЖЕНИЕ                     305   \n",
       "8          9                   САД                     646   \n",
       "9         10      СКОБЯНЫЕ ИЗДЕЛИЯ                     892   \n",
       "10        11                КРАСКИ                     820   \n",
       "11        12  ОТДЕЛОЧНЫЕ МАТЕРИАЛЫ                     468   \n",
       "12        13                  СВЕТ                     313   \n",
       "13        14              ХРАНЕНИЕ                     217   \n",
       "14        15                 КУХНИ                     217   \n",
       "\n",
       "    items_in_stable_fed_core  fed_core_stability  \n",
       "0                         26                  44  \n",
       "1                         15                  28  \n",
       "2                        238                  38  \n",
       "3                        459                  38  \n",
       "4                         76                  38  \n",
       "5                         30                  44  \n",
       "6                         74                  22  \n",
       "7                        141                  46  \n",
       "8                         45                   6  \n",
       "9                        211                  23  \n",
       "10                       330                  40  \n",
       "11                       122                  26  \n",
       "12                        59                  18  \n",
       "13                        89                  41  \n",
       "14                        76                  35  "
      ]
     },
     "execution_count": 24,
     "metadata": {},
     "output_type": "execute_result"
    }
   ],
   "source": [
    "fed_core_all_and_stable = pd.merge(fed_core_all_dept, \n",
    "                                   fed_core_stable_dept, \n",
    "                                   how='left', \n",
    "                                   left_on = ['group_name'], \n",
    "                                   right_on = ['group_name'])\n",
    "\n",
    "fed_core_all_and_stable['fed_core_stability'] = (fed_core_all_and_stable.items_in_stable_fed_core/\n",
    "                                                 fed_core_all_and_stable.items_ever_in_fed_core *100).astype(int)\n",
    "\n",
    "fed_core_all_and_stable = pd.merge(fed_core_all_and_stable, \n",
    "                                   depts, \n",
    "                                   how='left', \n",
    "                                   left_on = ['group_name'], \n",
    "                                   right_on = ['group_name'])\n",
    "\n",
    "fed_core_all_and_stable = fed_core_all_and_stable[['group_id',\n",
    "                                                   'group_name',\n",
    "                                                   'items_ever_in_fed_core',\n",
    "                                                   'items_in_stable_fed_core',\n",
    "                                                   'fed_core_stability']]\n",
    "\n",
    "fed_core_all_and_stable = fed_core_all_and_stable.sort_values(by = 'group_id', ascending = True).reset_index(drop = True)\n",
    "\n",
    "fed_core_all_and_stable"
   ]
  },
  {
   "cell_type": "markdown",
   "id": "4886a01a-201a-4295-bdd9-3a1e516c542f",
   "metadata": {},
   "source": [
    "## Визуализация"
   ]
  },
  {
   "cell_type": "code",
   "execution_count": 38,
   "id": "85c6b576-d6fb-4a09-85b5-b7ee5f16039d",
   "metadata": {},
   "outputs": [
    {
     "data": {
      "application/vnd.plotly.v1+json": {
       "config": {
        "plotlyServerURL": "https://plot.ly"
       },
       "data": [
        {
         "alignmentgroup": "True",
         "hovertemplate": "group_name=%{x}<br>value=%{y}<br>fed_core_stability=%{marker.color}<extra></extra>",
         "legendgroup": "",
         "marker": {
          "color": [
           44,
           28,
           38,
           38,
           38,
           44,
           22,
           46,
           6,
           23,
           40,
           26,
           18,
           41,
           35,
           44,
           28,
           38,
           38,
           38,
           44,
           22,
           46,
           6,
           23,
           40,
           26,
           18,
           41,
           35
          ],
          "coloraxis": "coloraxis",
          "opacity": 0.5,
          "pattern": {
           "shape": ""
          }
         },
         "name": "",
         "offsetgroup": "",
         "orientation": "v",
         "showlegend": false,
         "textposition": "auto",
         "type": "bar",
         "x": [
          "СТРОЙМАТЕРИАЛЫ",
          "СТОЛЯРНЫЕ ИЗДЕЛИЯ",
          "ЭЛЕКТРОТОВАРЫ",
          "ИНСТРУМЕНТЫ",
          "НАПОЛЬНЫЕ ПОКРЫТИЯ",
          "ПЛИТКА",
          "САНТЕХНИКА",
          "ВОДОСНАБЖЕНИЕ",
          "САД",
          "СКОБЯНЫЕ ИЗДЕЛИЯ",
          "КРАСКИ",
          "ОТДЕЛОЧНЫЕ МАТЕРИАЛЫ",
          "СВЕТ",
          "ХРАНЕНИЕ",
          "КУХНИ",
          "СТРОЙМАТЕРИАЛЫ",
          "СТОЛЯРНЫЕ ИЗДЕЛИЯ",
          "ЭЛЕКТРОТОВАРЫ",
          "ИНСТРУМЕНТЫ",
          "НАПОЛЬНЫЕ ПОКРЫТИЯ",
          "ПЛИТКА",
          "САНТЕХНИКА",
          "ВОДОСНАБЖЕНИЕ",
          "САД",
          "СКОБЯНЫЕ ИЗДЕЛИЯ",
          "КРАСКИ",
          "ОТДЕЛОЧНЫЕ МАТЕРИАЛЫ",
          "СВЕТ",
          "ХРАНЕНИЕ",
          "КУХНИ"
         ],
         "xaxis": "x",
         "y": [
          59,
          53,
          621,
          1178,
          199,
          67,
          332,
          305,
          646,
          892,
          820,
          468,
          313,
          217,
          217,
          26,
          15,
          238,
          459,
          76,
          30,
          74,
          141,
          45,
          211,
          330,
          122,
          59,
          89,
          76
         ],
         "yaxis": "y"
        }
       ],
       "layout": {
        "barmode": "overlay",
        "coloraxis": {
         "colorbar": {
          "title": {
           "text": "fed_core_stability"
          }
         },
         "colorscale": [
          [
           0,
           "#0d0887"
          ],
          [
           0.1111111111111111,
           "#46039f"
          ],
          [
           0.2222222222222222,
           "#7201a8"
          ],
          [
           0.3333333333333333,
           "#9c179e"
          ],
          [
           0.4444444444444444,
           "#bd3786"
          ],
          [
           0.5555555555555556,
           "#d8576b"
          ],
          [
           0.6666666666666666,
           "#ed7953"
          ],
          [
           0.7777777777777778,
           "#fb9f3a"
          ],
          [
           0.8888888888888888,
           "#fdca26"
          ],
          [
           1,
           "#f0f921"
          ]
         ]
        },
        "height": 700,
        "legend": {
         "tracegroupgap": 0
        },
        "margin": {
         "t": 60
        },
        "template": {
         "data": {
          "bar": [
           {
            "error_x": {
             "color": "#f2f5fa"
            },
            "error_y": {
             "color": "#f2f5fa"
            },
            "marker": {
             "line": {
              "color": "rgb(17,17,17)",
              "width": 0.5
             },
             "pattern": {
              "fillmode": "overlay",
              "size": 10,
              "solidity": 0.2
             }
            },
            "type": "bar"
           }
          ],
          "barpolar": [
           {
            "marker": {
             "line": {
              "color": "rgb(17,17,17)",
              "width": 0.5
             },
             "pattern": {
              "fillmode": "overlay",
              "size": 10,
              "solidity": 0.2
             }
            },
            "type": "barpolar"
           }
          ],
          "carpet": [
           {
            "aaxis": {
             "endlinecolor": "#A2B1C6",
             "gridcolor": "#506784",
             "linecolor": "#506784",
             "minorgridcolor": "#506784",
             "startlinecolor": "#A2B1C6"
            },
            "baxis": {
             "endlinecolor": "#A2B1C6",
             "gridcolor": "#506784",
             "linecolor": "#506784",
             "minorgridcolor": "#506784",
             "startlinecolor": "#A2B1C6"
            },
            "type": "carpet"
           }
          ],
          "choropleth": [
           {
            "colorbar": {
             "outlinewidth": 0,
             "ticks": ""
            },
            "type": "choropleth"
           }
          ],
          "contour": [
           {
            "colorbar": {
             "outlinewidth": 0,
             "ticks": ""
            },
            "colorscale": [
             [
              0,
              "#0d0887"
             ],
             [
              0.1111111111111111,
              "#46039f"
             ],
             [
              0.2222222222222222,
              "#7201a8"
             ],
             [
              0.3333333333333333,
              "#9c179e"
             ],
             [
              0.4444444444444444,
              "#bd3786"
             ],
             [
              0.5555555555555556,
              "#d8576b"
             ],
             [
              0.6666666666666666,
              "#ed7953"
             ],
             [
              0.7777777777777778,
              "#fb9f3a"
             ],
             [
              0.8888888888888888,
              "#fdca26"
             ],
             [
              1,
              "#f0f921"
             ]
            ],
            "type": "contour"
           }
          ],
          "contourcarpet": [
           {
            "colorbar": {
             "outlinewidth": 0,
             "ticks": ""
            },
            "type": "contourcarpet"
           }
          ],
          "heatmap": [
           {
            "colorbar": {
             "outlinewidth": 0,
             "ticks": ""
            },
            "colorscale": [
             [
              0,
              "#0d0887"
             ],
             [
              0.1111111111111111,
              "#46039f"
             ],
             [
              0.2222222222222222,
              "#7201a8"
             ],
             [
              0.3333333333333333,
              "#9c179e"
             ],
             [
              0.4444444444444444,
              "#bd3786"
             ],
             [
              0.5555555555555556,
              "#d8576b"
             ],
             [
              0.6666666666666666,
              "#ed7953"
             ],
             [
              0.7777777777777778,
              "#fb9f3a"
             ],
             [
              0.8888888888888888,
              "#fdca26"
             ],
             [
              1,
              "#f0f921"
             ]
            ],
            "type": "heatmap"
           }
          ],
          "heatmapgl": [
           {
            "colorbar": {
             "outlinewidth": 0,
             "ticks": ""
            },
            "colorscale": [
             [
              0,
              "#0d0887"
             ],
             [
              0.1111111111111111,
              "#46039f"
             ],
             [
              0.2222222222222222,
              "#7201a8"
             ],
             [
              0.3333333333333333,
              "#9c179e"
             ],
             [
              0.4444444444444444,
              "#bd3786"
             ],
             [
              0.5555555555555556,
              "#d8576b"
             ],
             [
              0.6666666666666666,
              "#ed7953"
             ],
             [
              0.7777777777777778,
              "#fb9f3a"
             ],
             [
              0.8888888888888888,
              "#fdca26"
             ],
             [
              1,
              "#f0f921"
             ]
            ],
            "type": "heatmapgl"
           }
          ],
          "histogram": [
           {
            "marker": {
             "pattern": {
              "fillmode": "overlay",
              "size": 10,
              "solidity": 0.2
             }
            },
            "type": "histogram"
           }
          ],
          "histogram2d": [
           {
            "colorbar": {
             "outlinewidth": 0,
             "ticks": ""
            },
            "colorscale": [
             [
              0,
              "#0d0887"
             ],
             [
              0.1111111111111111,
              "#46039f"
             ],
             [
              0.2222222222222222,
              "#7201a8"
             ],
             [
              0.3333333333333333,
              "#9c179e"
             ],
             [
              0.4444444444444444,
              "#bd3786"
             ],
             [
              0.5555555555555556,
              "#d8576b"
             ],
             [
              0.6666666666666666,
              "#ed7953"
             ],
             [
              0.7777777777777778,
              "#fb9f3a"
             ],
             [
              0.8888888888888888,
              "#fdca26"
             ],
             [
              1,
              "#f0f921"
             ]
            ],
            "type": "histogram2d"
           }
          ],
          "histogram2dcontour": [
           {
            "colorbar": {
             "outlinewidth": 0,
             "ticks": ""
            },
            "colorscale": [
             [
              0,
              "#0d0887"
             ],
             [
              0.1111111111111111,
              "#46039f"
             ],
             [
              0.2222222222222222,
              "#7201a8"
             ],
             [
              0.3333333333333333,
              "#9c179e"
             ],
             [
              0.4444444444444444,
              "#bd3786"
             ],
             [
              0.5555555555555556,
              "#d8576b"
             ],
             [
              0.6666666666666666,
              "#ed7953"
             ],
             [
              0.7777777777777778,
              "#fb9f3a"
             ],
             [
              0.8888888888888888,
              "#fdca26"
             ],
             [
              1,
              "#f0f921"
             ]
            ],
            "type": "histogram2dcontour"
           }
          ],
          "mesh3d": [
           {
            "colorbar": {
             "outlinewidth": 0,
             "ticks": ""
            },
            "type": "mesh3d"
           }
          ],
          "parcoords": [
           {
            "line": {
             "colorbar": {
              "outlinewidth": 0,
              "ticks": ""
             }
            },
            "type": "parcoords"
           }
          ],
          "pie": [
           {
            "automargin": true,
            "type": "pie"
           }
          ],
          "scatter": [
           {
            "marker": {
             "line": {
              "color": "#283442"
             }
            },
            "type": "scatter"
           }
          ],
          "scatter3d": [
           {
            "line": {
             "colorbar": {
              "outlinewidth": 0,
              "ticks": ""
             }
            },
            "marker": {
             "colorbar": {
              "outlinewidth": 0,
              "ticks": ""
             }
            },
            "type": "scatter3d"
           }
          ],
          "scattercarpet": [
           {
            "marker": {
             "colorbar": {
              "outlinewidth": 0,
              "ticks": ""
             }
            },
            "type": "scattercarpet"
           }
          ],
          "scattergeo": [
           {
            "marker": {
             "colorbar": {
              "outlinewidth": 0,
              "ticks": ""
             }
            },
            "type": "scattergeo"
           }
          ],
          "scattergl": [
           {
            "marker": {
             "line": {
              "color": "#283442"
             }
            },
            "type": "scattergl"
           }
          ],
          "scattermapbox": [
           {
            "marker": {
             "colorbar": {
              "outlinewidth": 0,
              "ticks": ""
             }
            },
            "type": "scattermapbox"
           }
          ],
          "scatterpolar": [
           {
            "marker": {
             "colorbar": {
              "outlinewidth": 0,
              "ticks": ""
             }
            },
            "type": "scatterpolar"
           }
          ],
          "scatterpolargl": [
           {
            "marker": {
             "colorbar": {
              "outlinewidth": 0,
              "ticks": ""
             }
            },
            "type": "scatterpolargl"
           }
          ],
          "scatterternary": [
           {
            "marker": {
             "colorbar": {
              "outlinewidth": 0,
              "ticks": ""
             }
            },
            "type": "scatterternary"
           }
          ],
          "surface": [
           {
            "colorbar": {
             "outlinewidth": 0,
             "ticks": ""
            },
            "colorscale": [
             [
              0,
              "#0d0887"
             ],
             [
              0.1111111111111111,
              "#46039f"
             ],
             [
              0.2222222222222222,
              "#7201a8"
             ],
             [
              0.3333333333333333,
              "#9c179e"
             ],
             [
              0.4444444444444444,
              "#bd3786"
             ],
             [
              0.5555555555555556,
              "#d8576b"
             ],
             [
              0.6666666666666666,
              "#ed7953"
             ],
             [
              0.7777777777777778,
              "#fb9f3a"
             ],
             [
              0.8888888888888888,
              "#fdca26"
             ],
             [
              1,
              "#f0f921"
             ]
            ],
            "type": "surface"
           }
          ],
          "table": [
           {
            "cells": {
             "fill": {
              "color": "#506784"
             },
             "line": {
              "color": "rgb(17,17,17)"
             }
            },
            "header": {
             "fill": {
              "color": "#2a3f5f"
             },
             "line": {
              "color": "rgb(17,17,17)"
             }
            },
            "type": "table"
           }
          ]
         },
         "layout": {
          "annotationdefaults": {
           "arrowcolor": "#f2f5fa",
           "arrowhead": 0,
           "arrowwidth": 1
          },
          "autotypenumbers": "strict",
          "coloraxis": {
           "colorbar": {
            "outlinewidth": 0,
            "ticks": ""
           }
          },
          "colorscale": {
           "diverging": [
            [
             0,
             "#8e0152"
            ],
            [
             0.1,
             "#c51b7d"
            ],
            [
             0.2,
             "#de77ae"
            ],
            [
             0.3,
             "#f1b6da"
            ],
            [
             0.4,
             "#fde0ef"
            ],
            [
             0.5,
             "#f7f7f7"
            ],
            [
             0.6,
             "#e6f5d0"
            ],
            [
             0.7,
             "#b8e186"
            ],
            [
             0.8,
             "#7fbc41"
            ],
            [
             0.9,
             "#4d9221"
            ],
            [
             1,
             "#276419"
            ]
           ],
           "sequential": [
            [
             0,
             "#0d0887"
            ],
            [
             0.1111111111111111,
             "#46039f"
            ],
            [
             0.2222222222222222,
             "#7201a8"
            ],
            [
             0.3333333333333333,
             "#9c179e"
            ],
            [
             0.4444444444444444,
             "#bd3786"
            ],
            [
             0.5555555555555556,
             "#d8576b"
            ],
            [
             0.6666666666666666,
             "#ed7953"
            ],
            [
             0.7777777777777778,
             "#fb9f3a"
            ],
            [
             0.8888888888888888,
             "#fdca26"
            ],
            [
             1,
             "#f0f921"
            ]
           ],
           "sequentialminus": [
            [
             0,
             "#0d0887"
            ],
            [
             0.1111111111111111,
             "#46039f"
            ],
            [
             0.2222222222222222,
             "#7201a8"
            ],
            [
             0.3333333333333333,
             "#9c179e"
            ],
            [
             0.4444444444444444,
             "#bd3786"
            ],
            [
             0.5555555555555556,
             "#d8576b"
            ],
            [
             0.6666666666666666,
             "#ed7953"
            ],
            [
             0.7777777777777778,
             "#fb9f3a"
            ],
            [
             0.8888888888888888,
             "#fdca26"
            ],
            [
             1,
             "#f0f921"
            ]
           ]
          },
          "colorway": [
           "#636efa",
           "#EF553B",
           "#00cc96",
           "#ab63fa",
           "#FFA15A",
           "#19d3f3",
           "#FF6692",
           "#B6E880",
           "#FF97FF",
           "#FECB52"
          ],
          "font": {
           "color": "#f2f5fa"
          },
          "geo": {
           "bgcolor": "rgb(17,17,17)",
           "lakecolor": "rgb(17,17,17)",
           "landcolor": "rgb(17,17,17)",
           "showlakes": true,
           "showland": true,
           "subunitcolor": "#506784"
          },
          "hoverlabel": {
           "align": "left"
          },
          "hovermode": "closest",
          "mapbox": {
           "style": "dark"
          },
          "paper_bgcolor": "rgb(17,17,17)",
          "plot_bgcolor": "rgb(17,17,17)",
          "polar": {
           "angularaxis": {
            "gridcolor": "#506784",
            "linecolor": "#506784",
            "ticks": ""
           },
           "bgcolor": "rgb(17,17,17)",
           "radialaxis": {
            "gridcolor": "#506784",
            "linecolor": "#506784",
            "ticks": ""
           }
          },
          "scene": {
           "xaxis": {
            "backgroundcolor": "rgb(17,17,17)",
            "gridcolor": "#506784",
            "gridwidth": 2,
            "linecolor": "#506784",
            "showbackground": true,
            "ticks": "",
            "zerolinecolor": "#C8D4E3"
           },
           "yaxis": {
            "backgroundcolor": "rgb(17,17,17)",
            "gridcolor": "#506784",
            "gridwidth": 2,
            "linecolor": "#506784",
            "showbackground": true,
            "ticks": "",
            "zerolinecolor": "#C8D4E3"
           },
           "zaxis": {
            "backgroundcolor": "rgb(17,17,17)",
            "gridcolor": "#506784",
            "gridwidth": 2,
            "linecolor": "#506784",
            "showbackground": true,
            "ticks": "",
            "zerolinecolor": "#C8D4E3"
           }
          },
          "shapedefaults": {
           "line": {
            "color": "#f2f5fa"
           }
          },
          "sliderdefaults": {
           "bgcolor": "#C8D4E3",
           "bordercolor": "rgb(17,17,17)",
           "borderwidth": 1,
           "tickwidth": 0
          },
          "ternary": {
           "aaxis": {
            "gridcolor": "#506784",
            "linecolor": "#506784",
            "ticks": ""
           },
           "baxis": {
            "gridcolor": "#506784",
            "linecolor": "#506784",
            "ticks": ""
           },
           "bgcolor": "rgb(17,17,17)",
           "caxis": {
            "gridcolor": "#506784",
            "linecolor": "#506784",
            "ticks": ""
           }
          },
          "title": {
           "x": 0.05
          },
          "updatemenudefaults": {
           "bgcolor": "#506784",
           "borderwidth": 0
          },
          "xaxis": {
           "automargin": true,
           "gridcolor": "#283442",
           "linecolor": "#506784",
           "ticks": "",
           "title": {
            "standoff": 15
           },
           "zerolinecolor": "#283442",
           "zerolinewidth": 2
          },
          "yaxis": {
           "automargin": true,
           "gridcolor": "#283442",
           "linecolor": "#506784",
           "ticks": "",
           "title": {
            "standoff": 15
           },
           "zerolinecolor": "#283442",
           "zerolinewidth": 2
          }
         }
        },
        "title": {
         "text": "Распределение артикулов, попавших в федеральную базу за Ноябрь 2022 - Май 2023 (интервал - 3 месяца, шаг - 2 недели)"
        },
        "width": 1200,
        "xaxis": {
         "anchor": "y",
         "autorange": true,
         "categoryarray": [
          "group_id"
         ],
         "categoryorder": "array",
         "domain": [
          0,
          1
         ],
         "range": [
          0.5,
          15.5
         ],
         "title": {
          "text": "Отдел"
         },
         "type": "category"
        },
        "yaxis": {
         "anchor": "x",
         "autorange": true,
         "domain": [
          0,
          1
         ],
         "range": [
          0,
          1240
         ],
         "title": {
          "text": "Количество артикулов"
         },
         "type": "linear"
        }
       }
      },
      "image/png": "[encoded data removed]",
      "text/html": [
       "<div>                            <div id=\"c67424be-106e-40ba-b988-b4277412b59e\" class=\"plotly-graph-div\" style=\"height:700px; width:1200px;\"></div>            <script type=\"text/javascript\">                require([\"plotly\"], function(Plotly) {                    window.PLOTLYENV=window.PLOTLYENV || {};                                    if (document.getElementById(\"c67424be-106e-40ba-b988-b4277412b59e\")) {                    Plotly.newPlot(                        \"c67424be-106e-40ba-b988-b4277412b59e\",                        [{\"alignmentgroup\":\"True\",\"hovertemplate\":\"group_name=%{x}<br>value=%{y}<br>fed_core_stability=%{marker.color}<extra></extra>\",\"legendgroup\":\"\",\"marker\":{\"color\":[44,28,38,38,38,44,22,46,6,23,40,26,18,41,35,44,28,38,38,38,44,22,46,6,23,40,26,18,41,35],\"coloraxis\":\"coloraxis\",\"opacity\":0.5,\"pattern\":{\"shape\":\"\"}},\"name\":\"\",\"offsetgroup\":\"\",\"orientation\":\"v\",\"showlegend\":false,\"textposition\":\"auto\",\"x\":[\"СТРОЙМАТЕРИАЛЫ\",\"СТОЛЯРНЫЕ ИЗДЕЛИЯ\",\"ЭЛЕКТРОТОВАРЫ\",\"ИНСТРУМЕНТЫ\",\"НАПОЛЬНЫЕ ПОКРЫТИЯ\",\"ПЛИТКА\",\"САНТЕХНИКА\",\"ВОДОСНАБЖЕНИЕ\",\"САД\",\"СКОБЯНЫЕ ИЗДЕЛИЯ\",\"КРАСКИ\",\"ОТДЕЛОЧНЫЕ МАТЕРИАЛЫ\",\"СВЕТ\",\"ХРАНЕНИЕ\",\"КУХНИ\",\"СТРОЙМАТЕРИАЛЫ\",\"СТОЛЯРНЫЕ ИЗДЕЛИЯ\",\"ЭЛЕКТРОТОВАРЫ\",\"ИНСТРУМЕНТЫ\",\"НАПОЛЬНЫЕ ПОКРЫТИЯ\",\"ПЛИТКА\",\"САНТЕХНИКА\",\"ВОДОСНАБЖЕНИЕ\",\"САД\",\"СКОБЯНЫЕ ИЗДЕЛИЯ\",\"КРАСКИ\",\"ОТДЕЛОЧНЫЕ МАТЕРИАЛЫ\",\"СВЕТ\",\"ХРАНЕНИЕ\",\"КУХНИ\"],\"xaxis\":\"x\",\"y\":[59,53,621,1178,199,67,332,305,646,892,820,468,313,217,217,26,15,238,459,76,30,74,141,45,211,330,122,59,89,76],\"yaxis\":\"y\",\"type\":\"bar\"}],                        {\"template\":{\"data\":{\"barpolar\":[{\"marker\":{\"line\":{\"color\":\"rgb(17,17,17)\",\"width\":0.5},\"pattern\":{\"fillmode\":\"overlay\",\"size\":10,\"solidity\":0.2}},\"type\":\"barpolar\"}],\"bar\":[{\"error_x\":{\"color\":\"#f2f5fa\"},\"error_y\":{\"color\":\"#f2f5fa\"},\"marker\":{\"line\":{\"color\":\"rgb(17,17,17)\",\"width\":0.5},\"pattern\":{\"fillmode\":\"overlay\",\"size\":10,\"solidity\":0.2}},\"type\":\"bar\"}],\"carpet\":[{\"aaxis\":{\"endlinecolor\":\"#A2B1C6\",\"gridcolor\":\"#506784\",\"linecolor\":\"#506784\",\"minorgridcolor\":\"#506784\",\"startlinecolor\":\"#A2B1C6\"},\"baxis\":{\"endlinecolor\":\"#A2B1C6\",\"gridcolor\":\"#506784\",\"linecolor\":\"#506784\",\"minorgridcolor\":\"#506784\",\"startlinecolor\":\"#A2B1C6\"},\"type\":\"carpet\"}],\"choropleth\":[{\"colorbar\":{\"outlinewidth\":0,\"ticks\":\"\"},\"type\":\"choropleth\"}],\"contourcarpet\":[{\"colorbar\":{\"outlinewidth\":0,\"ticks\":\"\"},\"type\":\"contourcarpet\"}],\"contour\":[{\"colorbar\":{\"outlinewidth\":0,\"ticks\":\"\"},\"colorscale\":[[0.0,\"#0d0887\"],[0.1111111111111111,\"#46039f\"],[0.2222222222222222,\"#7201a8\"],[0.3333333333333333,\"#9c179e\"],[0.4444444444444444,\"#bd3786\"],[0.5555555555555556,\"#d8576b\"],[0.6666666666666666,\"#ed7953\"],[0.7777777777777778,\"#fb9f3a\"],[0.8888888888888888,\"#fdca26\"],[1.0,\"#f0f921\"]],\"type\":\"contour\"}],\"heatmapgl\":[{\"colorbar\":{\"outlinewidth\":0,\"ticks\":\"\"},\"colorscale\":[[0.0,\"#0d0887\"],[0.1111111111111111,\"#46039f\"],[0.2222222222222222,\"#7201a8\"],[0.3333333333333333,\"#9c179e\"],[0.4444444444444444,\"#bd3786\"],[0.5555555555555556,\"#d8576b\"],[0.6666666666666666,\"#ed7953\"],[0.7777777777777778,\"#fb9f3a\"],[0.8888888888888888,\"#fdca26\"],[1.0,\"#f0f921\"]],\"type\":\"heatmapgl\"}],\"heatmap\":[{\"colorbar\":{\"outlinewidth\":0,\"ticks\":\"\"},\"colorscale\":[[0.0,\"#0d0887\"],[0.1111111111111111,\"#46039f\"],[0.2222222222222222,\"#7201a8\"],[0.3333333333333333,\"#9c179e\"],[0.4444444444444444,\"#bd3786\"],[0.5555555555555556,\"#d8576b\"],[0.6666666666666666,\"#ed7953\"],[0.7777777777777778,\"#fb9f3a\"],[0.8888888888888888,\"#fdca26\"],[1.0,\"#f0f921\"]],\"type\":\"heatmap\"}],\"histogram2dcontour\":[{\"colorbar\":{\"outlinewidth\":0,\"ticks\":\"\"},\"colorscale\":[[0.0,\"#0d0887\"],[0.1111111111111111,\"#46039f\"],[0.2222222222222222,\"#7201a8\"],[0.3333333333333333,\"#9c179e\"],[0.4444444444444444,\"#bd3786\"],[0.5555555555555556,\"#d8576b\"],[0.6666666666666666,\"#ed7953\"],[0.7777777777777778,\"#fb9f3a\"],[0.8888888888888888,\"#fdca26\"],[1.0,\"#f0f921\"]],\"type\":\"histogram2dcontour\"}],\"histogram2d\":[{\"colorbar\":{\"outlinewidth\":0,\"ticks\":\"\"},\"colorscale\":[[0.0,\"#0d0887\"],[0.1111111111111111,\"#46039f\"],[0.2222222222222222,\"#7201a8\"],[0.3333333333333333,\"#9c179e\"],[0.4444444444444444,\"#bd3786\"],[0.5555555555555556,\"#d8576b\"],[0.6666666666666666,\"#ed7953\"],[0.7777777777777778,\"#fb9f3a\"],[0.8888888888888888,\"#fdca26\"],[1.0,\"#f0f921\"]],\"type\":\"histogram2d\"}],\"histogram\":[{\"marker\":{\"pattern\":{\"fillmode\":\"overlay\",\"size\":10,\"solidity\":0.2}},\"type\":\"histogram\"}],\"mesh3d\":[{\"colorbar\":{\"outlinewidth\":0,\"ticks\":\"\"},\"type\":\"mesh3d\"}],\"parcoords\":[{\"line\":{\"colorbar\":{\"outlinewidth\":0,\"ticks\":\"\"}},\"type\":\"parcoords\"}],\"pie\":[{\"automargin\":true,\"type\":\"pie\"}],\"scatter3d\":[{\"line\":{\"colorbar\":{\"outlinewidth\":0,\"ticks\":\"\"}},\"marker\":{\"colorbar\":{\"outlinewidth\":0,\"ticks\":\"\"}},\"type\":\"scatter3d\"}],\"scattercarpet\":[{\"marker\":{\"colorbar\":{\"outlinewidth\":0,\"ticks\":\"\"}},\"type\":\"scattercarpet\"}],\"scattergeo\":[{\"marker\":{\"colorbar\":{\"outlinewidth\":0,\"ticks\":\"\"}},\"type\":\"scattergeo\"}],\"scattergl\":[{\"marker\":{\"line\":{\"color\":\"#283442\"}},\"type\":\"scattergl\"}],\"scattermapbox\":[{\"marker\":{\"colorbar\":{\"outlinewidth\":0,\"ticks\":\"\"}},\"type\":\"scattermapbox\"}],\"scatterpolargl\":[{\"marker\":{\"colorbar\":{\"outlinewidth\":0,\"ticks\":\"\"}},\"type\":\"scatterpolargl\"}],\"scatterpolar\":[{\"marker\":{\"colorbar\":{\"outlinewidth\":0,\"ticks\":\"\"}},\"type\":\"scatterpolar\"}],\"scatter\":[{\"marker\":{\"line\":{\"color\":\"#283442\"}},\"type\":\"scatter\"}],\"scatterternary\":[{\"marker\":{\"colorbar\":{\"outlinewidth\":0,\"ticks\":\"\"}},\"type\":\"scatterternary\"}],\"surface\":[{\"colorbar\":{\"outlinewidth\":0,\"ticks\":\"\"},\"colorscale\":[[0.0,\"#0d0887\"],[0.1111111111111111,\"#46039f\"],[0.2222222222222222,\"#7201a8\"],[0.3333333333333333,\"#9c179e\"],[0.4444444444444444,\"#bd3786\"],[0.5555555555555556,\"#d8576b\"],[0.6666666666666666,\"#ed7953\"],[0.7777777777777778,\"#fb9f3a\"],[0.8888888888888888,\"#fdca26\"],[1.0,\"#f0f921\"]],\"type\":\"surface\"}],\"table\":[{\"cells\":{\"fill\":{\"color\":\"#506784\"},\"line\":{\"color\":\"rgb(17,17,17)\"}},\"header\":{\"fill\":{\"color\":\"#2a3f5f\"},\"line\":{\"color\":\"rgb(17,17,17)\"}},\"type\":\"table\"}]},\"layout\":{\"annotationdefaults\":{\"arrowcolor\":\"#f2f5fa\",\"arrowhead\":0,\"arrowwidth\":1},\"autotypenumbers\":\"strict\",\"coloraxis\":{\"colorbar\":{\"outlinewidth\":0,\"ticks\":\"\"}},\"colorscale\":{\"diverging\":[[0,\"#8e0152\"],[0.1,\"#c51b7d\"],[0.2,\"#de77ae\"],[0.3,\"#f1b6da\"],[0.4,\"#fde0ef\"],[0.5,\"#f7f7f7\"],[0.6,\"#e6f5d0\"],[0.7,\"#b8e186\"],[0.8,\"#7fbc41\"],[0.9,\"#4d9221\"],[1,\"#276419\"]],\"sequential\":[[0.0,\"#0d0887\"],[0.1111111111111111,\"#46039f\"],[0.2222222222222222,\"#7201a8\"],[0.3333333333333333,\"#9c179e\"],[0.4444444444444444,\"#bd3786\"],[0.5555555555555556,\"#d8576b\"],[0.6666666666666666,\"#ed7953\"],[0.7777777777777778,\"#fb9f3a\"],[0.8888888888888888,\"#fdca26\"],[1.0,\"#f0f921\"]],\"sequentialminus\":[[0.0,\"#0d0887\"],[0.1111111111111111,\"#46039f\"],[0.2222222222222222,\"#7201a8\"],[0.3333333333333333,\"#9c179e\"],[0.4444444444444444,\"#bd3786\"],[0.5555555555555556,\"#d8576b\"],[0.6666666666666666,\"#ed7953\"],[0.7777777777777778,\"#fb9f3a\"],[0.8888888888888888,\"#fdca26\"],[1.0,\"#f0f921\"]]},\"colorway\":[\"#636efa\",\"#EF553B\",\"#00cc96\",\"#ab63fa\",\"#FFA15A\",\"#19d3f3\",\"#FF6692\",\"#B6E880\",\"#FF97FF\",\"#FECB52\"],\"font\":{\"color\":\"#f2f5fa\"},\"geo\":{\"bgcolor\":\"rgb(17,17,17)\",\"lakecolor\":\"rgb(17,17,17)\",\"landcolor\":\"rgb(17,17,17)\",\"showlakes\":true,\"showland\":true,\"subunitcolor\":\"#506784\"},\"hoverlabel\":{\"align\":\"left\"},\"hovermode\":\"closest\",\"mapbox\":{\"style\":\"dark\"},\"paper_bgcolor\":\"rgb(17,17,17)\",\"plot_bgcolor\":\"rgb(17,17,17)\",\"polar\":{\"angularaxis\":{\"gridcolor\":\"#506784\",\"linecolor\":\"#506784\",\"ticks\":\"\"},\"bgcolor\":\"rgb(17,17,17)\",\"radialaxis\":{\"gridcolor\":\"#506784\",\"linecolor\":\"#506784\",\"ticks\":\"\"}},\"scene\":{\"xaxis\":{\"backgroundcolor\":\"rgb(17,17,17)\",\"gridcolor\":\"#506784\",\"gridwidth\":2,\"linecolor\":\"#506784\",\"showbackground\":true,\"ticks\":\"\",\"zerolinecolor\":\"#C8D4E3\"},\"yaxis\":{\"backgroundcolor\":\"rgb(17,17,17)\",\"gridcolor\":\"#506784\",\"gridwidth\":2,\"linecolor\":\"#506784\",\"showbackground\":true,\"ticks\":\"\",\"zerolinecolor\":\"#C8D4E3\"},\"zaxis\":{\"backgroundcolor\":\"rgb(17,17,17)\",\"gridcolor\":\"#506784\",\"gridwidth\":2,\"linecolor\":\"#506784\",\"showbackground\":true,\"ticks\":\"\",\"zerolinecolor\":\"#C8D4E3\"}},\"shapedefaults\":{\"line\":{\"color\":\"#f2f5fa\"}},\"sliderdefaults\":{\"bgcolor\":\"#C8D4E3\",\"bordercolor\":\"rgb(17,17,17)\",\"borderwidth\":1,\"tickwidth\":0},\"ternary\":{\"aaxis\":{\"gridcolor\":\"#506784\",\"linecolor\":\"#506784\",\"ticks\":\"\"},\"baxis\":{\"gridcolor\":\"#506784\",\"linecolor\":\"#506784\",\"ticks\":\"\"},\"bgcolor\":\"rgb(17,17,17)\",\"caxis\":{\"gridcolor\":\"#506784\",\"linecolor\":\"#506784\",\"ticks\":\"\"}},\"title\":{\"x\":0.05},\"updatemenudefaults\":{\"bgcolor\":\"#506784\",\"borderwidth\":0},\"xaxis\":{\"automargin\":true,\"gridcolor\":\"#283442\",\"linecolor\":\"#506784\",\"ticks\":\"\",\"title\":{\"standoff\":15},\"zerolinecolor\":\"#283442\",\"zerolinewidth\":2},\"yaxis\":{\"automargin\":true,\"gridcolor\":\"#283442\",\"linecolor\":\"#506784\",\"ticks\":\"\",\"title\":{\"standoff\":15},\"zerolinecolor\":\"#283442\",\"zerolinewidth\":2}}},\"xaxis\":{\"anchor\":\"y\",\"domain\":[0.0,1.0],\"title\":{\"text\":\"Отдел\"},\"categoryorder\":\"array\",\"categoryarray\":[\"group_id\"]},\"yaxis\":{\"anchor\":\"x\",\"domain\":[0.0,1.0],\"title\":{\"text\":\"Количество артикулов\"}},\"coloraxis\":{\"colorbar\":{\"title\":{\"text\":\"fed_core_stability\"}},\"colorscale\":[[0.0,\"#0d0887\"],[0.1111111111111111,\"#46039f\"],[0.2222222222222222,\"#7201a8\"],[0.3333333333333333,\"#9c179e\"],[0.4444444444444444,\"#bd3786\"],[0.5555555555555556,\"#d8576b\"],[0.6666666666666666,\"#ed7953\"],[0.7777777777777778,\"#fb9f3a\"],[0.8888888888888888,\"#fdca26\"],[1.0,\"#f0f921\"]]},\"legend\":{\"tracegroupgap\":0},\"margin\":{\"t\":60},\"barmode\":\"overlay\",\"height\":700,\"width\":1200,\"title\":{\"text\":\"Распределение артикулов, попавших в федеральную базу за Ноябрь 2022 - Май 2023 (интервал - 3 месяца, шаг - 2 недели)\"}},                        {\"responsive\": true}                    ).then(function(){\n",
       "                            \n",
       "var gd = document.getElementById('c67424be-106e-40ba-b988-b4277412b59e');\n",
       "var x = new MutationObserver(function (mutations, observer) {{\n",
       "        var display = window.getComputedStyle(gd).display;\n",
       "        if (!display || display === 'none') {{\n",
       "            console.log([gd, 'removed!']);\n",
       "            Plotly.purge(gd);\n",
       "            observer.disconnect();\n",
       "        }}\n",
       "}});\n",
       "\n",
       "// Listen for the removal of the full notebook cells\n",
       "var notebookContainer = gd.closest('#notebook-container');\n",
       "if (notebookContainer) {{\n",
       "    x.observe(notebookContainer, {childList: true});\n",
       "}}\n",
       "\n",
       "// Listen for the clearing of the current output cell\n",
       "var outputEl = gd.closest('.output');\n",
       "if (outputEl) {{\n",
       "    x.observe(outputEl, {childList: true});\n",
       "}}\n",
       "\n",
       "                        })                };                });            </script>        </div>"
      ]
     },
     "metadata": {},
     "output_type": "display_data"
    }
   ],
   "source": [
    "fig = px.bar(fed_core_all_and_stable, \n",
    "             x = 'group_name', \n",
    "             y = ['items_ever_in_fed_core','items_in_stable_fed_core'],\n",
    "             barmode = 'overlay',\n",
    "             template = \"plotly_dark\",\n",
    "             color = 'fed_core_stability',\n",
    "             width = 1200, height = 700\n",
    "             )\n",
    "\n",
    "fig.update_layout(title='Распределение артикулов, попавших в федеральную базу за Ноябрь 2022 - Май 2023 (интервал - 3 месяца, шаг - 2 недели)',\n",
    "                  xaxis_title = 'Отдел',\n",
    "                  yaxis_title = 'Количество артикулов',\n",
    "                  xaxis = {'categoryorder':'array', 'categoryarray':['group_id']},)\n",
    "\n",
    "fig.show()"
   ]
  },
  {
   "cell_type": "markdown",
   "id": "0497dbe8-f674-4c04-a05e-700794d028b6",
   "metadata": {},
   "source": [
    "# Поэтапное пересечение"
   ]
  },
  {
   "cell_type": "code",
   "execution_count": 26,
   "id": "b7731a29-f916-4871-acec-d57af46b6895",
   "metadata": {},
   "outputs": [],
   "source": [
    "def was_in_previous_1 (df_previuos,df_present):\n",
    "    \n",
    "    df_previuos_item_list = df_previuos.line_item_id.to_list()\n",
    "    \n",
    "    def was_in_previous_2 (row):\n",
    "\n",
    "        line_item_id = row['line_item_id']\n",
    "    \n",
    "        if line_item_id in df_previuos_item_list:\n",
    "            return True\n",
    "        else:\n",
    "            return False\n",
    "        \n",
    "    df_present['was_in_previous'] = df_present.apply(was_in_previous_2, axis=1)\n",
    "    \n",
    "    df_present = pd.merge(df_present, \n",
    "                          items[['line_item_id','group_id','group_name']], \n",
    "                          how='left', \n",
    "                          left_on = ['line_item_id'], \n",
    "                          right_on = ['line_item_id'])\n",
    "    \n",
    "    df_present['perc_of_previous_in_dept'] = df_present.groupby(['group_name'])['was_in_previous'].transform('mean')\n",
    "    df_present['perc_of_previous_in_dept'] = round((df_present['perc_of_previous_in_dept']*100),1)\n",
    "    \n",
    "    df_core_present_vs_previous = (df_present[['fed_core_in', 'group_id', 'group_name', 'perc_of_previous_in_dept']]\n",
    "                                             .drop_duplicates(keep = 'first')\n",
    "                                             .sort_values(by = 'group_id')\n",
    "                                             .reset_index(drop = True)\n",
    "                  )\n",
    "    \n",
    "    df_core_present_vs_previous = df_core_present_vs_previous.query('group_id == group_id')\n",
    "                                             \n",
    "    return df_core_present_vs_previous\n",
    "    "
   ]
  },
  {
   "cell_type": "code",
   "execution_count": 27,
   "id": "1aae5d43-44a5-4c62-a13e-7c69e79a89cd",
   "metadata": {},
   "outputs": [],
   "source": [
    "fed_core_1_vs_1 = was_in_previous_1(fed_core_1_22_11_01__23_01_31,fed_core_1_22_11_01__23_01_31)\n",
    "\n",
    "fed_core_2_vs_1 = was_in_previous_1(fed_core_1_22_11_01__23_01_31,fed_core_2_22_11_15__23_02_15)\n",
    "\n",
    "fed_core_3_vs_2 = was_in_previous_1(fed_core_2_22_11_15__23_02_15,fed_core_3_22_12_01__23_02_31)\n",
    "\n",
    "fed_core_4_vs_3 = was_in_previous_1(fed_core_3_22_12_01__23_02_31,fed_core_4_22_12_15__23_03_15)\n",
    "\n",
    "fed_core_5_vs_4 = was_in_previous_1(fed_core_4_22_12_15__23_03_15,fed_core_5_23_01_01__23_03_31)\n",
    "\n",
    "fed_core_6_vs_5 = was_in_previous_1(fed_core_5_23_01_01__23_03_31,fed_core_6_23_01_15__23_04_15)\n",
    "\n",
    "fed_core_7_vs_6 = was_in_previous_1(fed_core_6_23_01_15__23_04_15,fed_core_7_23_02_01__23_04_31)\n",
    "\n",
    "fed_core_8_vs_7 = was_in_previous_1(fed_core_7_23_02_01__23_04_31,fed_core_8_23_02_15__23_05_15)\n",
    "\n",
    "fed_core_9_vs_8 = was_in_previous_1(fed_core_8_23_02_15__23_05_15,fed_core_9_23_03_01__23_05_31)"
   ]
  },
  {
   "cell_type": "code",
   "execution_count": 28,
   "id": "ed886c75-09f8-41fd-93cd-425a3b8ca7ef",
   "metadata": {},
   "outputs": [],
   "source": [
    "fed_core_1_vs_1_table = fed_core_1_vs_1[['group_id','group_name','perc_of_previous_in_dept']]\n",
    "fed_core_1_vs_1_table.rename(columns = {'perc_of_previous_in_dept':'1_22_11_01__23_01_31'}, inplace = True )\n",
    "\n",
    "fed_core_2_vs_1_table = fed_core_2_vs_1[['group_id','group_name','perc_of_previous_in_dept']]\n",
    "fed_core_2_vs_1_table.rename(columns = {'perc_of_previous_in_dept':'2_22_11_15__23_02_15'}, inplace = True )\n",
    "\n",
    "fed_core_3_vs_2_table = fed_core_3_vs_2[['group_id','group_name','perc_of_previous_in_dept']]\n",
    "fed_core_3_vs_2_table.rename(columns = {'perc_of_previous_in_dept':'3_22_12_01__23_02_31'}, inplace = True )\n",
    "\n",
    "fed_core_4_vs_3_table = fed_core_4_vs_3[['group_id','group_name','perc_of_previous_in_dept']]\n",
    "fed_core_4_vs_3_table.rename(columns = {'perc_of_previous_in_dept':'4_22_12_15__23_03_15'}, inplace = True )\n",
    "\n",
    "fed_core_5_vs_4_table = fed_core_5_vs_4[['group_id','group_name','perc_of_previous_in_dept']]\n",
    "fed_core_5_vs_4_table.rename(columns = {'perc_of_previous_in_dept':'5_23_01_01__23_03_31'}, inplace = True )\n",
    "\n",
    "fed_core_6_vs_5_table = fed_core_6_vs_5[['group_id','group_name','perc_of_previous_in_dept']]\n",
    "fed_core_6_vs_5_table.rename(columns = {'perc_of_previous_in_dept':'6_23_01_15__23_04_15'}, inplace = True )\n",
    "\n",
    "fed_core_7_vs_6_table = fed_core_7_vs_6[['group_id','group_name','perc_of_previous_in_dept']]\n",
    "fed_core_7_vs_6_table.rename(columns = {'perc_of_previous_in_dept':'7_23_02_01__23_04_31'}, inplace = True )\n",
    "\n",
    "fed_core_8_vs_7_table = fed_core_8_vs_7[['group_id','group_name','perc_of_previous_in_dept']]\n",
    "fed_core_8_vs_7_table.rename(columns = {'perc_of_previous_in_dept':'8_23_02_15__23_05_15'}, inplace = True )\n",
    "\n",
    "fed_core_9_vs_8_table = fed_core_9_vs_8[['group_id','group_name','perc_of_previous_in_dept']]\n",
    "fed_core_9_vs_8_table.rename(columns = {'perc_of_previous_in_dept':'9_23_03_01__23_05_31'}, inplace = True )\n"
   ]
  },
  {
   "cell_type": "code",
   "execution_count": 29,
   "id": "762b1437-1475-4cfb-bf61-3e38fd2752df",
   "metadata": {},
   "outputs": [
    {
     "data": {
      "text/html": [
       "<div>\n",
       "<style scoped>\n",
       "    .dataframe tbody tr th:only-of-type {\n",
       "        vertical-align: middle;\n",
       "    }\n",
       "\n",
       "    .dataframe tbody tr th {\n",
       "        vertical-align: top;\n",
       "    }\n",
       "\n",
       "    .dataframe thead th {\n",
       "        text-align: right;\n",
       "    }\n",
       "</style>\n",
       "<table border=\"1\" class=\"dataframe\">\n",
       "  <thead>\n",
       "    <tr style=\"text-align: right;\">\n",
       "      <th></th>\n",
       "      <th>group_id</th>\n",
       "      <th>group_name</th>\n",
       "      <th>1_22_11_01__23_01_31</th>\n",
       "      <th>2_22_11_15__23_02_15</th>\n",
       "      <th>3_22_12_01__23_02_31</th>\n",
       "      <th>4_22_12_15__23_03_15</th>\n",
       "      <th>5_23_01_01__23_03_31</th>\n",
       "      <th>6_23_01_15__23_04_15</th>\n",
       "      <th>7_23_02_01__23_04_31</th>\n",
       "      <th>8_23_02_15__23_05_15</th>\n",
       "      <th>9_23_03_01__23_05_31</th>\n",
       "    </tr>\n",
       "  </thead>\n",
       "  <tbody>\n",
       "    <tr>\n",
       "      <th>0</th>\n",
       "      <td>1.0</td>\n",
       "      <td>СТРОЙМАТЕРИАЛЫ</td>\n",
       "      <td>100.0</td>\n",
       "      <td>89.7</td>\n",
       "      <td>91.9</td>\n",
       "      <td>84.2</td>\n",
       "      <td>85.4</td>\n",
       "      <td>97.5</td>\n",
       "      <td>89.2</td>\n",
       "      <td>82.2</td>\n",
       "      <td>90.5</td>\n",
       "    </tr>\n",
       "    <tr>\n",
       "      <th>1</th>\n",
       "      <td>2.0</td>\n",
       "      <td>СТОЛЯРНЫЕ ИЗДЕЛИЯ</td>\n",
       "      <td>100.0</td>\n",
       "      <td>92.9</td>\n",
       "      <td>93.1</td>\n",
       "      <td>84.4</td>\n",
       "      <td>90.3</td>\n",
       "      <td>85.3</td>\n",
       "      <td>90.6</td>\n",
       "      <td>83.3</td>\n",
       "      <td>77.4</td>\n",
       "    </tr>\n",
       "    <tr>\n",
       "      <th>2</th>\n",
       "      <td>3.0</td>\n",
       "      <td>ЭЛЕКТРОТОВАРЫ</td>\n",
       "      <td>100.0</td>\n",
       "      <td>93.7</td>\n",
       "      <td>93.8</td>\n",
       "      <td>93.9</td>\n",
       "      <td>90.0</td>\n",
       "      <td>91.8</td>\n",
       "      <td>90.8</td>\n",
       "      <td>91.5</td>\n",
       "      <td>91.7</td>\n",
       "    </tr>\n",
       "    <tr>\n",
       "      <th>3</th>\n",
       "      <td>4.0</td>\n",
       "      <td>ИНСТРУМЕНТЫ</td>\n",
       "      <td>100.0</td>\n",
       "      <td>90.5</td>\n",
       "      <td>86.6</td>\n",
       "      <td>90.8</td>\n",
       "      <td>88.4</td>\n",
       "      <td>90.0</td>\n",
       "      <td>87.8</td>\n",
       "      <td>89.0</td>\n",
       "      <td>89.6</td>\n",
       "    </tr>\n",
       "    <tr>\n",
       "      <th>4</th>\n",
       "      <td>5.0</td>\n",
       "      <td>НАПОЛЬНЫЕ ПОКРЫТИЯ</td>\n",
       "      <td>100.0</td>\n",
       "      <td>87.8</td>\n",
       "      <td>89.0</td>\n",
       "      <td>87.1</td>\n",
       "      <td>83.1</td>\n",
       "      <td>81.8</td>\n",
       "      <td>90.3</td>\n",
       "      <td>96.1</td>\n",
       "      <td>95.1</td>\n",
       "    </tr>\n",
       "    <tr>\n",
       "      <th>5</th>\n",
       "      <td>6.0</td>\n",
       "      <td>ПЛИТКА</td>\n",
       "      <td>100.0</td>\n",
       "      <td>92.5</td>\n",
       "      <td>90.5</td>\n",
       "      <td>93.0</td>\n",
       "      <td>85.4</td>\n",
       "      <td>86.3</td>\n",
       "      <td>90.7</td>\n",
       "      <td>94.3</td>\n",
       "      <td>98.1</td>\n",
       "    </tr>\n",
       "    <tr>\n",
       "      <th>6</th>\n",
       "      <td>7.0</td>\n",
       "      <td>САНТЕХНИКА</td>\n",
       "      <td>100.0</td>\n",
       "      <td>83.7</td>\n",
       "      <td>80.9</td>\n",
       "      <td>84.2</td>\n",
       "      <td>83.0</td>\n",
       "      <td>81.8</td>\n",
       "      <td>80.1</td>\n",
       "      <td>83.2</td>\n",
       "      <td>84.3</td>\n",
       "    </tr>\n",
       "    <tr>\n",
       "      <th>7</th>\n",
       "      <td>8.0</td>\n",
       "      <td>ВОДОСНАБЖЕНИЕ</td>\n",
       "      <td>100.0</td>\n",
       "      <td>91.3</td>\n",
       "      <td>95.0</td>\n",
       "      <td>91.8</td>\n",
       "      <td>93.8</td>\n",
       "      <td>89.0</td>\n",
       "      <td>92.1</td>\n",
       "      <td>90.2</td>\n",
       "      <td>88.8</td>\n",
       "    </tr>\n",
       "    <tr>\n",
       "      <th>8</th>\n",
       "      <td>9.0</td>\n",
       "      <td>САД</td>\n",
       "      <td>100.0</td>\n",
       "      <td>69.4</td>\n",
       "      <td>78.6</td>\n",
       "      <td>81.9</td>\n",
       "      <td>75.5</td>\n",
       "      <td>75.1</td>\n",
       "      <td>61.0</td>\n",
       "      <td>81.0</td>\n",
       "      <td>78.6</td>\n",
       "    </tr>\n",
       "    <tr>\n",
       "      <th>9</th>\n",
       "      <td>10.0</td>\n",
       "      <td>СКОБЯНЫЕ ИЗДЕЛИЯ</td>\n",
       "      <td>100.0</td>\n",
       "      <td>87.5</td>\n",
       "      <td>82.9</td>\n",
       "      <td>87.9</td>\n",
       "      <td>82.2</td>\n",
       "      <td>84.4</td>\n",
       "      <td>82.1</td>\n",
       "      <td>83.0</td>\n",
       "      <td>82.4</td>\n",
       "    </tr>\n",
       "    <tr>\n",
       "      <th>10</th>\n",
       "      <td>11.0</td>\n",
       "      <td>КРАСКИ</td>\n",
       "      <td>100.0</td>\n",
       "      <td>91.6</td>\n",
       "      <td>89.7</td>\n",
       "      <td>91.2</td>\n",
       "      <td>86.4</td>\n",
       "      <td>86.8</td>\n",
       "      <td>89.1</td>\n",
       "      <td>90.6</td>\n",
       "      <td>88.0</td>\n",
       "    </tr>\n",
       "    <tr>\n",
       "      <th>11</th>\n",
       "      <td>12.0</td>\n",
       "      <td>ОТДЕЛОЧНЫЕ МАТЕРИАЛЫ</td>\n",
       "      <td>100.0</td>\n",
       "      <td>89.0</td>\n",
       "      <td>81.9</td>\n",
       "      <td>86.0</td>\n",
       "      <td>85.8</td>\n",
       "      <td>85.3</td>\n",
       "      <td>86.2</td>\n",
       "      <td>87.5</td>\n",
       "      <td>83.8</td>\n",
       "    </tr>\n",
       "    <tr>\n",
       "      <th>12</th>\n",
       "      <td>13.0</td>\n",
       "      <td>СВЕТ</td>\n",
       "      <td>100.0</td>\n",
       "      <td>82.7</td>\n",
       "      <td>89.0</td>\n",
       "      <td>88.4</td>\n",
       "      <td>79.9</td>\n",
       "      <td>90.8</td>\n",
       "      <td>81.8</td>\n",
       "      <td>88.4</td>\n",
       "      <td>85.9</td>\n",
       "    </tr>\n",
       "    <tr>\n",
       "      <th>13</th>\n",
       "      <td>14.0</td>\n",
       "      <td>ХРАНЕНИЕ</td>\n",
       "      <td>100.0</td>\n",
       "      <td>91.6</td>\n",
       "      <td>89.2</td>\n",
       "      <td>91.6</td>\n",
       "      <td>89.3</td>\n",
       "      <td>86.0</td>\n",
       "      <td>88.8</td>\n",
       "      <td>90.3</td>\n",
       "      <td>91.4</td>\n",
       "    </tr>\n",
       "    <tr>\n",
       "      <th>14</th>\n",
       "      <td>15.0</td>\n",
       "      <td>КУХНИ</td>\n",
       "      <td>100.0</td>\n",
       "      <td>86.7</td>\n",
       "      <td>92.6</td>\n",
       "      <td>87.1</td>\n",
       "      <td>87.7</td>\n",
       "      <td>87.5</td>\n",
       "      <td>94.2</td>\n",
       "      <td>91.4</td>\n",
       "      <td>93.3</td>\n",
       "    </tr>\n",
       "  </tbody>\n",
       "</table>\n",
       "</div>"
      ],
      "text/plain": [
       "    group_id            group_name  1_22_11_01__23_01_31  \\\n",
       "0        1.0        СТРОЙМАТЕРИАЛЫ                 100.0   \n",
       "1        2.0     СТОЛЯРНЫЕ ИЗДЕЛИЯ                 100.0   \n",
       "2        3.0         ЭЛЕКТРОТОВАРЫ                 100.0   \n",
       "3        4.0           ИНСТРУМЕНТЫ                 100.0   \n",
       "4        5.0    НАПОЛЬНЫЕ ПОКРЫТИЯ                 100.0   \n",
       "5        6.0                ПЛИТКА                 100.0   \n",
       "6        7.0            САНТЕХНИКА                 100.0   \n",
       "7        8.0         ВОДОСНАБЖЕНИЕ                 100.0   \n",
       "8        9.0                   САД                 100.0   \n",
       "9       10.0      СКОБЯНЫЕ ИЗДЕЛИЯ                 100.0   \n",
       "10      11.0                КРАСКИ                 100.0   \n",
       "11      12.0  ОТДЕЛОЧНЫЕ МАТЕРИАЛЫ                 100.0   \n",
       "12      13.0                  СВЕТ                 100.0   \n",
       "13      14.0              ХРАНЕНИЕ                 100.0   \n",
       "14      15.0                 КУХНИ                 100.0   \n",
       "\n",
       "    2_22_11_15__23_02_15  3_22_12_01__23_02_31  4_22_12_15__23_03_15  \\\n",
       "0                   89.7                  91.9                  84.2   \n",
       "1                   92.9                  93.1                  84.4   \n",
       "2                   93.7                  93.8                  93.9   \n",
       "3                   90.5                  86.6                  90.8   \n",
       "4                   87.8                  89.0                  87.1   \n",
       "5                   92.5                  90.5                  93.0   \n",
       "6                   83.7                  80.9                  84.2   \n",
       "7                   91.3                  95.0                  91.8   \n",
       "8                   69.4                  78.6                  81.9   \n",
       "9                   87.5                  82.9                  87.9   \n",
       "10                  91.6                  89.7                  91.2   \n",
       "11                  89.0                  81.9                  86.0   \n",
       "12                  82.7                  89.0                  88.4   \n",
       "13                  91.6                  89.2                  91.6   \n",
       "14                  86.7                  92.6                  87.1   \n",
       "\n",
       "    5_23_01_01__23_03_31  6_23_01_15__23_04_15  7_23_02_01__23_04_31  \\\n",
       "0                   85.4                  97.5                  89.2   \n",
       "1                   90.3                  85.3                  90.6   \n",
       "2                   90.0                  91.8                  90.8   \n",
       "3                   88.4                  90.0                  87.8   \n",
       "4                   83.1                  81.8                  90.3   \n",
       "5                   85.4                  86.3                  90.7   \n",
       "6                   83.0                  81.8                  80.1   \n",
       "7                   93.8                  89.0                  92.1   \n",
       "8                   75.5                  75.1                  61.0   \n",
       "9                   82.2                  84.4                  82.1   \n",
       "10                  86.4                  86.8                  89.1   \n",
       "11                  85.8                  85.3                  86.2   \n",
       "12                  79.9                  90.8                  81.8   \n",
       "13                  89.3                  86.0                  88.8   \n",
       "14                  87.7                  87.5                  94.2   \n",
       "\n",
       "    8_23_02_15__23_05_15  9_23_03_01__23_05_31  \n",
       "0                   82.2                  90.5  \n",
       "1                   83.3                  77.4  \n",
       "2                   91.5                  91.7  \n",
       "3                   89.0                  89.6  \n",
       "4                   96.1                  95.1  \n",
       "5                   94.3                  98.1  \n",
       "6                   83.2                  84.3  \n",
       "7                   90.2                  88.8  \n",
       "8                   81.0                  78.6  \n",
       "9                   83.0                  82.4  \n",
       "10                  90.6                  88.0  \n",
       "11                  87.5                  83.8  \n",
       "12                  88.4                  85.9  \n",
       "13                  90.3                  91.4  \n",
       "14                  91.4                  93.3  "
      ]
     },
     "execution_count": 29,
     "metadata": {},
     "output_type": "execute_result"
    }
   ],
   "source": [
    "fed_core_sps = pd.merge(fed_core_1_vs_1_table, \n",
    "                        fed_core_2_vs_1_table,\n",
    "                        how='left', \n",
    "                        left_on = ['group_id','group_name'], \n",
    "                        right_on = ['group_id','group_name'])\n",
    "\n",
    "fed_core_sps = pd.merge(fed_core_sps, \n",
    "                        fed_core_3_vs_2_table,\n",
    "                        how='left', \n",
    "                        left_on = ['group_id','group_name'], \n",
    "                        right_on = ['group_id','group_name'])\n",
    "\n",
    "fed_core_sps = pd.merge(fed_core_sps, \n",
    "                        fed_core_4_vs_3_table,\n",
    "                        how='left', \n",
    "                        left_on = ['group_id','group_name'], \n",
    "                        right_on = ['group_id','group_name'])\n",
    "\n",
    "fed_core_sps = pd.merge(fed_core_sps, \n",
    "                        fed_core_5_vs_4_table,\n",
    "                        how='left', \n",
    "                        left_on = ['group_id','group_name'], \n",
    "                        right_on = ['group_id','group_name'])\n",
    "\n",
    "fed_core_sps = pd.merge(fed_core_sps, \n",
    "                        fed_core_6_vs_5_table,\n",
    "                        how='left', \n",
    "                        left_on = ['group_id','group_name'], \n",
    "                        right_on = ['group_id','group_name'])\n",
    "\n",
    "fed_core_sps = pd.merge(fed_core_sps, \n",
    "                        fed_core_7_vs_6_table,\n",
    "                        how='left', \n",
    "                        left_on = ['group_id','group_name'], \n",
    "                        right_on = ['group_id','group_name'])\n",
    "\n",
    "fed_core_sps = pd.merge(fed_core_sps, \n",
    "                        fed_core_8_vs_7_table,\n",
    "                        how='left', \n",
    "                        left_on = ['group_id','group_name'], \n",
    "                        right_on = ['group_id','group_name'])\n",
    "\n",
    "fed_core_sps = pd.merge(fed_core_sps, \n",
    "                        fed_core_9_vs_8_table,\n",
    "                        how='left', \n",
    "                        left_on = ['group_id','group_name'], \n",
    "                        right_on = ['group_id','group_name'])\n",
    "\n",
    "fed_core_sps"
   ]
  },
  {
   "cell_type": "code",
   "execution_count": 30,
   "id": "c0370dd3-9225-44cf-95a7-3047347c0f51",
   "metadata": {},
   "outputs": [
    {
     "data": {
      "application/vnd.plotly.v1+json": {
       "config": {
        "plotlyServerURL": "https://plot.ly"
       },
       "data": [
        {
         "reversescale": false,
         "type": "heatmap",
         "x": [
          "group_name",
          "1_22_11_01__23_01_31",
          "2_22_11_15__23_02_15",
          "3_22_12_01__23_02_31",
          "4_22_12_15__23_03_15",
          "5_23_01_01__23_03_31",
          "6_23_01_15__23_04_15",
          "7_23_02_01__23_04_31",
          "8_23_02_15__23_05_15",
          "9_23_03_01__23_05_31"
         ],
         "xgap": 5,
         "y": [
          "СТРОЙМАТЕРИАЛЫ",
          "СТОЛЯРНЫЕ ИЗДЕЛИЯ",
          "ЭЛЕКТРОТОВАРЫ",
          "ИНСТРУМЕНТЫ",
          "НАПОЛЬНЫЕ ПОКРЫТИЯ",
          "ПЛИТКА",
          "САНТЕХНИКА",
          "ВОДОСНАБЖЕНИЕ",
          "САД",
          "СКОБЯНЫЕ ИЗДЕЛИЯ",
          "КРАСКИ",
          "ОТДЕЛОЧНЫЕ МАТЕРИАЛЫ",
          "СВЕТ",
          "ХРАНЕНИЕ",
          "КУХНИ"
         ],
         "ygap": 5,
         "z": [
          [
           "СТРОЙМАТЕРИАЛЫ",
           100,
           89.7,
           91.9,
           84.2,
           85.4,
           97.5,
           89.2,
           82.2,
           90.5
          ],
          [
           "СТОЛЯРНЫЕ ИЗДЕЛИЯ",
           100,
           92.9,
           93.1,
           84.4,
           90.3,
           85.3,
           90.6,
           83.3,
           77.4
          ],
          [
           "ЭЛЕКТРОТОВАРЫ",
           100,
           93.7,
           93.8,
           93.9,
           90,
           91.8,
           90.8,
           91.5,
           91.7
          ],
          [
           "ИНСТРУМЕНТЫ",
           100,
           90.5,
           86.6,
           90.8,
           88.4,
           90,
           87.8,
           89,
           89.6
          ],
          [
           "НАПОЛЬНЫЕ ПОКРЫТИЯ",
           100,
           87.8,
           89,
           87.1,
           83.1,
           81.8,
           90.3,
           96.1,
           95.1
          ],
          [
           "ПЛИТКА",
           100,
           92.5,
           90.5,
           93,
           85.4,
           86.3,
           90.7,
           94.3,
           98.1
          ],
          [
           "САНТЕХНИКА",
           100,
           83.7,
           80.9,
           84.2,
           83,
           81.8,
           80.1,
           83.2,
           84.3
          ],
          [
           "ВОДОСНАБЖЕНИЕ",
           100,
           91.3,
           95,
           91.8,
           93.8,
           89,
           92.1,
           90.2,
           88.8
          ],
          [
           "САД",
           100,
           69.4,
           78.6,
           81.9,
           75.5,
           75.1,
           61,
           81,
           78.6
          ],
          [
           "СКОБЯНЫЕ ИЗДЕЛИЯ",
           100,
           87.5,
           82.9,
           87.9,
           82.2,
           84.4,
           82.1,
           83,
           82.4
          ],
          [
           "КРАСКИ",
           100,
           91.6,
           89.7,
           91.2,
           86.4,
           86.8,
           89.1,
           90.6,
           88
          ],
          [
           "ОТДЕЛОЧНЫЕ МАТЕРИАЛЫ",
           100,
           89,
           81.9,
           86,
           85.8,
           85.3,
           86.2,
           87.5,
           83.8
          ],
          [
           "СВЕТ",
           100,
           82.7,
           89,
           88.4,
           79.9,
           90.8,
           81.8,
           88.4,
           85.9
          ],
          [
           "ХРАНЕНИЕ",
           100,
           91.6,
           89.2,
           91.6,
           89.3,
           86,
           88.8,
           90.3,
           91.4
          ],
          [
           "КУХНИ",
           100,
           86.7,
           92.6,
           87.1,
           87.7,
           87.5,
           94.2,
           91.4,
           93.3
          ]
         ]
        }
       ],
       "layout": {
        "autosize": false,
        "height": 700,
        "template": {
         "data": {
          "bar": [
           {
            "error_x": {
             "color": "#f2f5fa"
            },
            "error_y": {
             "color": "#f2f5fa"
            },
            "marker": {
             "line": {
              "color": "rgb(17,17,17)",
              "width": 0.5
             },
             "pattern": {
              "fillmode": "overlay",
              "size": 10,
              "solidity": 0.2
             }
            },
            "type": "bar"
           }
          ],
          "barpolar": [
           {
            "marker": {
             "line": {
              "color": "rgb(17,17,17)",
              "width": 0.5
             },
             "pattern": {
              "fillmode": "overlay",
              "size": 10,
              "solidity": 0.2
             }
            },
            "type": "barpolar"
           }
          ],
          "carpet": [
           {
            "aaxis": {
             "endlinecolor": "#A2B1C6",
             "gridcolor": "#506784",
             "linecolor": "#506784",
             "minorgridcolor": "#506784",
             "startlinecolor": "#A2B1C6"
            },
            "baxis": {
             "endlinecolor": "#A2B1C6",
             "gridcolor": "#506784",
             "linecolor": "#506784",
             "minorgridcolor": "#506784",
             "startlinecolor": "#A2B1C6"
            },
            "type": "carpet"
           }
          ],
          "choropleth": [
           {
            "colorbar": {
             "outlinewidth": 0,
             "ticks": ""
            },
            "type": "choropleth"
           }
          ],
          "contour": [
           {
            "colorbar": {
             "outlinewidth": 0,
             "ticks": ""
            },
            "colorscale": [
             [
              0,
              "#0d0887"
             ],
             [
              0.1111111111111111,
              "#46039f"
             ],
             [
              0.2222222222222222,
              "#7201a8"
             ],
             [
              0.3333333333333333,
              "#9c179e"
             ],
             [
              0.4444444444444444,
              "#bd3786"
             ],
             [
              0.5555555555555556,
              "#d8576b"
             ],
             [
              0.6666666666666666,
              "#ed7953"
             ],
             [
              0.7777777777777778,
              "#fb9f3a"
             ],
             [
              0.8888888888888888,
              "#fdca26"
             ],
             [
              1,
              "#f0f921"
             ]
            ],
            "type": "contour"
           }
          ],
          "contourcarpet": [
           {
            "colorbar": {
             "outlinewidth": 0,
             "ticks": ""
            },
            "type": "contourcarpet"
           }
          ],
          "heatmap": [
           {
            "colorbar": {
             "outlinewidth": 0,
             "ticks": ""
            },
            "colorscale": [
             [
              0,
              "#0d0887"
             ],
             [
              0.1111111111111111,
              "#46039f"
             ],
             [
              0.2222222222222222,
              "#7201a8"
             ],
             [
              0.3333333333333333,
              "#9c179e"
             ],
             [
              0.4444444444444444,
              "#bd3786"
             ],
             [
              0.5555555555555556,
              "#d8576b"
             ],
             [
              0.6666666666666666,
              "#ed7953"
             ],
             [
              0.7777777777777778,
              "#fb9f3a"
             ],
             [
              0.8888888888888888,
              "#fdca26"
             ],
             [
              1,
              "#f0f921"
             ]
            ],
            "type": "heatmap"
           }
          ],
          "heatmapgl": [
           {
            "colorbar": {
             "outlinewidth": 0,
             "ticks": ""
            },
            "colorscale": [
             [
              0,
              "#0d0887"
             ],
             [
              0.1111111111111111,
              "#46039f"
             ],
             [
              0.2222222222222222,
              "#7201a8"
             ],
             [
              0.3333333333333333,
              "#9c179e"
             ],
             [
              0.4444444444444444,
              "#bd3786"
             ],
             [
              0.5555555555555556,
              "#d8576b"
             ],
             [
              0.6666666666666666,
              "#ed7953"
             ],
             [
              0.7777777777777778,
              "#fb9f3a"
             ],
             [
              0.8888888888888888,
              "#fdca26"
             ],
             [
              1,
              "#f0f921"
             ]
            ],
            "type": "heatmapgl"
           }
          ],
          "histogram": [
           {
            "marker": {
             "pattern": {
              "fillmode": "overlay",
              "size": 10,
              "solidity": 0.2
             }
            },
            "type": "histogram"
           }
          ],
          "histogram2d": [
           {
            "colorbar": {
             "outlinewidth": 0,
             "ticks": ""
            },
            "colorscale": [
             [
              0,
              "#0d0887"
             ],
             [
              0.1111111111111111,
              "#46039f"
             ],
             [
              0.2222222222222222,
              "#7201a8"
             ],
             [
              0.3333333333333333,
              "#9c179e"
             ],
             [
              0.4444444444444444,
              "#bd3786"
             ],
             [
              0.5555555555555556,
              "#d8576b"
             ],
             [
              0.6666666666666666,
              "#ed7953"
             ],
             [
              0.7777777777777778,
              "#fb9f3a"
             ],
             [
              0.8888888888888888,
              "#fdca26"
             ],
             [
              1,
              "#f0f921"
             ]
            ],
            "type": "histogram2d"
           }
          ],
          "histogram2dcontour": [
           {
            "colorbar": {
             "outlinewidth": 0,
             "ticks": ""
            },
            "colorscale": [
             [
              0,
              "#0d0887"
             ],
             [
              0.1111111111111111,
              "#46039f"
             ],
             [
              0.2222222222222222,
              "#7201a8"
             ],
             [
              0.3333333333333333,
              "#9c179e"
             ],
             [
              0.4444444444444444,
              "#bd3786"
             ],
             [
              0.5555555555555556,
              "#d8576b"
             ],
             [
              0.6666666666666666,
              "#ed7953"
             ],
             [
              0.7777777777777778,
              "#fb9f3a"
             ],
             [
              0.8888888888888888,
              "#fdca26"
             ],
             [
              1,
              "#f0f921"
             ]
            ],
            "type": "histogram2dcontour"
           }
          ],
          "mesh3d": [
           {
            "colorbar": {
             "outlinewidth": 0,
             "ticks": ""
            },
            "type": "mesh3d"
           }
          ],
          "parcoords": [
           {
            "line": {
             "colorbar": {
              "outlinewidth": 0,
              "ticks": ""
             }
            },
            "type": "parcoords"
           }
          ],
          "pie": [
           {
            "automargin": true,
            "type": "pie"
           }
          ],
          "scatter": [
           {
            "marker": {
             "line": {
              "color": "#283442"
             }
            },
            "type": "scatter"
           }
          ],
          "scatter3d": [
           {
            "line": {
             "colorbar": {
              "outlinewidth": 0,
              "ticks": ""
             }
            },
            "marker": {
             "colorbar": {
              "outlinewidth": 0,
              "ticks": ""
             }
            },
            "type": "scatter3d"
           }
          ],
          "scattercarpet": [
           {
            "marker": {
             "colorbar": {
              "outlinewidth": 0,
              "ticks": ""
             }
            },
            "type": "scattercarpet"
           }
          ],
          "scattergeo": [
           {
            "marker": {
             "colorbar": {
              "outlinewidth": 0,
              "ticks": ""
             }
            },
            "type": "scattergeo"
           }
          ],
          "scattergl": [
           {
            "marker": {
             "line": {
              "color": "#283442"
             }
            },
            "type": "scattergl"
           }
          ],
          "scattermapbox": [
           {
            "marker": {
             "colorbar": {
              "outlinewidth": 0,
              "ticks": ""
             }
            },
            "type": "scattermapbox"
           }
          ],
          "scatterpolar": [
           {
            "marker": {
             "colorbar": {
              "outlinewidth": 0,
              "ticks": ""
             }
            },
            "type": "scatterpolar"
           }
          ],
          "scatterpolargl": [
           {
            "marker": {
             "colorbar": {
              "outlinewidth": 0,
              "ticks": ""
             }
            },
            "type": "scatterpolargl"
           }
          ],
          "scatterternary": [
           {
            "marker": {
             "colorbar": {
              "outlinewidth": 0,
              "ticks": ""
             }
            },
            "type": "scatterternary"
           }
          ],
          "surface": [
           {
            "colorbar": {
             "outlinewidth": 0,
             "ticks": ""
            },
            "colorscale": [
             [
              0,
              "#0d0887"
             ],
             [
              0.1111111111111111,
              "#46039f"
             ],
             [
              0.2222222222222222,
              "#7201a8"
             ],
             [
              0.3333333333333333,
              "#9c179e"
             ],
             [
              0.4444444444444444,
              "#bd3786"
             ],
             [
              0.5555555555555556,
              "#d8576b"
             ],
             [
              0.6666666666666666,
              "#ed7953"
             ],
             [
              0.7777777777777778,
              "#fb9f3a"
             ],
             [
              0.8888888888888888,
              "#fdca26"
             ],
             [
              1,
              "#f0f921"
             ]
            ],
            "type": "surface"
           }
          ],
          "table": [
           {
            "cells": {
             "fill": {
              "color": "#506784"
             },
             "line": {
              "color": "rgb(17,17,17)"
             }
            },
            "header": {
             "fill": {
              "color": "#2a3f5f"
             },
             "line": {
              "color": "rgb(17,17,17)"
             }
            },
            "type": "table"
           }
          ]
         },
         "layout": {
          "annotationdefaults": {
           "arrowcolor": "#f2f5fa",
           "arrowhead": 0,
           "arrowwidth": 1
          },
          "autotypenumbers": "strict",
          "coloraxis": {
           "colorbar": {
            "outlinewidth": 0,
            "ticks": ""
           }
          },
          "colorscale": {
           "diverging": [
            [
             0,
             "#8e0152"
            ],
            [
             0.1,
             "#c51b7d"
            ],
            [
             0.2,
             "#de77ae"
            ],
            [
             0.3,
             "#f1b6da"
            ],
            [
             0.4,
             "#fde0ef"
            ],
            [
             0.5,
             "#f7f7f7"
            ],
            [
             0.6,
             "#e6f5d0"
            ],
            [
             0.7,
             "#b8e186"
            ],
            [
             0.8,
             "#7fbc41"
            ],
            [
             0.9,
             "#4d9221"
            ],
            [
             1,
             "#276419"
            ]
           ],
           "sequential": [
            [
             0,
             "#0d0887"
            ],
            [
             0.1111111111111111,
             "#46039f"
            ],
            [
             0.2222222222222222,
             "#7201a8"
            ],
            [
             0.3333333333333333,
             "#9c179e"
            ],
            [
             0.4444444444444444,
             "#bd3786"
            ],
            [
             0.5555555555555556,
             "#d8576b"
            ],
            [
             0.6666666666666666,
             "#ed7953"
            ],
            [
             0.7777777777777778,
             "#fb9f3a"
            ],
            [
             0.8888888888888888,
             "#fdca26"
            ],
            [
             1,
             "#f0f921"
            ]
           ],
           "sequentialminus": [
            [
             0,
             "#0d0887"
            ],
            [
             0.1111111111111111,
             "#46039f"
            ],
            [
             0.2222222222222222,
             "#7201a8"
            ],
            [
             0.3333333333333333,
             "#9c179e"
            ],
            [
             0.4444444444444444,
             "#bd3786"
            ],
            [
             0.5555555555555556,
             "#d8576b"
            ],
            [
             0.6666666666666666,
             "#ed7953"
            ],
            [
             0.7777777777777778,
             "#fb9f3a"
            ],
            [
             0.8888888888888888,
             "#fdca26"
            ],
            [
             1,
             "#f0f921"
            ]
           ]
          },
          "colorway": [
           "#636efa",
           "#EF553B",
           "#00cc96",
           "#ab63fa",
           "#FFA15A",
           "#19d3f3",
           "#FF6692",
           "#B6E880",
           "#FF97FF",
           "#FECB52"
          ],
          "font": {
           "color": "#f2f5fa"
          },
          "geo": {
           "bgcolor": "rgb(17,17,17)",
           "lakecolor": "rgb(17,17,17)",
           "landcolor": "rgb(17,17,17)",
           "showlakes": true,
           "showland": true,
           "subunitcolor": "#506784"
          },
          "hoverlabel": {
           "align": "left"
          },
          "hovermode": "closest",
          "mapbox": {
           "style": "dark"
          },
          "paper_bgcolor": "rgb(17,17,17)",
          "plot_bgcolor": "rgb(17,17,17)",
          "polar": {
           "angularaxis": {
            "gridcolor": "#506784",
            "linecolor": "#506784",
            "ticks": ""
           },
           "bgcolor": "rgb(17,17,17)",
           "radialaxis": {
            "gridcolor": "#506784",
            "linecolor": "#506784",
            "ticks": ""
           }
          },
          "scene": {
           "xaxis": {
            "backgroundcolor": "rgb(17,17,17)",
            "gridcolor": "#506784",
            "gridwidth": 2,
            "linecolor": "#506784",
            "showbackground": true,
            "ticks": "",
            "zerolinecolor": "#C8D4E3"
           },
           "yaxis": {
            "backgroundcolor": "rgb(17,17,17)",
            "gridcolor": "#506784",
            "gridwidth": 2,
            "linecolor": "#506784",
            "showbackground": true,
            "ticks": "",
            "zerolinecolor": "#C8D4E3"
           },
           "zaxis": {
            "backgroundcolor": "rgb(17,17,17)",
            "gridcolor": "#506784",
            "gridwidth": 2,
            "linecolor": "#506784",
            "showbackground": true,
            "ticks": "",
            "zerolinecolor": "#C8D4E3"
           }
          },
          "shapedefaults": {
           "line": {
            "color": "#f2f5fa"
           }
          },
          "sliderdefaults": {
           "bgcolor": "#C8D4E3",
           "bordercolor": "rgb(17,17,17)",
           "borderwidth": 1,
           "tickwidth": 0
          },
          "ternary": {
           "aaxis": {
            "gridcolor": "#506784",
            "linecolor": "#506784",
            "ticks": ""
           },
           "baxis": {
            "gridcolor": "#506784",
            "linecolor": "#506784",
            "ticks": ""
           },
           "bgcolor": "rgb(17,17,17)",
           "caxis": {
            "gridcolor": "#506784",
            "linecolor": "#506784",
            "ticks": ""
           }
          },
          "title": {
           "x": 0.05
          },
          "updatemenudefaults": {
           "bgcolor": "#506784",
           "borderwidth": 0
          },
          "xaxis": {
           "automargin": true,
           "gridcolor": "#283442",
           "linecolor": "#506784",
           "ticks": "",
           "title": {
            "standoff": 15
           },
           "zerolinecolor": "#283442",
           "zerolinewidth": 2
          },
          "yaxis": {
           "automargin": true,
           "gridcolor": "#283442",
           "linecolor": "#506784",
           "ticks": "",
           "title": {
            "standoff": 15
           },
           "zerolinecolor": "#283442",
           "zerolinewidth": 2
          }
         }
        },
        "width": 1200,
        "xaxis": {
         "autorange": true,
         "range": [
          -0.5,
          9.5
         ],
         "side": "top",
         "title": {
          "text": "Период"
         },
         "type": "category"
        },
        "yaxis": {
         "autorange": true,
         "range": [
          -0.5,
          14.5
         ],
         "title": {
          "text": "Отдел"
         },
         "type": "category"
        }
       }
      },
      "image/png": "[encoded data removed]",
      "text/html": [
       "<div>                            <div id=\"c19b9c72-2ed1-4127-b300-d2b28ff816ed\" class=\"plotly-graph-div\" style=\"height:700px; width:1200px;\"></div>            <script type=\"text/javascript\">                require([\"plotly\"], function(Plotly) {                    window.PLOTLYENV=window.PLOTLYENV || {};                                    if (document.getElementById(\"c19b9c72-2ed1-4127-b300-d2b28ff816ed\")) {                    Plotly.newPlot(                        \"c19b9c72-2ed1-4127-b300-d2b28ff816ed\",                        [{\"reversescale\":false,\"x\":[\"group_name\",\"1_22_11_01__23_01_31\",\"2_22_11_15__23_02_15\",\"3_22_12_01__23_02_31\",\"4_22_12_15__23_03_15\",\"5_23_01_01__23_03_31\",\"6_23_01_15__23_04_15\",\"7_23_02_01__23_04_31\",\"8_23_02_15__23_05_15\",\"9_23_03_01__23_05_31\"],\"xgap\":5,\"y\":[\"СТРОЙМАТЕРИАЛЫ\",\"СТОЛЯРНЫЕ ИЗДЕЛИЯ\",\"ЭЛЕКТРОТОВАРЫ\",\"ИНСТРУМЕНТЫ\",\"НАПОЛЬНЫЕ ПОКРЫТИЯ\",\"ПЛИТКА\",\"САНТЕХНИКА\",\"ВОДОСНАБЖЕНИЕ\",\"САД\",\"СКОБЯНЫЕ ИЗДЕЛИЯ\",\"КРАСКИ\",\"ОТДЕЛОЧНЫЕ МАТЕРИАЛЫ\",\"СВЕТ\",\"ХРАНЕНИЕ\",\"КУХНИ\"],\"ygap\":5,\"z\":[[\"СТРОЙМАТЕРИАЛЫ\",100.0,89.7,91.9,84.2,85.4,97.5,89.2,82.2,90.5],[\"СТОЛЯРНЫЕ ИЗДЕЛИЯ\",100.0,92.9,93.1,84.4,90.3,85.3,90.6,83.3,77.4],[\"ЭЛЕКТРОТОВАРЫ\",100.0,93.7,93.8,93.9,90.0,91.8,90.8,91.5,91.7],[\"ИНСТРУМЕНТЫ\",100.0,90.5,86.6,90.8,88.4,90.0,87.8,89.0,89.6],[\"НАПОЛЬНЫЕ ПОКРЫТИЯ\",100.0,87.8,89.0,87.1,83.1,81.8,90.3,96.1,95.1],[\"ПЛИТКА\",100.0,92.5,90.5,93.0,85.4,86.3,90.7,94.3,98.1],[\"САНТЕХНИКА\",100.0,83.7,80.9,84.2,83.0,81.8,80.1,83.2,84.3],[\"ВОДОСНАБЖЕНИЕ\",100.0,91.3,95.0,91.8,93.8,89.0,92.1,90.2,88.8],[\"САД\",100.0,69.4,78.6,81.9,75.5,75.1,61.0,81.0,78.6],[\"СКОБЯНЫЕ ИЗДЕЛИЯ\",100.0,87.5,82.9,87.9,82.2,84.4,82.1,83.0,82.4],[\"КРАСКИ\",100.0,91.6,89.7,91.2,86.4,86.8,89.1,90.6,88.0],[\"ОТДЕЛОЧНЫЕ МАТЕРИАЛЫ\",100.0,89.0,81.9,86.0,85.8,85.3,86.2,87.5,83.8],[\"СВЕТ\",100.0,82.7,89.0,88.4,79.9,90.8,81.8,88.4,85.9],[\"ХРАНЕНИЕ\",100.0,91.6,89.2,91.6,89.3,86.0,88.8,90.3,91.4],[\"КУХНИ\",100.0,86.7,92.6,87.1,87.7,87.5,94.2,91.4,93.3]],\"type\":\"heatmap\"}],                        {\"template\":{\"data\":{\"barpolar\":[{\"marker\":{\"line\":{\"color\":\"rgb(17,17,17)\",\"width\":0.5},\"pattern\":{\"fillmode\":\"overlay\",\"size\":10,\"solidity\":0.2}},\"type\":\"barpolar\"}],\"bar\":[{\"error_x\":{\"color\":\"#f2f5fa\"},\"error_y\":{\"color\":\"#f2f5fa\"},\"marker\":{\"line\":{\"color\":\"rgb(17,17,17)\",\"width\":0.5},\"pattern\":{\"fillmode\":\"overlay\",\"size\":10,\"solidity\":0.2}},\"type\":\"bar\"}],\"carpet\":[{\"aaxis\":{\"endlinecolor\":\"#A2B1C6\",\"gridcolor\":\"#506784\",\"linecolor\":\"#506784\",\"minorgridcolor\":\"#506784\",\"startlinecolor\":\"#A2B1C6\"},\"baxis\":{\"endlinecolor\":\"#A2B1C6\",\"gridcolor\":\"#506784\",\"linecolor\":\"#506784\",\"minorgridcolor\":\"#506784\",\"startlinecolor\":\"#A2B1C6\"},\"type\":\"carpet\"}],\"choropleth\":[{\"colorbar\":{\"outlinewidth\":0,\"ticks\":\"\"},\"type\":\"choropleth\"}],\"contourcarpet\":[{\"colorbar\":{\"outlinewidth\":0,\"ticks\":\"\"},\"type\":\"contourcarpet\"}],\"contour\":[{\"colorbar\":{\"outlinewidth\":0,\"ticks\":\"\"},\"colorscale\":[[0.0,\"#0d0887\"],[0.1111111111111111,\"#46039f\"],[0.2222222222222222,\"#7201a8\"],[0.3333333333333333,\"#9c179e\"],[0.4444444444444444,\"#bd3786\"],[0.5555555555555556,\"#d8576b\"],[0.6666666666666666,\"#ed7953\"],[0.7777777777777778,\"#fb9f3a\"],[0.8888888888888888,\"#fdca26\"],[1.0,\"#f0f921\"]],\"type\":\"contour\"}],\"heatmapgl\":[{\"colorbar\":{\"outlinewidth\":0,\"ticks\":\"\"},\"colorscale\":[[0.0,\"#0d0887\"],[0.1111111111111111,\"#46039f\"],[0.2222222222222222,\"#7201a8\"],[0.3333333333333333,\"#9c179e\"],[0.4444444444444444,\"#bd3786\"],[0.5555555555555556,\"#d8576b\"],[0.6666666666666666,\"#ed7953\"],[0.7777777777777778,\"#fb9f3a\"],[0.8888888888888888,\"#fdca26\"],[1.0,\"#f0f921\"]],\"type\":\"heatmapgl\"}],\"heatmap\":[{\"colorbar\":{\"outlinewidth\":0,\"ticks\":\"\"},\"colorscale\":[[0.0,\"#0d0887\"],[0.1111111111111111,\"#46039f\"],[0.2222222222222222,\"#7201a8\"],[0.3333333333333333,\"#9c179e\"],[0.4444444444444444,\"#bd3786\"],[0.5555555555555556,\"#d8576b\"],[0.6666666666666666,\"#ed7953\"],[0.7777777777777778,\"#fb9f3a\"],[0.8888888888888888,\"#fdca26\"],[1.0,\"#f0f921\"]],\"type\":\"heatmap\"}],\"histogram2dcontour\":[{\"colorbar\":{\"outlinewidth\":0,\"ticks\":\"\"},\"colorscale\":[[0.0,\"#0d0887\"],[0.1111111111111111,\"#46039f\"],[0.2222222222222222,\"#7201a8\"],[0.3333333333333333,\"#9c179e\"],[0.4444444444444444,\"#bd3786\"],[0.5555555555555556,\"#d8576b\"],[0.6666666666666666,\"#ed7953\"],[0.7777777777777778,\"#fb9f3a\"],[0.8888888888888888,\"#fdca26\"],[1.0,\"#f0f921\"]],\"type\":\"histogram2dcontour\"}],\"histogram2d\":[{\"colorbar\":{\"outlinewidth\":0,\"ticks\":\"\"},\"colorscale\":[[0.0,\"#0d0887\"],[0.1111111111111111,\"#46039f\"],[0.2222222222222222,\"#7201a8\"],[0.3333333333333333,\"#9c179e\"],[0.4444444444444444,\"#bd3786\"],[0.5555555555555556,\"#d8576b\"],[0.6666666666666666,\"#ed7953\"],[0.7777777777777778,\"#fb9f3a\"],[0.8888888888888888,\"#fdca26\"],[1.0,\"#f0f921\"]],\"type\":\"histogram2d\"}],\"histogram\":[{\"marker\":{\"pattern\":{\"fillmode\":\"overlay\",\"size\":10,\"solidity\":0.2}},\"type\":\"histogram\"}],\"mesh3d\":[{\"colorbar\":{\"outlinewidth\":0,\"ticks\":\"\"},\"type\":\"mesh3d\"}],\"parcoords\":[{\"line\":{\"colorbar\":{\"outlinewidth\":0,\"ticks\":\"\"}},\"type\":\"parcoords\"}],\"pie\":[{\"automargin\":true,\"type\":\"pie\"}],\"scatter3d\":[{\"line\":{\"colorbar\":{\"outlinewidth\":0,\"ticks\":\"\"}},\"marker\":{\"colorbar\":{\"outlinewidth\":0,\"ticks\":\"\"}},\"type\":\"scatter3d\"}],\"scattercarpet\":[{\"marker\":{\"colorbar\":{\"outlinewidth\":0,\"ticks\":\"\"}},\"type\":\"scattercarpet\"}],\"scattergeo\":[{\"marker\":{\"colorbar\":{\"outlinewidth\":0,\"ticks\":\"\"}},\"type\":\"scattergeo\"}],\"scattergl\":[{\"marker\":{\"line\":{\"color\":\"#283442\"}},\"type\":\"scattergl\"}],\"scattermapbox\":[{\"marker\":{\"colorbar\":{\"outlinewidth\":0,\"ticks\":\"\"}},\"type\":\"scattermapbox\"}],\"scatterpolargl\":[{\"marker\":{\"colorbar\":{\"outlinewidth\":0,\"ticks\":\"\"}},\"type\":\"scatterpolargl\"}],\"scatterpolar\":[{\"marker\":{\"colorbar\":{\"outlinewidth\":0,\"ticks\":\"\"}},\"type\":\"scatterpolar\"}],\"scatter\":[{\"marker\":{\"line\":{\"color\":\"#283442\"}},\"type\":\"scatter\"}],\"scatterternary\":[{\"marker\":{\"colorbar\":{\"outlinewidth\":0,\"ticks\":\"\"}},\"type\":\"scatterternary\"}],\"surface\":[{\"colorbar\":{\"outlinewidth\":0,\"ticks\":\"\"},\"colorscale\":[[0.0,\"#0d0887\"],[0.1111111111111111,\"#46039f\"],[0.2222222222222222,\"#7201a8\"],[0.3333333333333333,\"#9c179e\"],[0.4444444444444444,\"#bd3786\"],[0.5555555555555556,\"#d8576b\"],[0.6666666666666666,\"#ed7953\"],[0.7777777777777778,\"#fb9f3a\"],[0.8888888888888888,\"#fdca26\"],[1.0,\"#f0f921\"]],\"type\":\"surface\"}],\"table\":[{\"cells\":{\"fill\":{\"color\":\"#506784\"},\"line\":{\"color\":\"rgb(17,17,17)\"}},\"header\":{\"fill\":{\"color\":\"#2a3f5f\"},\"line\":{\"color\":\"rgb(17,17,17)\"}},\"type\":\"table\"}]},\"layout\":{\"annotationdefaults\":{\"arrowcolor\":\"#f2f5fa\",\"arrowhead\":0,\"arrowwidth\":1},\"autotypenumbers\":\"strict\",\"coloraxis\":{\"colorbar\":{\"outlinewidth\":0,\"ticks\":\"\"}},\"colorscale\":{\"diverging\":[[0,\"#8e0152\"],[0.1,\"#c51b7d\"],[0.2,\"#de77ae\"],[0.3,\"#f1b6da\"],[0.4,\"#fde0ef\"],[0.5,\"#f7f7f7\"],[0.6,\"#e6f5d0\"],[0.7,\"#b8e186\"],[0.8,\"#7fbc41\"],[0.9,\"#4d9221\"],[1,\"#276419\"]],\"sequential\":[[0.0,\"#0d0887\"],[0.1111111111111111,\"#46039f\"],[0.2222222222222222,\"#7201a8\"],[0.3333333333333333,\"#9c179e\"],[0.4444444444444444,\"#bd3786\"],[0.5555555555555556,\"#d8576b\"],[0.6666666666666666,\"#ed7953\"],[0.7777777777777778,\"#fb9f3a\"],[0.8888888888888888,\"#fdca26\"],[1.0,\"#f0f921\"]],\"sequentialminus\":[[0.0,\"#0d0887\"],[0.1111111111111111,\"#46039f\"],[0.2222222222222222,\"#7201a8\"],[0.3333333333333333,\"#9c179e\"],[0.4444444444444444,\"#bd3786\"],[0.5555555555555556,\"#d8576b\"],[0.6666666666666666,\"#ed7953\"],[0.7777777777777778,\"#fb9f3a\"],[0.8888888888888888,\"#fdca26\"],[1.0,\"#f0f921\"]]},\"colorway\":[\"#636efa\",\"#EF553B\",\"#00cc96\",\"#ab63fa\",\"#FFA15A\",\"#19d3f3\",\"#FF6692\",\"#B6E880\",\"#FF97FF\",\"#FECB52\"],\"font\":{\"color\":\"#f2f5fa\"},\"geo\":{\"bgcolor\":\"rgb(17,17,17)\",\"lakecolor\":\"rgb(17,17,17)\",\"landcolor\":\"rgb(17,17,17)\",\"showlakes\":true,\"showland\":true,\"subunitcolor\":\"#506784\"},\"hoverlabel\":{\"align\":\"left\"},\"hovermode\":\"closest\",\"mapbox\":{\"style\":\"dark\"},\"paper_bgcolor\":\"rgb(17,17,17)\",\"plot_bgcolor\":\"rgb(17,17,17)\",\"polar\":{\"angularaxis\":{\"gridcolor\":\"#506784\",\"linecolor\":\"#506784\",\"ticks\":\"\"},\"bgcolor\":\"rgb(17,17,17)\",\"radialaxis\":{\"gridcolor\":\"#506784\",\"linecolor\":\"#506784\",\"ticks\":\"\"}},\"scene\":{\"xaxis\":{\"backgroundcolor\":\"rgb(17,17,17)\",\"gridcolor\":\"#506784\",\"gridwidth\":2,\"linecolor\":\"#506784\",\"showbackground\":true,\"ticks\":\"\",\"zerolinecolor\":\"#C8D4E3\"},\"yaxis\":{\"backgroundcolor\":\"rgb(17,17,17)\",\"gridcolor\":\"#506784\",\"gridwidth\":2,\"linecolor\":\"#506784\",\"showbackground\":true,\"ticks\":\"\",\"zerolinecolor\":\"#C8D4E3\"},\"zaxis\":{\"backgroundcolor\":\"rgb(17,17,17)\",\"gridcolor\":\"#506784\",\"gridwidth\":2,\"linecolor\":\"#506784\",\"showbackground\":true,\"ticks\":\"\",\"zerolinecolor\":\"#C8D4E3\"}},\"shapedefaults\":{\"line\":{\"color\":\"#f2f5fa\"}},\"sliderdefaults\":{\"bgcolor\":\"#C8D4E3\",\"bordercolor\":\"rgb(17,17,17)\",\"borderwidth\":1,\"tickwidth\":0},\"ternary\":{\"aaxis\":{\"gridcolor\":\"#506784\",\"linecolor\":\"#506784\",\"ticks\":\"\"},\"baxis\":{\"gridcolor\":\"#506784\",\"linecolor\":\"#506784\",\"ticks\":\"\"},\"bgcolor\":\"rgb(17,17,17)\",\"caxis\":{\"gridcolor\":\"#506784\",\"linecolor\":\"#506784\",\"ticks\":\"\"}},\"title\":{\"x\":0.05},\"updatemenudefaults\":{\"bgcolor\":\"#506784\",\"borderwidth\":0},\"xaxis\":{\"automargin\":true,\"gridcolor\":\"#283442\",\"linecolor\":\"#506784\",\"ticks\":\"\",\"title\":{\"standoff\":15},\"zerolinecolor\":\"#283442\",\"zerolinewidth\":2},\"yaxis\":{\"automargin\":true,\"gridcolor\":\"#283442\",\"linecolor\":\"#506784\",\"ticks\":\"\",\"title\":{\"standoff\":15},\"zerolinecolor\":\"#283442\",\"zerolinewidth\":2}}},\"xaxis\":{\"side\":\"top\",\"title\":{\"text\":\"Период\"}},\"autosize\":false,\"width\":1200,\"height\":700,\"yaxis\":{\"title\":{\"text\":\"Отдел\"}}},                        {\"responsive\": true}                    ).then(function(){\n",
       "                            \n",
       "var gd = document.getElementById('c19b9c72-2ed1-4127-b300-d2b28ff816ed');\n",
       "var x = new MutationObserver(function (mutations, observer) {{\n",
       "        var display = window.getComputedStyle(gd).display;\n",
       "        if (!display || display === 'none') {{\n",
       "            console.log([gd, 'removed!']);\n",
       "            Plotly.purge(gd);\n",
       "            observer.disconnect();\n",
       "        }}\n",
       "}});\n",
       "\n",
       "// Listen for the removal of the full notebook cells\n",
       "var notebookContainer = gd.closest('#notebook-container');\n",
       "if (notebookContainer) {{\n",
       "    x.observe(notebookContainer, {childList: true});\n",
       "}}\n",
       "\n",
       "// Listen for the clearing of the current output cell\n",
       "var outputEl = gd.closest('.output');\n",
       "if (outputEl) {{\n",
       "    x.observe(outputEl, {childList: true});\n",
       "}}\n",
       "\n",
       "                        })                };                });            </script>        </div>"
      ]
     },
     "metadata": {},
     "output_type": "display_data"
    }
   ],
   "source": [
    "fed_core_sps = fed_core_sps.drop('group_id', axis = 1)\n",
    "\n",
    "fig = go.Figure(data=go.Heatmap(\n",
    "                                z = fed_core_sps,\n",
    "                                x = fed_core_sps.columns,\n",
    "                                y = fed_core_sps.group_name,\n",
    "                                reversescale = False,\n",
    "                                xgap = 5,\n",
    "                                ygap = 5,\n",
    "                                )\n",
    "                )\n",
    "\n",
    "fig.update_xaxes(side=\"top\")\n",
    "fig.update_layout(template=\"plotly_dark\",\n",
    "                  autosize = False,\n",
    "                  width = 1200, height = 700)\n",
    "\n",
    "fig.update_layout(xaxis_title = 'Период',\n",
    "                  yaxis_title = 'Отдел')\n",
    "\n",
    "fig.show()"
   ]
  },
  {
   "cell_type": "markdown",
   "id": "aefe6091-207c-4901-aa8f-0ff58c59a66a",
   "metadata": {},
   "source": [
    "## Визуализация"
   ]
  },
  {
   "cell_type": "code",
   "execution_count": 31,
   "id": "b2b7b4c9-b3ef-4919-9c3b-a432726cae40",
   "metadata": {},
   "outputs": [
    {
     "data": {
      "text/html": [
       "<div>\n",
       "<style scoped>\n",
       "    .dataframe tbody tr th:only-of-type {\n",
       "        vertical-align: middle;\n",
       "    }\n",
       "\n",
       "    .dataframe tbody tr th {\n",
       "        vertical-align: top;\n",
       "    }\n",
       "\n",
       "    .dataframe thead th {\n",
       "        text-align: right;\n",
       "    }\n",
       "</style>\n",
       "<table border=\"1\" class=\"dataframe\">\n",
       "  <thead>\n",
       "    <tr style=\"text-align: right;\">\n",
       "      <th></th>\n",
       "      <th>fed_core_in</th>\n",
       "      <th>group_id</th>\n",
       "      <th>group_name</th>\n",
       "      <th>perc_of_previous_in_dept</th>\n",
       "      <th>mean_perc_of_previous_in_dept</th>\n",
       "      <th>variance_perc_of_previous_in_dept</th>\n",
       "    </tr>\n",
       "  </thead>\n",
       "  <tbody>\n",
       "    <tr>\n",
       "      <th>0</th>\n",
       "      <td>2_22_11_15__23_02_15</td>\n",
       "      <td>1.0</td>\n",
       "      <td>СТРОЙМАТЕРИАЛЫ</td>\n",
       "      <td>89.7</td>\n",
       "      <td>88.8</td>\n",
       "      <td>23.6</td>\n",
       "    </tr>\n",
       "    <tr>\n",
       "      <th>1</th>\n",
       "      <td>2_22_11_15__23_02_15</td>\n",
       "      <td>2.0</td>\n",
       "      <td>СТОЛЯРНЫЕ ИЗДЕЛИЯ</td>\n",
       "      <td>92.9</td>\n",
       "      <td>87.2</td>\n",
       "      <td>30.2</td>\n",
       "    </tr>\n",
       "    <tr>\n",
       "      <th>2</th>\n",
       "      <td>2_22_11_15__23_02_15</td>\n",
       "      <td>3.0</td>\n",
       "      <td>ЭЛЕКТРОТОВАРЫ</td>\n",
       "      <td>93.7</td>\n",
       "      <td>92.2</td>\n",
       "      <td>2.2</td>\n",
       "    </tr>\n",
       "    <tr>\n",
       "      <th>3</th>\n",
       "      <td>2_22_11_15__23_02_15</td>\n",
       "      <td>4.0</td>\n",
       "      <td>ИНСТРУМЕНТЫ</td>\n",
       "      <td>90.5</td>\n",
       "      <td>89.1</td>\n",
       "      <td>2.0</td>\n",
       "    </tr>\n",
       "    <tr>\n",
       "      <th>4</th>\n",
       "      <td>2_22_11_15__23_02_15</td>\n",
       "      <td>5.0</td>\n",
       "      <td>НАПОЛЬНЫЕ ПОКРЫТИЯ</td>\n",
       "      <td>87.8</td>\n",
       "      <td>88.8</td>\n",
       "      <td>25.8</td>\n",
       "    </tr>\n",
       "    <tr>\n",
       "      <th>...</th>\n",
       "      <td>...</td>\n",
       "      <td>...</td>\n",
       "      <td>...</td>\n",
       "      <td>...</td>\n",
       "      <td>...</td>\n",
       "      <td>...</td>\n",
       "    </tr>\n",
       "    <tr>\n",
       "      <th>115</th>\n",
       "      <td>9_23_03_01__23_05_31</td>\n",
       "      <td>11.0</td>\n",
       "      <td>КРАСКИ</td>\n",
       "      <td>88.0</td>\n",
       "      <td>89.2</td>\n",
       "      <td>3.9</td>\n",
       "    </tr>\n",
       "    <tr>\n",
       "      <th>116</th>\n",
       "      <td>9_23_03_01__23_05_31</td>\n",
       "      <td>12.0</td>\n",
       "      <td>ОТДЕЛОЧНЫЕ МАТЕРИАЛЫ</td>\n",
       "      <td>83.8</td>\n",
       "      <td>85.7</td>\n",
       "      <td>4.7</td>\n",
       "    </tr>\n",
       "    <tr>\n",
       "      <th>117</th>\n",
       "      <td>9_23_03_01__23_05_31</td>\n",
       "      <td>13.0</td>\n",
       "      <td>СВЕТ</td>\n",
       "      <td>85.9</td>\n",
       "      <td>85.9</td>\n",
       "      <td>15.6</td>\n",
       "    </tr>\n",
       "    <tr>\n",
       "      <th>118</th>\n",
       "      <td>9_23_03_01__23_05_31</td>\n",
       "      <td>14.0</td>\n",
       "      <td>ХРАНЕНИЕ</td>\n",
       "      <td>91.4</td>\n",
       "      <td>89.8</td>\n",
       "      <td>3.6</td>\n",
       "    </tr>\n",
       "    <tr>\n",
       "      <th>119</th>\n",
       "      <td>9_23_03_01__23_05_31</td>\n",
       "      <td>15.0</td>\n",
       "      <td>КУХНИ</td>\n",
       "      <td>93.3</td>\n",
       "      <td>90.1</td>\n",
       "      <td>9.7</td>\n",
       "    </tr>\n",
       "  </tbody>\n",
       "</table>\n",
       "<p>120 rows × 6 columns</p>\n",
       "</div>"
      ],
      "text/plain": [
       "              fed_core_in  group_id            group_name  \\\n",
       "0    2_22_11_15__23_02_15       1.0        СТРОЙМАТЕРИАЛЫ   \n",
       "1    2_22_11_15__23_02_15       2.0     СТОЛЯРНЫЕ ИЗДЕЛИЯ   \n",
       "2    2_22_11_15__23_02_15       3.0         ЭЛЕКТРОТОВАРЫ   \n",
       "3    2_22_11_15__23_02_15       4.0           ИНСТРУМЕНТЫ   \n",
       "4    2_22_11_15__23_02_15       5.0    НАПОЛЬНЫЕ ПОКРЫТИЯ   \n",
       "..                    ...       ...                   ...   \n",
       "115  9_23_03_01__23_05_31      11.0                КРАСКИ   \n",
       "116  9_23_03_01__23_05_31      12.0  ОТДЕЛОЧНЫЕ МАТЕРИАЛЫ   \n",
       "117  9_23_03_01__23_05_31      13.0                  СВЕТ   \n",
       "118  9_23_03_01__23_05_31      14.0              ХРАНЕНИЕ   \n",
       "119  9_23_03_01__23_05_31      15.0                 КУХНИ   \n",
       "\n",
       "     perc_of_previous_in_dept  mean_perc_of_previous_in_dept  \\\n",
       "0                        89.7                           88.8   \n",
       "1                        92.9                           87.2   \n",
       "2                        93.7                           92.2   \n",
       "3                        90.5                           89.1   \n",
       "4                        87.8                           88.8   \n",
       "..                        ...                            ...   \n",
       "115                      88.0                           89.2   \n",
       "116                      83.8                           85.7   \n",
       "117                      85.9                           85.9   \n",
       "118                      91.4                           89.8   \n",
       "119                      93.3                           90.1   \n",
       "\n",
       "     variance_perc_of_previous_in_dept  \n",
       "0                                 23.6  \n",
       "1                                 30.2  \n",
       "2                                  2.2  \n",
       "3                                  2.0  \n",
       "4                                 25.8  \n",
       "..                                 ...  \n",
       "115                                3.9  \n",
       "116                                4.7  \n",
       "117                               15.6  \n",
       "118                                3.6  \n",
       "119                                9.7  \n",
       "\n",
       "[120 rows x 6 columns]"
      ]
     },
     "execution_count": 31,
     "metadata": {},
     "output_type": "execute_result"
    }
   ],
   "source": [
    "fed_core_sps_intersecttion = pd.concat([fed_core_2_vs_1,\n",
    "                                        fed_core_3_vs_2,\n",
    "                                        fed_core_4_vs_3,\n",
    "                                        fed_core_5_vs_4,\n",
    "                                        fed_core_6_vs_5,\n",
    "                                        fed_core_7_vs_6,\n",
    "                                        fed_core_8_vs_7,\n",
    "                                        fed_core_9_vs_8\n",
    "                                        ], ignore_index=True)\n",
    "\n",
    "fed_core_sps_intersecttion['mean_perc_of_previous_in_dept'] = fed_core_sps_intersecttion.groupby(['group_name'])['perc_of_previous_in_dept'].transform('mean')\n",
    "fed_core_sps_intersecttion['mean_perc_of_previous_in_dept'] = round((fed_core_sps_intersecttion['mean_perc_of_previous_in_dept']),1)\n",
    "\n",
    "fed_core_sps_intersecttion['variance_perc_of_previous_in_dept'] = fed_core_sps_intersecttion.groupby(['group_name'])['perc_of_previous_in_dept'].transform('var')\n",
    "fed_core_sps_intersecttion['variance_perc_of_previous_in_dept'] = round((fed_core_sps_intersecttion['variance_perc_of_previous_in_dept']),1)\n",
    "\n",
    "fed_core_sps_intersecttion"
   ]
  },
  {
   "cell_type": "code",
   "execution_count": 32,
   "id": "74be530c-c6b0-4a96-ba28-20981d6d45f3",
   "metadata": {},
   "outputs": [
    {
     "data": {
      "application/vnd.plotly.v1+json": {
       "config": {
        "plotlyServerURL": "https://plot.ly"
       },
       "data": [
        {
         "alignmentgroup": "True",
         "hovertemplate": "group_name=%{x}<br>perc_of_previous_in_dept=%{y}<extra></extra>",
         "legendgroup": "",
         "marker": {
          "color": "#636efa"
         },
         "name": "",
         "notched": false,
         "offsetgroup": "",
         "orientation": "v",
         "showlegend": false,
         "type": "box",
         "x": [
          "СТРОЙМАТЕРИАЛЫ",
          "СТОЛЯРНЫЕ ИЗДЕЛИЯ",
          "ЭЛЕКТРОТОВАРЫ",
          "ИНСТРУМЕНТЫ",
          "НАПОЛЬНЫЕ ПОКРЫТИЯ",
          "ПЛИТКА",
          "САНТЕХНИКА",
          "ВОДОСНАБЖЕНИЕ",
          "САД",
          "СКОБЯНЫЕ ИЗДЕЛИЯ",
          "КРАСКИ",
          "ОТДЕЛОЧНЫЕ МАТЕРИАЛЫ",
          "СВЕТ",
          "ХРАНЕНИЕ",
          "КУХНИ",
          "СТРОЙМАТЕРИАЛЫ",
          "СТОЛЯРНЫЕ ИЗДЕЛИЯ",
          "ЭЛЕКТРОТОВАРЫ",
          "ИНСТРУМЕНТЫ",
          "НАПОЛЬНЫЕ ПОКРЫТИЯ",
          "ПЛИТКА",
          "САНТЕХНИКА",
          "ВОДОСНАБЖЕНИЕ",
          "САД",
          "СКОБЯНЫЕ ИЗДЕЛИЯ",
          "КРАСКИ",
          "ОТДЕЛОЧНЫЕ МАТЕРИАЛЫ",
          "СВЕТ",
          "ХРАНЕНИЕ",
          "КУХНИ",
          "СТРОЙМАТЕРИАЛЫ",
          "СТОЛЯРНЫЕ ИЗДЕЛИЯ",
          "ЭЛЕКТРОТОВАРЫ",
          "ИНСТРУМЕНТЫ",
          "НАПОЛЬНЫЕ ПОКРЫТИЯ",
          "ПЛИТКА",
          "САНТЕХНИКА",
          "ВОДОСНАБЖЕНИЕ",
          "САД",
          "СКОБЯНЫЕ ИЗДЕЛИЯ",
          "КРАСКИ",
          "ОТДЕЛОЧНЫЕ МАТЕРИАЛЫ",
          "СВЕТ",
          "ХРАНЕНИЕ",
          "КУХНИ",
          "СТРОЙМАТЕРИАЛЫ",
          "СТОЛЯРНЫЕ ИЗДЕЛИЯ",
          "ЭЛЕКТРОТОВАРЫ",
          "ИНСТРУМЕНТЫ",
          "НАПОЛЬНЫЕ ПОКРЫТИЯ",
          "ПЛИТКА",
          "САНТЕХНИКА",
          "ВОДОСНАБЖЕНИЕ",
          "САД",
          "СКОБЯНЫЕ ИЗДЕЛИЯ",
          "КРАСКИ",
          "ОТДЕЛОЧНЫЕ МАТЕРИАЛЫ",
          "СВЕТ",
          "ХРАНЕНИЕ",
          "КУХНИ",
          "СТРОЙМАТЕРИАЛЫ",
          "СТОЛЯРНЫЕ ИЗДЕЛИЯ",
          "ЭЛЕКТРОТОВАРЫ",
          "ИНСТРУМЕНТЫ",
          "НАПОЛЬНЫЕ ПОКРЫТИЯ",
          "ПЛИТКА",
          "САНТЕХНИКА",
          "ВОДОСНАБЖЕНИЕ",
          "САД",
          "СКОБЯНЫЕ ИЗДЕЛИЯ",
          "КРАСКИ",
          "ОТДЕЛОЧНЫЕ МАТЕРИАЛЫ",
          "СВЕТ",
          "ХРАНЕНИЕ",
          "КУХНИ",
          "СТРОЙМАТЕРИАЛЫ",
          "СТОЛЯРНЫЕ ИЗДЕЛИЯ",
          "ЭЛЕКТРОТОВАРЫ",
          "ИНСТРУМЕНТЫ",
          "НАПОЛЬНЫЕ ПОКРЫТИЯ",
          "ПЛИТКА",
          "САНТЕХНИКА",
          "ВОДОСНАБЖЕНИЕ",
          "САД",
          "СКОБЯНЫЕ ИЗДЕЛИЯ",
          "КРАСКИ",
          "ОТДЕЛОЧНЫЕ МАТЕРИАЛЫ",
          "СВЕТ",
          "ХРАНЕНИЕ",
          "КУХНИ",
          "СТРОЙМАТЕРИАЛЫ",
          "СТОЛЯРНЫЕ ИЗДЕЛИЯ",
          "ЭЛЕКТРОТОВАРЫ",
          "ИНСТРУМЕНТЫ",
          "НАПОЛЬНЫЕ ПОКРЫТИЯ",
          "ПЛИТКА",
          "САНТЕХНИКА",
          "ВОДОСНАБЖЕНИЕ",
          "САД",
          "СКОБЯНЫЕ ИЗДЕЛИЯ",
          "КРАСКИ",
          "ОТДЕЛОЧНЫЕ МАТЕРИАЛЫ",
          "СВЕТ",
          "ХРАНЕНИЕ",
          "КУХНИ",
          "СТРОЙМАТЕРИАЛЫ",
          "СТОЛЯРНЫЕ ИЗДЕЛИЯ",
          "ЭЛЕКТРОТОВАРЫ",
          "ИНСТРУМЕНТЫ",
          "НАПОЛЬНЫЕ ПОКРЫТИЯ",
          "ПЛИТКА",
          "САНТЕХНИКА",
          "ВОДОСНАБЖЕНИЕ",
          "САД",
          "СКОБЯНЫЕ ИЗДЕЛИЯ",
          "КРАСКИ",
          "ОТДЕЛОЧНЫЕ МАТЕРИАЛЫ",
          "СВЕТ",
          "ХРАНЕНИЕ",
          "КУХНИ"
         ],
         "x0": " ",
         "xaxis": "x",
         "y": [
          89.7,
          92.9,
          93.7,
          90.5,
          87.8,
          92.5,
          83.7,
          91.3,
          69.4,
          87.5,
          91.6,
          89,
          82.7,
          91.6,
          86.7,
          91.9,
          93.1,
          93.8,
          86.6,
          89,
          90.5,
          80.9,
          95,
          78.6,
          82.9,
          89.7,
          81.9,
          89,
          89.2,
          92.6,
          84.2,
          84.4,
          93.9,
          90.8,
          87.1,
          93,
          84.2,
          91.8,
          81.9,
          87.9,
          91.2,
          86,
          88.4,
          91.6,
          87.1,
          85.4,
          90.3,
          90,
          88.4,
          83.1,
          85.4,
          83,
          93.8,
          75.5,
          82.2,
          86.4,
          85.8,
          79.9,
          89.3,
          87.7,
          97.5,
          85.3,
          91.8,
          90,
          81.8,
          86.3,
          81.8,
          89,
          75.1,
          84.4,
          86.8,
          85.3,
          90.8,
          86,
          87.5,
          89.2,
          90.6,
          90.8,
          87.8,
          90.3,
          90.7,
          80.1,
          92.1,
          61,
          82.1,
          89.1,
          86.2,
          81.8,
          88.8,
          94.2,
          82.2,
          83.3,
          91.5,
          89,
          96.1,
          94.3,
          83.2,
          90.2,
          81,
          83,
          90.6,
          87.5,
          88.4,
          90.3,
          91.4,
          90.5,
          77.4,
          91.7,
          89.6,
          95.1,
          98.1,
          84.3,
          88.8,
          78.6,
          82.4,
          88,
          83.8,
          85.9,
          91.4,
          93.3
         ],
         "y0": " ",
         "yaxis": "y"
        }
       ],
       "layout": {
        "boxmode": "group",
        "height": 700,
        "legend": {
         "tracegroupgap": 0
        },
        "margin": {
         "t": 60
        },
        "template": {
         "data": {
          "bar": [
           {
            "error_x": {
             "color": "#f2f5fa"
            },
            "error_y": {
             "color": "#f2f5fa"
            },
            "marker": {
             "line": {
              "color": "rgb(17,17,17)",
              "width": 0.5
             },
             "pattern": {
              "fillmode": "overlay",
              "size": 10,
              "solidity": 0.2
             }
            },
            "type": "bar"
           }
          ],
          "barpolar": [
           {
            "marker": {
             "line": {
              "color": "rgb(17,17,17)",
              "width": 0.5
             },
             "pattern": {
              "fillmode": "overlay",
              "size": 10,
              "solidity": 0.2
             }
            },
            "type": "barpolar"
           }
          ],
          "carpet": [
           {
            "aaxis": {
             "endlinecolor": "#A2B1C6",
             "gridcolor": "#506784",
             "linecolor": "#506784",
             "minorgridcolor": "#506784",
             "startlinecolor": "#A2B1C6"
            },
            "baxis": {
             "endlinecolor": "#A2B1C6",
             "gridcolor": "#506784",
             "linecolor": "#506784",
             "minorgridcolor": "#506784",
             "startlinecolor": "#A2B1C6"
            },
            "type": "carpet"
           }
          ],
          "choropleth": [
           {
            "colorbar": {
             "outlinewidth": 0,
             "ticks": ""
            },
            "type": "choropleth"
           }
          ],
          "contour": [
           {
            "colorbar": {
             "outlinewidth": 0,
             "ticks": ""
            },
            "colorscale": [
             [
              0,
              "#0d0887"
             ],
             [
              0.1111111111111111,
              "#46039f"
             ],
             [
              0.2222222222222222,
              "#7201a8"
             ],
             [
              0.3333333333333333,
              "#9c179e"
             ],
             [
              0.4444444444444444,
              "#bd3786"
             ],
             [
              0.5555555555555556,
              "#d8576b"
             ],
             [
              0.6666666666666666,
              "#ed7953"
             ],
             [
              0.7777777777777778,
              "#fb9f3a"
             ],
             [
              0.8888888888888888,
              "#fdca26"
             ],
             [
              1,
              "#f0f921"
             ]
            ],
            "type": "contour"
           }
          ],
          "contourcarpet": [
           {
            "colorbar": {
             "outlinewidth": 0,
             "ticks": ""
            },
            "type": "contourcarpet"
           }
          ],
          "heatmap": [
           {
            "colorbar": {
             "outlinewidth": 0,
             "ticks": ""
            },
            "colorscale": [
             [
              0,
              "#0d0887"
             ],
             [
              0.1111111111111111,
              "#46039f"
             ],
             [
              0.2222222222222222,
              "#7201a8"
             ],
             [
              0.3333333333333333,
              "#9c179e"
             ],
             [
              0.4444444444444444,
              "#bd3786"
             ],
             [
              0.5555555555555556,
              "#d8576b"
             ],
             [
              0.6666666666666666,
              "#ed7953"
             ],
             [
              0.7777777777777778,
              "#fb9f3a"
             ],
             [
              0.8888888888888888,
              "#fdca26"
             ],
             [
              1,
              "#f0f921"
             ]
            ],
            "type": "heatmap"
           }
          ],
          "heatmapgl": [
           {
            "colorbar": {
             "outlinewidth": 0,
             "ticks": ""
            },
            "colorscale": [
             [
              0,
              "#0d0887"
             ],
             [
              0.1111111111111111,
              "#46039f"
             ],
             [
              0.2222222222222222,
              "#7201a8"
             ],
             [
              0.3333333333333333,
              "#9c179e"
             ],
             [
              0.4444444444444444,
              "#bd3786"
             ],
             [
              0.5555555555555556,
              "#d8576b"
             ],
             [
              0.6666666666666666,
              "#ed7953"
             ],
             [
              0.7777777777777778,
              "#fb9f3a"
             ],
             [
              0.8888888888888888,
              "#fdca26"
             ],
             [
              1,
              "#f0f921"
             ]
            ],
            "type": "heatmapgl"
           }
          ],
          "histogram": [
           {
            "marker": {
             "pattern": {
              "fillmode": "overlay",
              "size": 10,
              "solidity": 0.2
             }
            },
            "type": "histogram"
           }
          ],
          "histogram2d": [
           {
            "colorbar": {
             "outlinewidth": 0,
             "ticks": ""
            },
            "colorscale": [
             [
              0,
              "#0d0887"
             ],
             [
              0.1111111111111111,
              "#46039f"
             ],
             [
              0.2222222222222222,
              "#7201a8"
             ],
             [
              0.3333333333333333,
              "#9c179e"
             ],
             [
              0.4444444444444444,
              "#bd3786"
             ],
             [
              0.5555555555555556,
              "#d8576b"
             ],
             [
              0.6666666666666666,
              "#ed7953"
             ],
             [
              0.7777777777777778,
              "#fb9f3a"
             ],
             [
              0.8888888888888888,
              "#fdca26"
             ],
             [
              1,
              "#f0f921"
             ]
            ],
            "type": "histogram2d"
           }
          ],
          "histogram2dcontour": [
           {
            "colorbar": {
             "outlinewidth": 0,
             "ticks": ""
            },
            "colorscale": [
             [
              0,
              "#0d0887"
             ],
             [
              0.1111111111111111,
              "#46039f"
             ],
             [
              0.2222222222222222,
              "#7201a8"
             ],
             [
              0.3333333333333333,
              "#9c179e"
             ],
             [
              0.4444444444444444,
              "#bd3786"
             ],
             [
              0.5555555555555556,
              "#d8576b"
             ],
             [
              0.6666666666666666,
              "#ed7953"
             ],
             [
              0.7777777777777778,
              "#fb9f3a"
             ],
             [
              0.8888888888888888,
              "#fdca26"
             ],
             [
              1,
              "#f0f921"
             ]
            ],
            "type": "histogram2dcontour"
           }
          ],
          "mesh3d": [
           {
            "colorbar": {
             "outlinewidth": 0,
             "ticks": ""
            },
            "type": "mesh3d"
           }
          ],
          "parcoords": [
           {
            "line": {
             "colorbar": {
              "outlinewidth": 0,
              "ticks": ""
             }
            },
            "type": "parcoords"
           }
          ],
          "pie": [
           {
            "automargin": true,
            "type": "pie"
           }
          ],
          "scatter": [
           {
            "marker": {
             "line": {
              "color": "#283442"
             }
            },
            "type": "scatter"
           }
          ],
          "scatter3d": [
           {
            "line": {
             "colorbar": {
              "outlinewidth": 0,
              "ticks": ""
             }
            },
            "marker": {
             "colorbar": {
              "outlinewidth": 0,
              "ticks": ""
             }
            },
            "type": "scatter3d"
           }
          ],
          "scattercarpet": [
           {
            "marker": {
             "colorbar": {
              "outlinewidth": 0,
              "ticks": ""
             }
            },
            "type": "scattercarpet"
           }
          ],
          "scattergeo": [
           {
            "marker": {
             "colorbar": {
              "outlinewidth": 0,
              "ticks": ""
             }
            },
            "type": "scattergeo"
           }
          ],
          "scattergl": [
           {
            "marker": {
             "line": {
              "color": "#283442"
             }
            },
            "type": "scattergl"
           }
          ],
          "scattermapbox": [
           {
            "marker": {
             "colorbar": {
              "outlinewidth": 0,
              "ticks": ""
             }
            },
            "type": "scattermapbox"
           }
          ],
          "scatterpolar": [
           {
            "marker": {
             "colorbar": {
              "outlinewidth": 0,
              "ticks": ""
             }
            },
            "type": "scatterpolar"
           }
          ],
          "scatterpolargl": [
           {
            "marker": {
             "colorbar": {
              "outlinewidth": 0,
              "ticks": ""
             }
            },
            "type": "scatterpolargl"
           }
          ],
          "scatterternary": [
           {
            "marker": {
             "colorbar": {
              "outlinewidth": 0,
              "ticks": ""
             }
            },
            "type": "scatterternary"
           }
          ],
          "surface": [
           {
            "colorbar": {
             "outlinewidth": 0,
             "ticks": ""
            },
            "colorscale": [
             [
              0,
              "#0d0887"
             ],
             [
              0.1111111111111111,
              "#46039f"
             ],
             [
              0.2222222222222222,
              "#7201a8"
             ],
             [
              0.3333333333333333,
              "#9c179e"
             ],
             [
              0.4444444444444444,
              "#bd3786"
             ],
             [
              0.5555555555555556,
              "#d8576b"
             ],
             [
              0.6666666666666666,
              "#ed7953"
             ],
             [
              0.7777777777777778,
              "#fb9f3a"
             ],
             [
              0.8888888888888888,
              "#fdca26"
             ],
             [
              1,
              "#f0f921"
             ]
            ],
            "type": "surface"
           }
          ],
          "table": [
           {
            "cells": {
             "fill": {
              "color": "#506784"
             },
             "line": {
              "color": "rgb(17,17,17)"
             }
            },
            "header": {
             "fill": {
              "color": "#2a3f5f"
             },
             "line": {
              "color": "rgb(17,17,17)"
             }
            },
            "type": "table"
           }
          ]
         },
         "layout": {
          "annotationdefaults": {
           "arrowcolor": "#f2f5fa",
           "arrowhead": 0,
           "arrowwidth": 1
          },
          "autotypenumbers": "strict",
          "coloraxis": {
           "colorbar": {
            "outlinewidth": 0,
            "ticks": ""
           }
          },
          "colorscale": {
           "diverging": [
            [
             0,
             "#8e0152"
            ],
            [
             0.1,
             "#c51b7d"
            ],
            [
             0.2,
             "#de77ae"
            ],
            [
             0.3,
             "#f1b6da"
            ],
            [
             0.4,
             "#fde0ef"
            ],
            [
             0.5,
             "#f7f7f7"
            ],
            [
             0.6,
             "#e6f5d0"
            ],
            [
             0.7,
             "#b8e186"
            ],
            [
             0.8,
             "#7fbc41"
            ],
            [
             0.9,
             "#4d9221"
            ],
            [
             1,
             "#276419"
            ]
           ],
           "sequential": [
            [
             0,
             "#0d0887"
            ],
            [
             0.1111111111111111,
             "#46039f"
            ],
            [
             0.2222222222222222,
             "#7201a8"
            ],
            [
             0.3333333333333333,
             "#9c179e"
            ],
            [
             0.4444444444444444,
             "#bd3786"
            ],
            [
             0.5555555555555556,
             "#d8576b"
            ],
            [
             0.6666666666666666,
             "#ed7953"
            ],
            [
             0.7777777777777778,
             "#fb9f3a"
            ],
            [
             0.8888888888888888,
             "#fdca26"
            ],
            [
             1,
             "#f0f921"
            ]
           ],
           "sequentialminus": [
            [
             0,
             "#0d0887"
            ],
            [
             0.1111111111111111,
             "#46039f"
            ],
            [
             0.2222222222222222,
             "#7201a8"
            ],
            [
             0.3333333333333333,
             "#9c179e"
            ],
            [
             0.4444444444444444,
             "#bd3786"
            ],
            [
             0.5555555555555556,
             "#d8576b"
            ],
            [
             0.6666666666666666,
             "#ed7953"
            ],
            [
             0.7777777777777778,
             "#fb9f3a"
            ],
            [
             0.8888888888888888,
             "#fdca26"
            ],
            [
             1,
             "#f0f921"
            ]
           ]
          },
          "colorway": [
           "#636efa",
           "#EF553B",
           "#00cc96",
           "#ab63fa",
           "#FFA15A",
           "#19d3f3",
           "#FF6692",
           "#B6E880",
           "#FF97FF",
           "#FECB52"
          ],
          "font": {
           "color": "#f2f5fa"
          },
          "geo": {
           "bgcolor": "rgb(17,17,17)",
           "lakecolor": "rgb(17,17,17)",
           "landcolor": "rgb(17,17,17)",
           "showlakes": true,
           "showland": true,
           "subunitcolor": "#506784"
          },
          "hoverlabel": {
           "align": "left"
          },
          "hovermode": "closest",
          "mapbox": {
           "style": "dark"
          },
          "paper_bgcolor": "rgb(17,17,17)",
          "plot_bgcolor": "rgb(17,17,17)",
          "polar": {
           "angularaxis": {
            "gridcolor": "#506784",
            "linecolor": "#506784",
            "ticks": ""
           },
           "bgcolor": "rgb(17,17,17)",
           "radialaxis": {
            "gridcolor": "#506784",
            "linecolor": "#506784",
            "ticks": ""
           }
          },
          "scene": {
           "xaxis": {
            "backgroundcolor": "rgb(17,17,17)",
            "gridcolor": "#506784",
            "gridwidth": 2,
            "linecolor": "#506784",
            "showbackground": true,
            "ticks": "",
            "zerolinecolor": "#C8D4E3"
           },
           "yaxis": {
            "backgroundcolor": "rgb(17,17,17)",
            "gridcolor": "#506784",
            "gridwidth": 2,
            "linecolor": "#506784",
            "showbackground": true,
            "ticks": "",
            "zerolinecolor": "#C8D4E3"
           },
           "zaxis": {
            "backgroundcolor": "rgb(17,17,17)",
            "gridcolor": "#506784",
            "gridwidth": 2,
            "linecolor": "#506784",
            "showbackground": true,
            "ticks": "",
            "zerolinecolor": "#C8D4E3"
           }
          },
          "shapedefaults": {
           "line": {
            "color": "#f2f5fa"
           }
          },
          "sliderdefaults": {
           "bgcolor": "#C8D4E3",
           "bordercolor": "rgb(17,17,17)",
           "borderwidth": 1,
           "tickwidth": 0
          },
          "ternary": {
           "aaxis": {
            "gridcolor": "#506784",
            "linecolor": "#506784",
            "ticks": ""
           },
           "baxis": {
            "gridcolor": "#506784",
            "linecolor": "#506784",
            "ticks": ""
           },
           "bgcolor": "rgb(17,17,17)",
           "caxis": {
            "gridcolor": "#506784",
            "linecolor": "#506784",
            "ticks": ""
           }
          },
          "title": {
           "x": 0.05
          },
          "updatemenudefaults": {
           "bgcolor": "#506784",
           "borderwidth": 0
          },
          "xaxis": {
           "automargin": true,
           "gridcolor": "#283442",
           "linecolor": "#506784",
           "ticks": "",
           "title": {
            "standoff": 15
           },
           "zerolinecolor": "#283442",
           "zerolinewidth": 2
          },
          "yaxis": {
           "automargin": true,
           "gridcolor": "#283442",
           "linecolor": "#506784",
           "ticks": "",
           "title": {
            "standoff": 15
           },
           "zerolinecolor": "#283442",
           "zerolinewidth": 2
          }
         }
        },
        "title": {
         "text": "Доля поэтапного попадания артикулов в федеральную базу за Ноябрь 2022 - Май 2023 (интервал - 3 месяца, шаг - 2 недели)"
        },
        "width": 1200,
        "xaxis": {
         "anchor": "y",
         "autorange": true,
         "domain": [
          0,
          1
         ],
         "range": [
          -0.5,
          14.5
         ],
         "title": {
          "text": "Отдел"
         },
         "type": "category"
        },
        "yaxis": {
         "anchor": "x",
         "domain": [
          0,
          1
         ],
         "range": [
          60,
          100
         ],
         "title": {
          "text": "Доля артикулов, сохранившихся в федеральной базе"
         },
         "type": "linear"
        }
       }
      },
      "image/png": "[encoded data removed]",
      "text/html": [
       "<div>                            <div id=\"a63804f3-db90-417b-ad75-d21a09ed69db\" class=\"plotly-graph-div\" style=\"height:700px; width:1200px;\"></div>            <script type=\"text/javascript\">                require([\"plotly\"], function(Plotly) {                    window.PLOTLYENV=window.PLOTLYENV || {};                                    if (document.getElementById(\"a63804f3-db90-417b-ad75-d21a09ed69db\")) {                    Plotly.newPlot(                        \"a63804f3-db90-417b-ad75-d21a09ed69db\",                        [{\"alignmentgroup\":\"True\",\"hovertemplate\":\"group_name=%{x}<br>perc_of_previous_in_dept=%{y}<extra></extra>\",\"legendgroup\":\"\",\"marker\":{\"color\":\"#636efa\"},\"name\":\"\",\"notched\":false,\"offsetgroup\":\"\",\"orientation\":\"v\",\"showlegend\":false,\"x\":[\"СТРОЙМАТЕРИАЛЫ\",\"СТОЛЯРНЫЕ ИЗДЕЛИЯ\",\"ЭЛЕКТРОТОВАРЫ\",\"ИНСТРУМЕНТЫ\",\"НАПОЛЬНЫЕ ПОКРЫТИЯ\",\"ПЛИТКА\",\"САНТЕХНИКА\",\"ВОДОСНАБЖЕНИЕ\",\"САД\",\"СКОБЯНЫЕ ИЗДЕЛИЯ\",\"КРАСКИ\",\"ОТДЕЛОЧНЫЕ МАТЕРИАЛЫ\",\"СВЕТ\",\"ХРАНЕНИЕ\",\"КУХНИ\",\"СТРОЙМАТЕРИАЛЫ\",\"СТОЛЯРНЫЕ ИЗДЕЛИЯ\",\"ЭЛЕКТРОТОВАРЫ\",\"ИНСТРУМЕНТЫ\",\"НАПОЛЬНЫЕ ПОКРЫТИЯ\",\"ПЛИТКА\",\"САНТЕХНИКА\",\"ВОДОСНАБЖЕНИЕ\",\"САД\",\"СКОБЯНЫЕ ИЗДЕЛИЯ\",\"КРАСКИ\",\"ОТДЕЛОЧНЫЕ МАТЕРИАЛЫ\",\"СВЕТ\",\"ХРАНЕНИЕ\",\"КУХНИ\",\"СТРОЙМАТЕРИАЛЫ\",\"СТОЛЯРНЫЕ ИЗДЕЛИЯ\",\"ЭЛЕКТРОТОВАРЫ\",\"ИНСТРУМЕНТЫ\",\"НАПОЛЬНЫЕ ПОКРЫТИЯ\",\"ПЛИТКА\",\"САНТЕХНИКА\",\"ВОДОСНАБЖЕНИЕ\",\"САД\",\"СКОБЯНЫЕ ИЗДЕЛИЯ\",\"КРАСКИ\",\"ОТДЕЛОЧНЫЕ МАТЕРИАЛЫ\",\"СВЕТ\",\"ХРАНЕНИЕ\",\"КУХНИ\",\"СТРОЙМАТЕРИАЛЫ\",\"СТОЛЯРНЫЕ ИЗДЕЛИЯ\",\"ЭЛЕКТРОТОВАРЫ\",\"ИНСТРУМЕНТЫ\",\"НАПОЛЬНЫЕ ПОКРЫТИЯ\",\"ПЛИТКА\",\"САНТЕХНИКА\",\"ВОДОСНАБЖЕНИЕ\",\"САД\",\"СКОБЯНЫЕ ИЗДЕЛИЯ\",\"КРАСКИ\",\"ОТДЕЛОЧНЫЕ МАТЕРИАЛЫ\",\"СВЕТ\",\"ХРАНЕНИЕ\",\"КУХНИ\",\"СТРОЙМАТЕРИАЛЫ\",\"СТОЛЯРНЫЕ ИЗДЕЛИЯ\",\"ЭЛЕКТРОТОВАРЫ\",\"ИНСТРУМЕНТЫ\",\"НАПОЛЬНЫЕ ПОКРЫТИЯ\",\"ПЛИТКА\",\"САНТЕХНИКА\",\"ВОДОСНАБЖЕНИЕ\",\"САД\",\"СКОБЯНЫЕ ИЗДЕЛИЯ\",\"КРАСКИ\",\"ОТДЕЛОЧНЫЕ МАТЕРИАЛЫ\",\"СВЕТ\",\"ХРАНЕНИЕ\",\"КУХНИ\",\"СТРОЙМАТЕРИАЛЫ\",\"СТОЛЯРНЫЕ ИЗДЕЛИЯ\",\"ЭЛЕКТРОТОВАРЫ\",\"ИНСТРУМЕНТЫ\",\"НАПОЛЬНЫЕ ПОКРЫТИЯ\",\"ПЛИТКА\",\"САНТЕХНИКА\",\"ВОДОСНАБЖЕНИЕ\",\"САД\",\"СКОБЯНЫЕ ИЗДЕЛИЯ\",\"КРАСКИ\",\"ОТДЕЛОЧНЫЕ МАТЕРИАЛЫ\",\"СВЕТ\",\"ХРАНЕНИЕ\",\"КУХНИ\",\"СТРОЙМАТЕРИАЛЫ\",\"СТОЛЯРНЫЕ ИЗДЕЛИЯ\",\"ЭЛЕКТРОТОВАРЫ\",\"ИНСТРУМЕНТЫ\",\"НАПОЛЬНЫЕ ПОКРЫТИЯ\",\"ПЛИТКА\",\"САНТЕХНИКА\",\"ВОДОСНАБЖЕНИЕ\",\"САД\",\"СКОБЯНЫЕ ИЗДЕЛИЯ\",\"КРАСКИ\",\"ОТДЕЛОЧНЫЕ МАТЕРИАЛЫ\",\"СВЕТ\",\"ХРАНЕНИЕ\",\"КУХНИ\",\"СТРОЙМАТЕРИАЛЫ\",\"СТОЛЯРНЫЕ ИЗДЕЛИЯ\",\"ЭЛЕКТРОТОВАРЫ\",\"ИНСТРУМЕНТЫ\",\"НАПОЛЬНЫЕ ПОКРЫТИЯ\",\"ПЛИТКА\",\"САНТЕХНИКА\",\"ВОДОСНАБЖЕНИЕ\",\"САД\",\"СКОБЯНЫЕ ИЗДЕЛИЯ\",\"КРАСКИ\",\"ОТДЕЛОЧНЫЕ МАТЕРИАЛЫ\",\"СВЕТ\",\"ХРАНЕНИЕ\",\"КУХНИ\"],\"x0\":\" \",\"xaxis\":\"x\",\"y\":[89.7,92.9,93.7,90.5,87.8,92.5,83.7,91.3,69.4,87.5,91.6,89.0,82.7,91.6,86.7,91.9,93.1,93.8,86.6,89.0,90.5,80.9,95.0,78.6,82.9,89.7,81.9,89.0,89.2,92.6,84.2,84.4,93.9,90.8,87.1,93.0,84.2,91.8,81.9,87.9,91.2,86.0,88.4,91.6,87.1,85.4,90.3,90.0,88.4,83.1,85.4,83.0,93.8,75.5,82.2,86.4,85.8,79.9,89.3,87.7,97.5,85.3,91.8,90.0,81.8,86.3,81.8,89.0,75.1,84.4,86.8,85.3,90.8,86.0,87.5,89.2,90.6,90.8,87.8,90.3,90.7,80.1,92.1,61.0,82.1,89.1,86.2,81.8,88.8,94.2,82.2,83.3,91.5,89.0,96.1,94.3,83.2,90.2,81.0,83.0,90.6,87.5,88.4,90.3,91.4,90.5,77.4,91.7,89.6,95.1,98.1,84.3,88.8,78.6,82.4,88.0,83.8,85.9,91.4,93.3],\"y0\":\" \",\"yaxis\":\"y\",\"type\":\"box\"}],                        {\"template\":{\"data\":{\"barpolar\":[{\"marker\":{\"line\":{\"color\":\"rgb(17,17,17)\",\"width\":0.5},\"pattern\":{\"fillmode\":\"overlay\",\"size\":10,\"solidity\":0.2}},\"type\":\"barpolar\"}],\"bar\":[{\"error_x\":{\"color\":\"#f2f5fa\"},\"error_y\":{\"color\":\"#f2f5fa\"},\"marker\":{\"line\":{\"color\":\"rgb(17,17,17)\",\"width\":0.5},\"pattern\":{\"fillmode\":\"overlay\",\"size\":10,\"solidity\":0.2}},\"type\":\"bar\"}],\"carpet\":[{\"aaxis\":{\"endlinecolor\":\"#A2B1C6\",\"gridcolor\":\"#506784\",\"linecolor\":\"#506784\",\"minorgridcolor\":\"#506784\",\"startlinecolor\":\"#A2B1C6\"},\"baxis\":{\"endlinecolor\":\"#A2B1C6\",\"gridcolor\":\"#506784\",\"linecolor\":\"#506784\",\"minorgridcolor\":\"#506784\",\"startlinecolor\":\"#A2B1C6\"},\"type\":\"carpet\"}],\"choropleth\":[{\"colorbar\":{\"outlinewidth\":0,\"ticks\":\"\"},\"type\":\"choropleth\"}],\"contourcarpet\":[{\"colorbar\":{\"outlinewidth\":0,\"ticks\":\"\"},\"type\":\"contourcarpet\"}],\"contour\":[{\"colorbar\":{\"outlinewidth\":0,\"ticks\":\"\"},\"colorscale\":[[0.0,\"#0d0887\"],[0.1111111111111111,\"#46039f\"],[0.2222222222222222,\"#7201a8\"],[0.3333333333333333,\"#9c179e\"],[0.4444444444444444,\"#bd3786\"],[0.5555555555555556,\"#d8576b\"],[0.6666666666666666,\"#ed7953\"],[0.7777777777777778,\"#fb9f3a\"],[0.8888888888888888,\"#fdca26\"],[1.0,\"#f0f921\"]],\"type\":\"contour\"}],\"heatmapgl\":[{\"colorbar\":{\"outlinewidth\":0,\"ticks\":\"\"},\"colorscale\":[[0.0,\"#0d0887\"],[0.1111111111111111,\"#46039f\"],[0.2222222222222222,\"#7201a8\"],[0.3333333333333333,\"#9c179e\"],[0.4444444444444444,\"#bd3786\"],[0.5555555555555556,\"#d8576b\"],[0.6666666666666666,\"#ed7953\"],[0.7777777777777778,\"#fb9f3a\"],[0.8888888888888888,\"#fdca26\"],[1.0,\"#f0f921\"]],\"type\":\"heatmapgl\"}],\"heatmap\":[{\"colorbar\":{\"outlinewidth\":0,\"ticks\":\"\"},\"colorscale\":[[0.0,\"#0d0887\"],[0.1111111111111111,\"#46039f\"],[0.2222222222222222,\"#7201a8\"],[0.3333333333333333,\"#9c179e\"],[0.4444444444444444,\"#bd3786\"],[0.5555555555555556,\"#d8576b\"],[0.6666666666666666,\"#ed7953\"],[0.7777777777777778,\"#fb9f3a\"],[0.8888888888888888,\"#fdca26\"],[1.0,\"#f0f921\"]],\"type\":\"heatmap\"}],\"histogram2dcontour\":[{\"colorbar\":{\"outlinewidth\":0,\"ticks\":\"\"},\"colorscale\":[[0.0,\"#0d0887\"],[0.1111111111111111,\"#46039f\"],[0.2222222222222222,\"#7201a8\"],[0.3333333333333333,\"#9c179e\"],[0.4444444444444444,\"#bd3786\"],[0.5555555555555556,\"#d8576b\"],[0.6666666666666666,\"#ed7953\"],[0.7777777777777778,\"#fb9f3a\"],[0.8888888888888888,\"#fdca26\"],[1.0,\"#f0f921\"]],\"type\":\"histogram2dcontour\"}],\"histogram2d\":[{\"colorbar\":{\"outlinewidth\":0,\"ticks\":\"\"},\"colorscale\":[[0.0,\"#0d0887\"],[0.1111111111111111,\"#46039f\"],[0.2222222222222222,\"#7201a8\"],[0.3333333333333333,\"#9c179e\"],[0.4444444444444444,\"#bd3786\"],[0.5555555555555556,\"#d8576b\"],[0.6666666666666666,\"#ed7953\"],[0.7777777777777778,\"#fb9f3a\"],[0.8888888888888888,\"#fdca26\"],[1.0,\"#f0f921\"]],\"type\":\"histogram2d\"}],\"histogram\":[{\"marker\":{\"pattern\":{\"fillmode\":\"overlay\",\"size\":10,\"solidity\":0.2}},\"type\":\"histogram\"}],\"mesh3d\":[{\"colorbar\":{\"outlinewidth\":0,\"ticks\":\"\"},\"type\":\"mesh3d\"}],\"parcoords\":[{\"line\":{\"colorbar\":{\"outlinewidth\":0,\"ticks\":\"\"}},\"type\":\"parcoords\"}],\"pie\":[{\"automargin\":true,\"type\":\"pie\"}],\"scatter3d\":[{\"line\":{\"colorbar\":{\"outlinewidth\":0,\"ticks\":\"\"}},\"marker\":{\"colorbar\":{\"outlinewidth\":0,\"ticks\":\"\"}},\"type\":\"scatter3d\"}],\"scattercarpet\":[{\"marker\":{\"colorbar\":{\"outlinewidth\":0,\"ticks\":\"\"}},\"type\":\"scattercarpet\"}],\"scattergeo\":[{\"marker\":{\"colorbar\":{\"outlinewidth\":0,\"ticks\":\"\"}},\"type\":\"scattergeo\"}],\"scattergl\":[{\"marker\":{\"line\":{\"color\":\"#283442\"}},\"type\":\"scattergl\"}],\"scattermapbox\":[{\"marker\":{\"colorbar\":{\"outlinewidth\":0,\"ticks\":\"\"}},\"type\":\"scattermapbox\"}],\"scatterpolargl\":[{\"marker\":{\"colorbar\":{\"outlinewidth\":0,\"ticks\":\"\"}},\"type\":\"scatterpolargl\"}],\"scatterpolar\":[{\"marker\":{\"colorbar\":{\"outlinewidth\":0,\"ticks\":\"\"}},\"type\":\"scatterpolar\"}],\"scatter\":[{\"marker\":{\"line\":{\"color\":\"#283442\"}},\"type\":\"scatter\"}],\"scatterternary\":[{\"marker\":{\"colorbar\":{\"outlinewidth\":0,\"ticks\":\"\"}},\"type\":\"scatterternary\"}],\"surface\":[{\"colorbar\":{\"outlinewidth\":0,\"ticks\":\"\"},\"colorscale\":[[0.0,\"#0d0887\"],[0.1111111111111111,\"#46039f\"],[0.2222222222222222,\"#7201a8\"],[0.3333333333333333,\"#9c179e\"],[0.4444444444444444,\"#bd3786\"],[0.5555555555555556,\"#d8576b\"],[0.6666666666666666,\"#ed7953\"],[0.7777777777777778,\"#fb9f3a\"],[0.8888888888888888,\"#fdca26\"],[1.0,\"#f0f921\"]],\"type\":\"surface\"}],\"table\":[{\"cells\":{\"fill\":{\"color\":\"#506784\"},\"line\":{\"color\":\"rgb(17,17,17)\"}},\"header\":{\"fill\":{\"color\":\"#2a3f5f\"},\"line\":{\"color\":\"rgb(17,17,17)\"}},\"type\":\"table\"}]},\"layout\":{\"annotationdefaults\":{\"arrowcolor\":\"#f2f5fa\",\"arrowhead\":0,\"arrowwidth\":1},\"autotypenumbers\":\"strict\",\"coloraxis\":{\"colorbar\":{\"outlinewidth\":0,\"ticks\":\"\"}},\"colorscale\":{\"diverging\":[[0,\"#8e0152\"],[0.1,\"#c51b7d\"],[0.2,\"#de77ae\"],[0.3,\"#f1b6da\"],[0.4,\"#fde0ef\"],[0.5,\"#f7f7f7\"],[0.6,\"#e6f5d0\"],[0.7,\"#b8e186\"],[0.8,\"#7fbc41\"],[0.9,\"#4d9221\"],[1,\"#276419\"]],\"sequential\":[[0.0,\"#0d0887\"],[0.1111111111111111,\"#46039f\"],[0.2222222222222222,\"#7201a8\"],[0.3333333333333333,\"#9c179e\"],[0.4444444444444444,\"#bd3786\"],[0.5555555555555556,\"#d8576b\"],[0.6666666666666666,\"#ed7953\"],[0.7777777777777778,\"#fb9f3a\"],[0.8888888888888888,\"#fdca26\"],[1.0,\"#f0f921\"]],\"sequentialminus\":[[0.0,\"#0d0887\"],[0.1111111111111111,\"#46039f\"],[0.2222222222222222,\"#7201a8\"],[0.3333333333333333,\"#9c179e\"],[0.4444444444444444,\"#bd3786\"],[0.5555555555555556,\"#d8576b\"],[0.6666666666666666,\"#ed7953\"],[0.7777777777777778,\"#fb9f3a\"],[0.8888888888888888,\"#fdca26\"],[1.0,\"#f0f921\"]]},\"colorway\":[\"#636efa\",\"#EF553B\",\"#00cc96\",\"#ab63fa\",\"#FFA15A\",\"#19d3f3\",\"#FF6692\",\"#B6E880\",\"#FF97FF\",\"#FECB52\"],\"font\":{\"color\":\"#f2f5fa\"},\"geo\":{\"bgcolor\":\"rgb(17,17,17)\",\"lakecolor\":\"rgb(17,17,17)\",\"landcolor\":\"rgb(17,17,17)\",\"showlakes\":true,\"showland\":true,\"subunitcolor\":\"#506784\"},\"hoverlabel\":{\"align\":\"left\"},\"hovermode\":\"closest\",\"mapbox\":{\"style\":\"dark\"},\"paper_bgcolor\":\"rgb(17,17,17)\",\"plot_bgcolor\":\"rgb(17,17,17)\",\"polar\":{\"angularaxis\":{\"gridcolor\":\"#506784\",\"linecolor\":\"#506784\",\"ticks\":\"\"},\"bgcolor\":\"rgb(17,17,17)\",\"radialaxis\":{\"gridcolor\":\"#506784\",\"linecolor\":\"#506784\",\"ticks\":\"\"}},\"scene\":{\"xaxis\":{\"backgroundcolor\":\"rgb(17,17,17)\",\"gridcolor\":\"#506784\",\"gridwidth\":2,\"linecolor\":\"#506784\",\"showbackground\":true,\"ticks\":\"\",\"zerolinecolor\":\"#C8D4E3\"},\"yaxis\":{\"backgroundcolor\":\"rgb(17,17,17)\",\"gridcolor\":\"#506784\",\"gridwidth\":2,\"linecolor\":\"#506784\",\"showbackground\":true,\"ticks\":\"\",\"zerolinecolor\":\"#C8D4E3\"},\"zaxis\":{\"backgroundcolor\":\"rgb(17,17,17)\",\"gridcolor\":\"#506784\",\"gridwidth\":2,\"linecolor\":\"#506784\",\"showbackground\":true,\"ticks\":\"\",\"zerolinecolor\":\"#C8D4E3\"}},\"shapedefaults\":{\"line\":{\"color\":\"#f2f5fa\"}},\"sliderdefaults\":{\"bgcolor\":\"#C8D4E3\",\"bordercolor\":\"rgb(17,17,17)\",\"borderwidth\":1,\"tickwidth\":0},\"ternary\":{\"aaxis\":{\"gridcolor\":\"#506784\",\"linecolor\":\"#506784\",\"ticks\":\"\"},\"baxis\":{\"gridcolor\":\"#506784\",\"linecolor\":\"#506784\",\"ticks\":\"\"},\"bgcolor\":\"rgb(17,17,17)\",\"caxis\":{\"gridcolor\":\"#506784\",\"linecolor\":\"#506784\",\"ticks\":\"\"}},\"title\":{\"x\":0.05},\"updatemenudefaults\":{\"bgcolor\":\"#506784\",\"borderwidth\":0},\"xaxis\":{\"automargin\":true,\"gridcolor\":\"#283442\",\"linecolor\":\"#506784\",\"ticks\":\"\",\"title\":{\"standoff\":15},\"zerolinecolor\":\"#283442\",\"zerolinewidth\":2},\"yaxis\":{\"automargin\":true,\"gridcolor\":\"#283442\",\"linecolor\":\"#506784\",\"ticks\":\"\",\"title\":{\"standoff\":15},\"zerolinecolor\":\"#283442\",\"zerolinewidth\":2}}},\"xaxis\":{\"anchor\":\"y\",\"domain\":[0.0,1.0],\"title\":{\"text\":\"Отдел\"}},\"yaxis\":{\"anchor\":\"x\",\"domain\":[0.0,1.0],\"title\":{\"text\":\"Доля артикулов, сохранившихся в федеральной базе\"},\"range\":[60,100]},\"legend\":{\"tracegroupgap\":0},\"margin\":{\"t\":60},\"boxmode\":\"group\",\"height\":700,\"width\":1200,\"title\":{\"text\":\"Доля поэтапного попадания артикулов в федеральную базу за Ноябрь 2022 - Май 2023 (интервал - 3 месяца, шаг - 2 недели)\"}},                        {\"responsive\": true}                    ).then(function(){\n",
       "                            \n",
       "var gd = document.getElementById('a63804f3-db90-417b-ad75-d21a09ed69db');\n",
       "var x = new MutationObserver(function (mutations, observer) {{\n",
       "        var display = window.getComputedStyle(gd).display;\n",
       "        if (!display || display === 'none') {{\n",
       "            console.log([gd, 'removed!']);\n",
       "            Plotly.purge(gd);\n",
       "            observer.disconnect();\n",
       "        }}\n",
       "}});\n",
       "\n",
       "// Listen for the removal of the full notebook cells\n",
       "var notebookContainer = gd.closest('#notebook-container');\n",
       "if (notebookContainer) {{\n",
       "    x.observe(notebookContainer, {childList: true});\n",
       "}}\n",
       "\n",
       "// Listen for the clearing of the current output cell\n",
       "var outputEl = gd.closest('.output');\n",
       "if (outputEl) {{\n",
       "    x.observe(outputEl, {childList: true});\n",
       "}}\n",
       "\n",
       "                        })                };                });            </script>        </div>"
      ]
     },
     "metadata": {},
     "output_type": "display_data"
    }
   ],
   "source": [
    "fig = px.box(fed_core_sps_intersecttion, \n",
    "             x = 'group_name', \n",
    "             y = 'perc_of_previous_in_dept',\n",
    "             template = \"plotly_dark\",\n",
    "             width = 1200, height = 700\n",
    "             )\n",
    "\n",
    "fig.update_layout(title='Доля поэтапного попадания артикулов в федеральную базу за Ноябрь 2022 - Май 2023 (интервал - 3 месяца, шаг - 2 недели)',\n",
    "                  xaxis_title = 'Отдел',\n",
    "                  yaxis_title = 'Доля артикулов, сохранившихся в федеральной базе',\n",
    "                  yaxis_range = [60,100])\n",
    "\n",
    "fig.show()"
   ]
  },
  {
   "cell_type": "code",
   "execution_count": 33,
   "id": "867f398a-488a-4566-be43-606acb09f6e3",
   "metadata": {},
   "outputs": [
    {
     "data": {
      "text/html": [
       "<div>\n",
       "<style scoped>\n",
       "    .dataframe tbody tr th:only-of-type {\n",
       "        vertical-align: middle;\n",
       "    }\n",
       "\n",
       "    .dataframe tbody tr th {\n",
       "        vertical-align: top;\n",
       "    }\n",
       "\n",
       "    .dataframe thead th {\n",
       "        text-align: right;\n",
       "    }\n",
       "</style>\n",
       "<table border=\"1\" class=\"dataframe\">\n",
       "  <thead>\n",
       "    <tr style=\"text-align: right;\">\n",
       "      <th></th>\n",
       "      <th>group_name</th>\n",
       "      <th>mean_perc_of_previous_in_dept</th>\n",
       "      <th>variance_perc_of_previous_in_dept</th>\n",
       "    </tr>\n",
       "  </thead>\n",
       "  <tbody>\n",
       "    <tr>\n",
       "      <th>8</th>\n",
       "      <td>САД</td>\n",
       "      <td>75.1</td>\n",
       "      <td>48.1</td>\n",
       "    </tr>\n",
       "    <tr>\n",
       "      <th>6</th>\n",
       "      <td>САНТЕХНИКА</td>\n",
       "      <td>82.6</td>\n",
       "      <td>2.4</td>\n",
       "    </tr>\n",
       "    <tr>\n",
       "      <th>9</th>\n",
       "      <td>СКОБЯНЫЕ ИЗДЕЛИЯ</td>\n",
       "      <td>84.0</td>\n",
       "      <td>5.6</td>\n",
       "    </tr>\n",
       "    <tr>\n",
       "      <th>11</th>\n",
       "      <td>ОТДЕЛОЧНЫЕ МАТЕРИАЛЫ</td>\n",
       "      <td>85.7</td>\n",
       "      <td>4.7</td>\n",
       "    </tr>\n",
       "    <tr>\n",
       "      <th>12</th>\n",
       "      <td>СВЕТ</td>\n",
       "      <td>85.9</td>\n",
       "      <td>15.6</td>\n",
       "    </tr>\n",
       "    <tr>\n",
       "      <th>1</th>\n",
       "      <td>СТОЛЯРНЫЕ ИЗДЕЛИЯ</td>\n",
       "      <td>87.2</td>\n",
       "      <td>30.2</td>\n",
       "    </tr>\n",
       "    <tr>\n",
       "      <th>0</th>\n",
       "      <td>СТРОЙМАТЕРИАЛЫ</td>\n",
       "      <td>88.8</td>\n",
       "      <td>23.6</td>\n",
       "    </tr>\n",
       "    <tr>\n",
       "      <th>4</th>\n",
       "      <td>НАПОЛЬНЫЕ ПОКРЫТИЯ</td>\n",
       "      <td>88.8</td>\n",
       "      <td>25.8</td>\n",
       "    </tr>\n",
       "    <tr>\n",
       "      <th>3</th>\n",
       "      <td>ИНСТРУМЕНТЫ</td>\n",
       "      <td>89.1</td>\n",
       "      <td>2.0</td>\n",
       "    </tr>\n",
       "    <tr>\n",
       "      <th>10</th>\n",
       "      <td>КРАСКИ</td>\n",
       "      <td>89.2</td>\n",
       "      <td>3.9</td>\n",
       "    </tr>\n",
       "    <tr>\n",
       "      <th>13</th>\n",
       "      <td>ХРАНЕНИЕ</td>\n",
       "      <td>89.8</td>\n",
       "      <td>3.6</td>\n",
       "    </tr>\n",
       "    <tr>\n",
       "      <th>14</th>\n",
       "      <td>КУХНИ</td>\n",
       "      <td>90.1</td>\n",
       "      <td>9.7</td>\n",
       "    </tr>\n",
       "    <tr>\n",
       "      <th>5</th>\n",
       "      <td>ПЛИТКА</td>\n",
       "      <td>91.4</td>\n",
       "      <td>17.2</td>\n",
       "    </tr>\n",
       "    <tr>\n",
       "      <th>7</th>\n",
       "      <td>ВОДОСНАБЖЕНИЕ</td>\n",
       "      <td>91.5</td>\n",
       "      <td>4.8</td>\n",
       "    </tr>\n",
       "    <tr>\n",
       "      <th>2</th>\n",
       "      <td>ЭЛЕКТРОТОВАРЫ</td>\n",
       "      <td>92.2</td>\n",
       "      <td>2.2</td>\n",
       "    </tr>\n",
       "  </tbody>\n",
       "</table>\n",
       "</div>"
      ],
      "text/plain": [
       "              group_name  mean_perc_of_previous_in_dept  \\\n",
       "8                    САД                           75.1   \n",
       "6             САНТЕХНИКА                           82.6   \n",
       "9       СКОБЯНЫЕ ИЗДЕЛИЯ                           84.0   \n",
       "11  ОТДЕЛОЧНЫЕ МАТЕРИАЛЫ                           85.7   \n",
       "12                  СВЕТ                           85.9   \n",
       "1      СТОЛЯРНЫЕ ИЗДЕЛИЯ                           87.2   \n",
       "0         СТРОЙМАТЕРИАЛЫ                           88.8   \n",
       "4     НАПОЛЬНЫЕ ПОКРЫТИЯ                           88.8   \n",
       "3            ИНСТРУМЕНТЫ                           89.1   \n",
       "10                КРАСКИ                           89.2   \n",
       "13              ХРАНЕНИЕ                           89.8   \n",
       "14                 КУХНИ                           90.1   \n",
       "5                 ПЛИТКА                           91.4   \n",
       "7          ВОДОСНАБЖЕНИЕ                           91.5   \n",
       "2          ЭЛЕКТРОТОВАРЫ                           92.2   \n",
       "\n",
       "    variance_perc_of_previous_in_dept  \n",
       "8                                48.1  \n",
       "6                                 2.4  \n",
       "9                                 5.6  \n",
       "11                                4.7  \n",
       "12                               15.6  \n",
       "1                                30.2  \n",
       "0                                23.6  \n",
       "4                                25.8  \n",
       "3                                 2.0  \n",
       "10                                3.9  \n",
       "13                                3.6  \n",
       "14                                9.7  \n",
       "5                                17.2  \n",
       "7                                 4.8  \n",
       "2                                 2.2  "
      ]
     },
     "execution_count": 33,
     "metadata": {},
     "output_type": "execute_result"
    }
   ],
   "source": [
    "fed_core_sps_intersecttion_gr = (fed_core_sps_intersecttion[['group_name',\n",
    "                                                             'mean_perc_of_previous_in_dept',\n",
    "                                                             'variance_perc_of_previous_in_dept']]\n",
    "                                                           .drop_duplicates(keep = 'first')\n",
    "                                                           .sort_values(by = 'mean_perc_of_previous_in_dept', ascending = True)\n",
    "                                )\n",
    "\n",
    "fed_core_sps_intersecttion_gr"
   ]
  },
  {
   "cell_type": "code",
   "execution_count": 34,
   "id": "4b2e858e-3e92-4771-aa30-e331106b78fb",
   "metadata": {},
   "outputs": [
    {
     "data": {
      "application/vnd.plotly.v1+json": {
       "config": {
        "plotlyServerURL": "https://plot.ly"
       },
       "data": [
        {
         "alignmentgroup": "True",
         "hovertemplate": "group_name=%{x}<br>mean_perc_of_previous_in_dept=%{y}<br>variance_perc_of_previous_in_dept=%{marker.color}<extra></extra>",
         "legendgroup": "",
         "marker": {
          "color": [
           48.1,
           2.4,
           5.6,
           4.7,
           15.6,
           30.2,
           23.6,
           25.8,
           2,
           3.9,
           3.6,
           9.7,
           17.2,
           4.8,
           2.2
          ],
          "coloraxis": "coloraxis",
          "pattern": {
           "shape": ""
          }
         },
         "name": "",
         "offsetgroup": "",
         "orientation": "v",
         "showlegend": false,
         "textposition": "auto",
         "type": "bar",
         "x": [
          "САД",
          "САНТЕХНИКА",
          "СКОБЯНЫЕ ИЗДЕЛИЯ",
          "ОТДЕЛОЧНЫЕ МАТЕРИАЛЫ",
          "СВЕТ",
          "СТОЛЯРНЫЕ ИЗДЕЛИЯ",
          "СТРОЙМАТЕРИАЛЫ",
          "НАПОЛЬНЫЕ ПОКРЫТИЯ",
          "ИНСТРУМЕНТЫ",
          "КРАСКИ",
          "ХРАНЕНИЕ",
          "КУХНИ",
          "ПЛИТКА",
          "ВОДОСНАБЖЕНИЕ",
          "ЭЛЕКТРОТОВАРЫ"
         ],
         "xaxis": "x",
         "y": [
          75.1,
          82.6,
          84,
          85.7,
          85.9,
          87.2,
          88.8,
          88.8,
          89.1,
          89.2,
          89.8,
          90.1,
          91.4,
          91.5,
          92.2
         ],
         "yaxis": "y"
        }
       ],
       "layout": {
        "barmode": "relative",
        "coloraxis": {
         "colorbar": {
          "title": {
           "text": "variance_perc_of_previous_in_dept"
          }
         },
         "colorscale": [
          [
           0,
           "#f0f921"
          ],
          [
           0.1111111111111111,
           "#fdca26"
          ],
          [
           0.2222222222222222,
           "#fb9f3a"
          ],
          [
           0.3333333333333333,
           "#ed7953"
          ],
          [
           0.4444444444444444,
           "#d8576b"
          ],
          [
           0.5555555555555556,
           "#bd3786"
          ],
          [
           0.6666666666666666,
           "#9c179e"
          ],
          [
           0.7777777777777778,
           "#7201a8"
          ],
          [
           0.8888888888888888,
           "#46039f"
          ],
          [
           1,
           "#0d0887"
          ]
         ]
        },
        "height": 700,
        "legend": {
         "tracegroupgap": 0
        },
        "margin": {
         "t": 60
        },
        "template": {
         "data": {
          "bar": [
           {
            "error_x": {
             "color": "#f2f5fa"
            },
            "error_y": {
             "color": "#f2f5fa"
            },
            "marker": {
             "line": {
              "color": "rgb(17,17,17)",
              "width": 0.5
             },
             "pattern": {
              "fillmode": "overlay",
              "size": 10,
              "solidity": 0.2
             }
            },
            "type": "bar"
           }
          ],
          "barpolar": [
           {
            "marker": {
             "line": {
              "color": "rgb(17,17,17)",
              "width": 0.5
             },
             "pattern": {
              "fillmode": "overlay",
              "size": 10,
              "solidity": 0.2
             }
            },
            "type": "barpolar"
           }
          ],
          "carpet": [
           {
            "aaxis": {
             "endlinecolor": "#A2B1C6",
             "gridcolor": "#506784",
             "linecolor": "#506784",
             "minorgridcolor": "#506784",
             "startlinecolor": "#A2B1C6"
            },
            "baxis": {
             "endlinecolor": "#A2B1C6",
             "gridcolor": "#506784",
             "linecolor": "#506784",
             "minorgridcolor": "#506784",
             "startlinecolor": "#A2B1C6"
            },
            "type": "carpet"
           }
          ],
          "choropleth": [
           {
            "colorbar": {
             "outlinewidth": 0,
             "ticks": ""
            },
            "type": "choropleth"
           }
          ],
          "contour": [
           {
            "colorbar": {
             "outlinewidth": 0,
             "ticks": ""
            },
            "colorscale": [
             [
              0,
              "#0d0887"
             ],
             [
              0.1111111111111111,
              "#46039f"
             ],
             [
              0.2222222222222222,
              "#7201a8"
             ],
             [
              0.3333333333333333,
              "#9c179e"
             ],
             [
              0.4444444444444444,
              "#bd3786"
             ],
             [
              0.5555555555555556,
              "#d8576b"
             ],
             [
              0.6666666666666666,
              "#ed7953"
             ],
             [
              0.7777777777777778,
              "#fb9f3a"
             ],
             [
              0.8888888888888888,
              "#fdca26"
             ],
             [
              1,
              "#f0f921"
             ]
            ],
            "type": "contour"
           }
          ],
          "contourcarpet": [
           {
            "colorbar": {
             "outlinewidth": 0,
             "ticks": ""
            },
            "type": "contourcarpet"
           }
          ],
          "heatmap": [
           {
            "colorbar": {
             "outlinewidth": 0,
             "ticks": ""
            },
            "colorscale": [
             [
              0,
              "#0d0887"
             ],
             [
              0.1111111111111111,
              "#46039f"
             ],
             [
              0.2222222222222222,
              "#7201a8"
             ],
             [
              0.3333333333333333,
              "#9c179e"
             ],
             [
              0.4444444444444444,
              "#bd3786"
             ],
             [
              0.5555555555555556,
              "#d8576b"
             ],
             [
              0.6666666666666666,
              "#ed7953"
             ],
             [
              0.7777777777777778,
              "#fb9f3a"
             ],
             [
              0.8888888888888888,
              "#fdca26"
             ],
             [
              1,
              "#f0f921"
             ]
            ],
            "type": "heatmap"
           }
          ],
          "heatmapgl": [
           {
            "colorbar": {
             "outlinewidth": 0,
             "ticks": ""
            },
            "colorscale": [
             [
              0,
              "#0d0887"
             ],
             [
              0.1111111111111111,
              "#46039f"
             ],
             [
              0.2222222222222222,
              "#7201a8"
             ],
             [
              0.3333333333333333,
              "#9c179e"
             ],
             [
              0.4444444444444444,
              "#bd3786"
             ],
             [
              0.5555555555555556,
              "#d8576b"
             ],
             [
              0.6666666666666666,
              "#ed7953"
             ],
             [
              0.7777777777777778,
              "#fb9f3a"
             ],
             [
              0.8888888888888888,
              "#fdca26"
             ],
             [
              1,
              "#f0f921"
             ]
            ],
            "type": "heatmapgl"
           }
          ],
          "histogram": [
           {
            "marker": {
             "pattern": {
              "fillmode": "overlay",
              "size": 10,
              "solidity": 0.2
             }
            },
            "type": "histogram"
           }
          ],
          "histogram2d": [
           {
            "colorbar": {
             "outlinewidth": 0,
             "ticks": ""
            },
            "colorscale": [
             [
              0,
              "#0d0887"
             ],
             [
              0.1111111111111111,
              "#46039f"
             ],
             [
              0.2222222222222222,
              "#7201a8"
             ],
             [
              0.3333333333333333,
              "#9c179e"
             ],
             [
              0.4444444444444444,
              "#bd3786"
             ],
             [
              0.5555555555555556,
              "#d8576b"
             ],
             [
              0.6666666666666666,
              "#ed7953"
             ],
             [
              0.7777777777777778,
              "#fb9f3a"
             ],
             [
              0.8888888888888888,
              "#fdca26"
             ],
             [
              1,
              "#f0f921"
             ]
            ],
            "type": "histogram2d"
           }
          ],
          "histogram2dcontour": [
           {
            "colorbar": {
             "outlinewidth": 0,
             "ticks": ""
            },
            "colorscale": [
             [
              0,
              "#0d0887"
             ],
             [
              0.1111111111111111,
              "#46039f"
             ],
             [
              0.2222222222222222,
              "#7201a8"
             ],
             [
              0.3333333333333333,
              "#9c179e"
             ],
             [
              0.4444444444444444,
              "#bd3786"
             ],
             [
              0.5555555555555556,
              "#d8576b"
             ],
             [
              0.6666666666666666,
              "#ed7953"
             ],
             [
              0.7777777777777778,
              "#fb9f3a"
             ],
             [
              0.8888888888888888,
              "#fdca26"
             ],
             [
              1,
              "#f0f921"
             ]
            ],
            "type": "histogram2dcontour"
           }
          ],
          "mesh3d": [
           {
            "colorbar": {
             "outlinewidth": 0,
             "ticks": ""
            },
            "type": "mesh3d"
           }
          ],
          "parcoords": [
           {
            "line": {
             "colorbar": {
              "outlinewidth": 0,
              "ticks": ""
             }
            },
            "type": "parcoords"
           }
          ],
          "pie": [
           {
            "automargin": true,
            "type": "pie"
           }
          ],
          "scatter": [
           {
            "marker": {
             "line": {
              "color": "#283442"
             }
            },
            "type": "scatter"
           }
          ],
          "scatter3d": [
           {
            "line": {
             "colorbar": {
              "outlinewidth": 0,
              "ticks": ""
             }
            },
            "marker": {
             "colorbar": {
              "outlinewidth": 0,
              "ticks": ""
             }
            },
            "type": "scatter3d"
           }
          ],
          "scattercarpet": [
           {
            "marker": {
             "colorbar": {
              "outlinewidth": 0,
              "ticks": ""
             }
            },
            "type": "scattercarpet"
           }
          ],
          "scattergeo": [
           {
            "marker": {
             "colorbar": {
              "outlinewidth": 0,
              "ticks": ""
             }
            },
            "type": "scattergeo"
           }
          ],
          "scattergl": [
           {
            "marker": {
             "line": {
              "color": "#283442"
             }
            },
            "type": "scattergl"
           }
          ],
          "scattermapbox": [
           {
            "marker": {
             "colorbar": {
              "outlinewidth": 0,
              "ticks": ""
             }
            },
            "type": "scattermapbox"
           }
          ],
          "scatterpolar": [
           {
            "marker": {
             "colorbar": {
              "outlinewidth": 0,
              "ticks": ""
             }
            },
            "type": "scatterpolar"
           }
          ],
          "scatterpolargl": [
           {
            "marker": {
             "colorbar": {
              "outlinewidth": 0,
              "ticks": ""
             }
            },
            "type": "scatterpolargl"
           }
          ],
          "scatterternary": [
           {
            "marker": {
             "colorbar": {
              "outlinewidth": 0,
              "ticks": ""
             }
            },
            "type": "scatterternary"
           }
          ],
          "surface": [
           {
            "colorbar": {
             "outlinewidth": 0,
             "ticks": ""
            },
            "colorscale": [
             [
              0,
              "#0d0887"
             ],
             [
              0.1111111111111111,
              "#46039f"
             ],
             [
              0.2222222222222222,
              "#7201a8"
             ],
             [
              0.3333333333333333,
              "#9c179e"
             ],
             [
              0.4444444444444444,
              "#bd3786"
             ],
             [
              0.5555555555555556,
              "#d8576b"
             ],
             [
              0.6666666666666666,
              "#ed7953"
             ],
             [
              0.7777777777777778,
              "#fb9f3a"
             ],
             [
              0.8888888888888888,
              "#fdca26"
             ],
             [
              1,
              "#f0f921"
             ]
            ],
            "type": "surface"
           }
          ],
          "table": [
           {
            "cells": {
             "fill": {
              "color": "#506784"
             },
             "line": {
              "color": "rgb(17,17,17)"
             }
            },
            "header": {
             "fill": {
              "color": "#2a3f5f"
             },
             "line": {
              "color": "rgb(17,17,17)"
             }
            },
            "type": "table"
           }
          ]
         },
         "layout": {
          "annotationdefaults": {
           "arrowcolor": "#f2f5fa",
           "arrowhead": 0,
           "arrowwidth": 1
          },
          "autotypenumbers": "strict",
          "coloraxis": {
           "colorbar": {
            "outlinewidth": 0,
            "ticks": ""
           }
          },
          "colorscale": {
           "diverging": [
            [
             0,
             "#8e0152"
            ],
            [
             0.1,
             "#c51b7d"
            ],
            [
             0.2,
             "#de77ae"
            ],
            [
             0.3,
             "#f1b6da"
            ],
            [
             0.4,
             "#fde0ef"
            ],
            [
             0.5,
             "#f7f7f7"
            ],
            [
             0.6,
             "#e6f5d0"
            ],
            [
             0.7,
             "#b8e186"
            ],
            [
             0.8,
             "#7fbc41"
            ],
            [
             0.9,
             "#4d9221"
            ],
            [
             1,
             "#276419"
            ]
           ],
           "sequential": [
            [
             0,
             "#0d0887"
            ],
            [
             0.1111111111111111,
             "#46039f"
            ],
            [
             0.2222222222222222,
             "#7201a8"
            ],
            [
             0.3333333333333333,
             "#9c179e"
            ],
            [
             0.4444444444444444,
             "#bd3786"
            ],
            [
             0.5555555555555556,
             "#d8576b"
            ],
            [
             0.6666666666666666,
             "#ed7953"
            ],
            [
             0.7777777777777778,
             "#fb9f3a"
            ],
            [
             0.8888888888888888,
             "#fdca26"
            ],
            [
             1,
             "#f0f921"
            ]
           ],
           "sequentialminus": [
            [
             0,
             "#0d0887"
            ],
            [
             0.1111111111111111,
             "#46039f"
            ],
            [
             0.2222222222222222,
             "#7201a8"
            ],
            [
             0.3333333333333333,
             "#9c179e"
            ],
            [
             0.4444444444444444,
             "#bd3786"
            ],
            [
             0.5555555555555556,
             "#d8576b"
            ],
            [
             0.6666666666666666,
             "#ed7953"
            ],
            [
             0.7777777777777778,
             "#fb9f3a"
            ],
            [
             0.8888888888888888,
             "#fdca26"
            ],
            [
             1,
             "#f0f921"
            ]
           ]
          },
          "colorway": [
           "#636efa",
           "#EF553B",
           "#00cc96",
           "#ab63fa",
           "#FFA15A",
           "#19d3f3",
           "#FF6692",
           "#B6E880",
           "#FF97FF",
           "#FECB52"
          ],
          "font": {
           "color": "#f2f5fa"
          },
          "geo": {
           "bgcolor": "rgb(17,17,17)",
           "lakecolor": "rgb(17,17,17)",
           "landcolor": "rgb(17,17,17)",
           "showlakes": true,
           "showland": true,
           "subunitcolor": "#506784"
          },
          "hoverlabel": {
           "align": "left"
          },
          "hovermode": "closest",
          "mapbox": {
           "style": "dark"
          },
          "paper_bgcolor": "rgb(17,17,17)",
          "plot_bgcolor": "rgb(17,17,17)",
          "polar": {
           "angularaxis": {
            "gridcolor": "#506784",
            "linecolor": "#506784",
            "ticks": ""
           },
           "bgcolor": "rgb(17,17,17)",
           "radialaxis": {
            "gridcolor": "#506784",
            "linecolor": "#506784",
            "ticks": ""
           }
          },
          "scene": {
           "xaxis": {
            "backgroundcolor": "rgb(17,17,17)",
            "gridcolor": "#506784",
            "gridwidth": 2,
            "linecolor": "#506784",
            "showbackground": true,
            "ticks": "",
            "zerolinecolor": "#C8D4E3"
           },
           "yaxis": {
            "backgroundcolor": "rgb(17,17,17)",
            "gridcolor": "#506784",
            "gridwidth": 2,
            "linecolor": "#506784",
            "showbackground": true,
            "ticks": "",
            "zerolinecolor": "#C8D4E3"
           },
           "zaxis": {
            "backgroundcolor": "rgb(17,17,17)",
            "gridcolor": "#506784",
            "gridwidth": 2,
            "linecolor": "#506784",
            "showbackground": true,
            "ticks": "",
            "zerolinecolor": "#C8D4E3"
           }
          },
          "shapedefaults": {
           "line": {
            "color": "#f2f5fa"
           }
          },
          "sliderdefaults": {
           "bgcolor": "#C8D4E3",
           "bordercolor": "rgb(17,17,17)",
           "borderwidth": 1,
           "tickwidth": 0
          },
          "ternary": {
           "aaxis": {
            "gridcolor": "#506784",
            "linecolor": "#506784",
            "ticks": ""
           },
           "baxis": {
            "gridcolor": "#506784",
            "linecolor": "#506784",
            "ticks": ""
           },
           "bgcolor": "rgb(17,17,17)",
           "caxis": {
            "gridcolor": "#506784",
            "linecolor": "#506784",
            "ticks": ""
           }
          },
          "title": {
           "x": 0.05
          },
          "updatemenudefaults": {
           "bgcolor": "#506784",
           "borderwidth": 0
          },
          "xaxis": {
           "automargin": true,
           "gridcolor": "#283442",
           "linecolor": "#506784",
           "ticks": "",
           "title": {
            "standoff": 15
           },
           "zerolinecolor": "#283442",
           "zerolinewidth": 2
          },
          "yaxis": {
           "automargin": true,
           "gridcolor": "#283442",
           "linecolor": "#506784",
           "ticks": "",
           "title": {
            "standoff": 15
           },
           "zerolinecolor": "#283442",
           "zerolinewidth": 2
          }
         }
        },
        "title": {
         "text": "Среднее значение доли перетекания артикулов в федеральную базу за Ноябрь 2022 - Май 2023 (интервал - 3 месяца, шаг - 2 недели)"
        },
        "width": 1200,
        "xaxis": {
         "anchor": "y",
         "autorange": true,
         "domain": [
          0,
          1
         ],
         "range": [
          -0.5,
          14.5
         ],
         "title": {
          "text": "Отдел"
         },
         "type": "category"
        },
        "yaxis": {
         "anchor": "x",
         "domain": [
          0,
          1
         ],
         "range": [
          60,
          100
         ],
         "title": {
          "text": "Доля артикулов, сохранившихся в федеральной базе"
         },
         "type": "linear"
        }
       }
      },
      "image/png": "[encoded data removed]",
      "text/html": [
       "<div>                            <div id=\"377850b2-578d-4e34-8380-5368bdecc536\" class=\"plotly-graph-div\" style=\"height:700px; width:1200px;\"></div>            <script type=\"text/javascript\">                require([\"plotly\"], function(Plotly) {                    window.PLOTLYENV=window.PLOTLYENV || {};                                    if (document.getElementById(\"377850b2-578d-4e34-8380-5368bdecc536\")) {                    Plotly.newPlot(                        \"377850b2-578d-4e34-8380-5368bdecc536\",                        [{\"alignmentgroup\":\"True\",\"hovertemplate\":\"group_name=%{x}<br>mean_perc_of_previous_in_dept=%{y}<br>variance_perc_of_previous_in_dept=%{marker.color}<extra></extra>\",\"legendgroup\":\"\",\"marker\":{\"color\":[48.1,2.4,5.6,4.7,15.6,30.2,23.6,25.8,2.0,3.9,3.6,9.7,17.2,4.8,2.2],\"coloraxis\":\"coloraxis\",\"pattern\":{\"shape\":\"\"}},\"name\":\"\",\"offsetgroup\":\"\",\"orientation\":\"v\",\"showlegend\":false,\"textposition\":\"auto\",\"x\":[\"САД\",\"САНТЕХНИКА\",\"СКОБЯНЫЕ ИЗДЕЛИЯ\",\"ОТДЕЛОЧНЫЕ МАТЕРИАЛЫ\",\"СВЕТ\",\"СТОЛЯРНЫЕ ИЗДЕЛИЯ\",\"СТРОЙМАТЕРИАЛЫ\",\"НАПОЛЬНЫЕ ПОКРЫТИЯ\",\"ИНСТРУМЕНТЫ\",\"КРАСКИ\",\"ХРАНЕНИЕ\",\"КУХНИ\",\"ПЛИТКА\",\"ВОДОСНАБЖЕНИЕ\",\"ЭЛЕКТРОТОВАРЫ\"],\"xaxis\":\"x\",\"y\":[75.1,82.6,84.0,85.7,85.9,87.2,88.8,88.8,89.1,89.2,89.8,90.1,91.4,91.5,92.2],\"yaxis\":\"y\",\"type\":\"bar\"}],                        {\"template\":{\"data\":{\"barpolar\":[{\"marker\":{\"line\":{\"color\":\"rgb(17,17,17)\",\"width\":0.5},\"pattern\":{\"fillmode\":\"overlay\",\"size\":10,\"solidity\":0.2}},\"type\":\"barpolar\"}],\"bar\":[{\"error_x\":{\"color\":\"#f2f5fa\"},\"error_y\":{\"color\":\"#f2f5fa\"},\"marker\":{\"line\":{\"color\":\"rgb(17,17,17)\",\"width\":0.5},\"pattern\":{\"fillmode\":\"overlay\",\"size\":10,\"solidity\":0.2}},\"type\":\"bar\"}],\"carpet\":[{\"aaxis\":{\"endlinecolor\":\"#A2B1C6\",\"gridcolor\":\"#506784\",\"linecolor\":\"#506784\",\"minorgridcolor\":\"#506784\",\"startlinecolor\":\"#A2B1C6\"},\"baxis\":{\"endlinecolor\":\"#A2B1C6\",\"gridcolor\":\"#506784\",\"linecolor\":\"#506784\",\"minorgridcolor\":\"#506784\",\"startlinecolor\":\"#A2B1C6\"},\"type\":\"carpet\"}],\"choropleth\":[{\"colorbar\":{\"outlinewidth\":0,\"ticks\":\"\"},\"type\":\"choropleth\"}],\"contourcarpet\":[{\"colorbar\":{\"outlinewidth\":0,\"ticks\":\"\"},\"type\":\"contourcarpet\"}],\"contour\":[{\"colorbar\":{\"outlinewidth\":0,\"ticks\":\"\"},\"colorscale\":[[0.0,\"#0d0887\"],[0.1111111111111111,\"#46039f\"],[0.2222222222222222,\"#7201a8\"],[0.3333333333333333,\"#9c179e\"],[0.4444444444444444,\"#bd3786\"],[0.5555555555555556,\"#d8576b\"],[0.6666666666666666,\"#ed7953\"],[0.7777777777777778,\"#fb9f3a\"],[0.8888888888888888,\"#fdca26\"],[1.0,\"#f0f921\"]],\"type\":\"contour\"}],\"heatmapgl\":[{\"colorbar\":{\"outlinewidth\":0,\"ticks\":\"\"},\"colorscale\":[[0.0,\"#0d0887\"],[0.1111111111111111,\"#46039f\"],[0.2222222222222222,\"#7201a8\"],[0.3333333333333333,\"#9c179e\"],[0.4444444444444444,\"#bd3786\"],[0.5555555555555556,\"#d8576b\"],[0.6666666666666666,\"#ed7953\"],[0.7777777777777778,\"#fb9f3a\"],[0.8888888888888888,\"#fdca26\"],[1.0,\"#f0f921\"]],\"type\":\"heatmapgl\"}],\"heatmap\":[{\"colorbar\":{\"outlinewidth\":0,\"ticks\":\"\"},\"colorscale\":[[0.0,\"#0d0887\"],[0.1111111111111111,\"#46039f\"],[0.2222222222222222,\"#7201a8\"],[0.3333333333333333,\"#9c179e\"],[0.4444444444444444,\"#bd3786\"],[0.5555555555555556,\"#d8576b\"],[0.6666666666666666,\"#ed7953\"],[0.7777777777777778,\"#fb9f3a\"],[0.8888888888888888,\"#fdca26\"],[1.0,\"#f0f921\"]],\"type\":\"heatmap\"}],\"histogram2dcontour\":[{\"colorbar\":{\"outlinewidth\":0,\"ticks\":\"\"},\"colorscale\":[[0.0,\"#0d0887\"],[0.1111111111111111,\"#46039f\"],[0.2222222222222222,\"#7201a8\"],[0.3333333333333333,\"#9c179e\"],[0.4444444444444444,\"#bd3786\"],[0.5555555555555556,\"#d8576b\"],[0.6666666666666666,\"#ed7953\"],[0.7777777777777778,\"#fb9f3a\"],[0.8888888888888888,\"#fdca26\"],[1.0,\"#f0f921\"]],\"type\":\"histogram2dcontour\"}],\"histogram2d\":[{\"colorbar\":{\"outlinewidth\":0,\"ticks\":\"\"},\"colorscale\":[[0.0,\"#0d0887\"],[0.1111111111111111,\"#46039f\"],[0.2222222222222222,\"#7201a8\"],[0.3333333333333333,\"#9c179e\"],[0.4444444444444444,\"#bd3786\"],[0.5555555555555556,\"#d8576b\"],[0.6666666666666666,\"#ed7953\"],[0.7777777777777778,\"#fb9f3a\"],[0.8888888888888888,\"#fdca26\"],[1.0,\"#f0f921\"]],\"type\":\"histogram2d\"}],\"histogram\":[{\"marker\":{\"pattern\":{\"fillmode\":\"overlay\",\"size\":10,\"solidity\":0.2}},\"type\":\"histogram\"}],\"mesh3d\":[{\"colorbar\":{\"outlinewidth\":0,\"ticks\":\"\"},\"type\":\"mesh3d\"}],\"parcoords\":[{\"line\":{\"colorbar\":{\"outlinewidth\":0,\"ticks\":\"\"}},\"type\":\"parcoords\"}],\"pie\":[{\"automargin\":true,\"type\":\"pie\"}],\"scatter3d\":[{\"line\":{\"colorbar\":{\"outlinewidth\":0,\"ticks\":\"\"}},\"marker\":{\"colorbar\":{\"outlinewidth\":0,\"ticks\":\"\"}},\"type\":\"scatter3d\"}],\"scattercarpet\":[{\"marker\":{\"colorbar\":{\"outlinewidth\":0,\"ticks\":\"\"}},\"type\":\"scattercarpet\"}],\"scattergeo\":[{\"marker\":{\"colorbar\":{\"outlinewidth\":0,\"ticks\":\"\"}},\"type\":\"scattergeo\"}],\"scattergl\":[{\"marker\":{\"line\":{\"color\":\"#283442\"}},\"type\":\"scattergl\"}],\"scattermapbox\":[{\"marker\":{\"colorbar\":{\"outlinewidth\":0,\"ticks\":\"\"}},\"type\":\"scattermapbox\"}],\"scatterpolargl\":[{\"marker\":{\"colorbar\":{\"outlinewidth\":0,\"ticks\":\"\"}},\"type\":\"scatterpolargl\"}],\"scatterpolar\":[{\"marker\":{\"colorbar\":{\"outlinewidth\":0,\"ticks\":\"\"}},\"type\":\"scatterpolar\"}],\"scatter\":[{\"marker\":{\"line\":{\"color\":\"#283442\"}},\"type\":\"scatter\"}],\"scatterternary\":[{\"marker\":{\"colorbar\":{\"outlinewidth\":0,\"ticks\":\"\"}},\"type\":\"scatterternary\"}],\"surface\":[{\"colorbar\":{\"outlinewidth\":0,\"ticks\":\"\"},\"colorscale\":[[0.0,\"#0d0887\"],[0.1111111111111111,\"#46039f\"],[0.2222222222222222,\"#7201a8\"],[0.3333333333333333,\"#9c179e\"],[0.4444444444444444,\"#bd3786\"],[0.5555555555555556,\"#d8576b\"],[0.6666666666666666,\"#ed7953\"],[0.7777777777777778,\"#fb9f3a\"],[0.8888888888888888,\"#fdca26\"],[1.0,\"#f0f921\"]],\"type\":\"surface\"}],\"table\":[{\"cells\":{\"fill\":{\"color\":\"#506784\"},\"line\":{\"color\":\"rgb(17,17,17)\"}},\"header\":{\"fill\":{\"color\":\"#2a3f5f\"},\"line\":{\"color\":\"rgb(17,17,17)\"}},\"type\":\"table\"}]},\"layout\":{\"annotationdefaults\":{\"arrowcolor\":\"#f2f5fa\",\"arrowhead\":0,\"arrowwidth\":1},\"autotypenumbers\":\"strict\",\"coloraxis\":{\"colorbar\":{\"outlinewidth\":0,\"ticks\":\"\"}},\"colorscale\":{\"diverging\":[[0,\"#8e0152\"],[0.1,\"#c51b7d\"],[0.2,\"#de77ae\"],[0.3,\"#f1b6da\"],[0.4,\"#fde0ef\"],[0.5,\"#f7f7f7\"],[0.6,\"#e6f5d0\"],[0.7,\"#b8e186\"],[0.8,\"#7fbc41\"],[0.9,\"#4d9221\"],[1,\"#276419\"]],\"sequential\":[[0.0,\"#0d0887\"],[0.1111111111111111,\"#46039f\"],[0.2222222222222222,\"#7201a8\"],[0.3333333333333333,\"#9c179e\"],[0.4444444444444444,\"#bd3786\"],[0.5555555555555556,\"#d8576b\"],[0.6666666666666666,\"#ed7953\"],[0.7777777777777778,\"#fb9f3a\"],[0.8888888888888888,\"#fdca26\"],[1.0,\"#f0f921\"]],\"sequentialminus\":[[0.0,\"#0d0887\"],[0.1111111111111111,\"#46039f\"],[0.2222222222222222,\"#7201a8\"],[0.3333333333333333,\"#9c179e\"],[0.4444444444444444,\"#bd3786\"],[0.5555555555555556,\"#d8576b\"],[0.6666666666666666,\"#ed7953\"],[0.7777777777777778,\"#fb9f3a\"],[0.8888888888888888,\"#fdca26\"],[1.0,\"#f0f921\"]]},\"colorway\":[\"#636efa\",\"#EF553B\",\"#00cc96\",\"#ab63fa\",\"#FFA15A\",\"#19d3f3\",\"#FF6692\",\"#B6E880\",\"#FF97FF\",\"#FECB52\"],\"font\":{\"color\":\"#f2f5fa\"},\"geo\":{\"bgcolor\":\"rgb(17,17,17)\",\"lakecolor\":\"rgb(17,17,17)\",\"landcolor\":\"rgb(17,17,17)\",\"showlakes\":true,\"showland\":true,\"subunitcolor\":\"#506784\"},\"hoverlabel\":{\"align\":\"left\"},\"hovermode\":\"closest\",\"mapbox\":{\"style\":\"dark\"},\"paper_bgcolor\":\"rgb(17,17,17)\",\"plot_bgcolor\":\"rgb(17,17,17)\",\"polar\":{\"angularaxis\":{\"gridcolor\":\"#506784\",\"linecolor\":\"#506784\",\"ticks\":\"\"},\"bgcolor\":\"rgb(17,17,17)\",\"radialaxis\":{\"gridcolor\":\"#506784\",\"linecolor\":\"#506784\",\"ticks\":\"\"}},\"scene\":{\"xaxis\":{\"backgroundcolor\":\"rgb(17,17,17)\",\"gridcolor\":\"#506784\",\"gridwidth\":2,\"linecolor\":\"#506784\",\"showbackground\":true,\"ticks\":\"\",\"zerolinecolor\":\"#C8D4E3\"},\"yaxis\":{\"backgroundcolor\":\"rgb(17,17,17)\",\"gridcolor\":\"#506784\",\"gridwidth\":2,\"linecolor\":\"#506784\",\"showbackground\":true,\"ticks\":\"\",\"zerolinecolor\":\"#C8D4E3\"},\"zaxis\":{\"backgroundcolor\":\"rgb(17,17,17)\",\"gridcolor\":\"#506784\",\"gridwidth\":2,\"linecolor\":\"#506784\",\"showbackground\":true,\"ticks\":\"\",\"zerolinecolor\":\"#C8D4E3\"}},\"shapedefaults\":{\"line\":{\"color\":\"#f2f5fa\"}},\"sliderdefaults\":{\"bgcolor\":\"#C8D4E3\",\"bordercolor\":\"rgb(17,17,17)\",\"borderwidth\":1,\"tickwidth\":0},\"ternary\":{\"aaxis\":{\"gridcolor\":\"#506784\",\"linecolor\":\"#506784\",\"ticks\":\"\"},\"baxis\":{\"gridcolor\":\"#506784\",\"linecolor\":\"#506784\",\"ticks\":\"\"},\"bgcolor\":\"rgb(17,17,17)\",\"caxis\":{\"gridcolor\":\"#506784\",\"linecolor\":\"#506784\",\"ticks\":\"\"}},\"title\":{\"x\":0.05},\"updatemenudefaults\":{\"bgcolor\":\"#506784\",\"borderwidth\":0},\"xaxis\":{\"automargin\":true,\"gridcolor\":\"#283442\",\"linecolor\":\"#506784\",\"ticks\":\"\",\"title\":{\"standoff\":15},\"zerolinecolor\":\"#283442\",\"zerolinewidth\":2},\"yaxis\":{\"automargin\":true,\"gridcolor\":\"#283442\",\"linecolor\":\"#506784\",\"ticks\":\"\",\"title\":{\"standoff\":15},\"zerolinecolor\":\"#283442\",\"zerolinewidth\":2}}},\"xaxis\":{\"anchor\":\"y\",\"domain\":[0.0,1.0],\"title\":{\"text\":\"Отдел\"}},\"yaxis\":{\"anchor\":\"x\",\"domain\":[0.0,1.0],\"title\":{\"text\":\"Доля артикулов, сохранившихся в федеральной базе\"},\"range\":[60,100]},\"coloraxis\":{\"colorbar\":{\"title\":{\"text\":\"variance_perc_of_previous_in_dept\"}},\"colorscale\":[[0.0,\"#f0f921\"],[0.1111111111111111,\"#fdca26\"],[0.2222222222222222,\"#fb9f3a\"],[0.3333333333333333,\"#ed7953\"],[0.4444444444444444,\"#d8576b\"],[0.5555555555555556,\"#bd3786\"],[0.6666666666666666,\"#9c179e\"],[0.7777777777777778,\"#7201a8\"],[0.8888888888888888,\"#46039f\"],[1.0,\"#0d0887\"]]},\"legend\":{\"tracegroupgap\":0},\"margin\":{\"t\":60},\"barmode\":\"relative\",\"height\":700,\"width\":1200,\"title\":{\"text\":\"Среднее значение доли перетекания артикулов в федеральную базу за Ноябрь 2022 - Май 2023 (интервал - 3 месяца, шаг - 2 недели)\"}},                        {\"responsive\": true}                    ).then(function(){\n",
       "                            \n",
       "var gd = document.getElementById('377850b2-578d-4e34-8380-5368bdecc536');\n",
       "var x = new MutationObserver(function (mutations, observer) {{\n",
       "        var display = window.getComputedStyle(gd).display;\n",
       "        if (!display || display === 'none') {{\n",
       "            console.log([gd, 'removed!']);\n",
       "            Plotly.purge(gd);\n",
       "            observer.disconnect();\n",
       "        }}\n",
       "}});\n",
       "\n",
       "// Listen for the removal of the full notebook cells\n",
       "var notebookContainer = gd.closest('#notebook-container');\n",
       "if (notebookContainer) {{\n",
       "    x.observe(notebookContainer, {childList: true});\n",
       "}}\n",
       "\n",
       "// Listen for the clearing of the current output cell\n",
       "var outputEl = gd.closest('.output');\n",
       "if (outputEl) {{\n",
       "    x.observe(outputEl, {childList: true});\n",
       "}}\n",
       "\n",
       "                        })                };                });            </script>        </div>"
      ]
     },
     "metadata": {},
     "output_type": "display_data"
    }
   ],
   "source": [
    "fig = px.bar(fed_core_sps_intersecttion_gr, \n",
    "             x = 'group_name', \n",
    "             y = 'mean_perc_of_previous_in_dept',\n",
    "             color = 'variance_perc_of_previous_in_dept',\n",
    "             color_continuous_scale = 'plasma_r',\n",
    "             template = \"plotly_dark\",\n",
    "             width = 1200, height = 700\n",
    "             )\n",
    "\n",
    "fig.update_layout(title='Среднее значение доли перетекания артикулов в федеральную базу за Ноябрь 2022 - Май 2023 (интервал - 3 месяца, шаг - 2 недели)',\n",
    "                  xaxis_title = 'Отдел',\n",
    "                  yaxis_title = 'Доля артикулов, сохранившихся в федеральной базе',\n",
    "                  yaxis_range = [60,100])\n",
    "\n",
    "fig.show()"
   ]
  },
  {
   "cell_type": "code",
   "execution_count": 35,
   "id": "3e195952-27d3-4b1d-b2e1-656b05399094",
   "metadata": {},
   "outputs": [
    {
     "data": {
      "text/html": [
       "<div>\n",
       "<style scoped>\n",
       "    .dataframe tbody tr th:only-of-type {\n",
       "        vertical-align: middle;\n",
       "    }\n",
       "\n",
       "    .dataframe tbody tr th {\n",
       "        vertical-align: top;\n",
       "    }\n",
       "\n",
       "    .dataframe thead th {\n",
       "        text-align: right;\n",
       "    }\n",
       "</style>\n",
       "<table border=\"1\" class=\"dataframe\">\n",
       "  <thead>\n",
       "    <tr style=\"text-align: right;\">\n",
       "      <th></th>\n",
       "      <th>group_name</th>\n",
       "      <th>mean_perc_of_previous_in_dept</th>\n",
       "      <th>variance_perc_of_previous_in_dept</th>\n",
       "      <th>period</th>\n",
       "    </tr>\n",
       "  </thead>\n",
       "  <tbody>\n",
       "    <tr>\n",
       "      <th>8</th>\n",
       "      <td>САД</td>\n",
       "      <td>75.1</td>\n",
       "      <td>48.1</td>\n",
       "      <td>NOV22_MAY23</td>\n",
       "    </tr>\n",
       "    <tr>\n",
       "      <th>6</th>\n",
       "      <td>САНТЕХНИКА</td>\n",
       "      <td>82.6</td>\n",
       "      <td>2.4</td>\n",
       "      <td>NOV22_MAY23</td>\n",
       "    </tr>\n",
       "    <tr>\n",
       "      <th>9</th>\n",
       "      <td>СКОБЯНЫЕ ИЗДЕЛИЯ</td>\n",
       "      <td>84.0</td>\n",
       "      <td>5.6</td>\n",
       "      <td>NOV22_MAY23</td>\n",
       "    </tr>\n",
       "    <tr>\n",
       "      <th>11</th>\n",
       "      <td>ОТДЕЛОЧНЫЕ МАТЕРИАЛЫ</td>\n",
       "      <td>85.7</td>\n",
       "      <td>4.7</td>\n",
       "      <td>NOV22_MAY23</td>\n",
       "    </tr>\n",
       "    <tr>\n",
       "      <th>12</th>\n",
       "      <td>СВЕТ</td>\n",
       "      <td>85.9</td>\n",
       "      <td>15.6</td>\n",
       "      <td>NOV22_MAY23</td>\n",
       "    </tr>\n",
       "    <tr>\n",
       "      <th>1</th>\n",
       "      <td>СТОЛЯРНЫЕ ИЗДЕЛИЯ</td>\n",
       "      <td>87.2</td>\n",
       "      <td>30.2</td>\n",
       "      <td>NOV22_MAY23</td>\n",
       "    </tr>\n",
       "    <tr>\n",
       "      <th>0</th>\n",
       "      <td>СТРОЙМАТЕРИАЛЫ</td>\n",
       "      <td>88.8</td>\n",
       "      <td>23.6</td>\n",
       "      <td>NOV22_MAY23</td>\n",
       "    </tr>\n",
       "    <tr>\n",
       "      <th>4</th>\n",
       "      <td>НАПОЛЬНЫЕ ПОКРЫТИЯ</td>\n",
       "      <td>88.8</td>\n",
       "      <td>25.8</td>\n",
       "      <td>NOV22_MAY23</td>\n",
       "    </tr>\n",
       "    <tr>\n",
       "      <th>3</th>\n",
       "      <td>ИНСТРУМЕНТЫ</td>\n",
       "      <td>89.1</td>\n",
       "      <td>2.0</td>\n",
       "      <td>NOV22_MAY23</td>\n",
       "    </tr>\n",
       "    <tr>\n",
       "      <th>10</th>\n",
       "      <td>КРАСКИ</td>\n",
       "      <td>89.2</td>\n",
       "      <td>3.9</td>\n",
       "      <td>NOV22_MAY23</td>\n",
       "    </tr>\n",
       "    <tr>\n",
       "      <th>13</th>\n",
       "      <td>ХРАНЕНИЕ</td>\n",
       "      <td>89.8</td>\n",
       "      <td>3.6</td>\n",
       "      <td>NOV22_MAY23</td>\n",
       "    </tr>\n",
       "    <tr>\n",
       "      <th>14</th>\n",
       "      <td>КУХНИ</td>\n",
       "      <td>90.1</td>\n",
       "      <td>9.7</td>\n",
       "      <td>NOV22_MAY23</td>\n",
       "    </tr>\n",
       "    <tr>\n",
       "      <th>5</th>\n",
       "      <td>ПЛИТКА</td>\n",
       "      <td>91.4</td>\n",
       "      <td>17.2</td>\n",
       "      <td>NOV22_MAY23</td>\n",
       "    </tr>\n",
       "    <tr>\n",
       "      <th>7</th>\n",
       "      <td>ВОДОСНАБЖЕНИЕ</td>\n",
       "      <td>91.5</td>\n",
       "      <td>4.8</td>\n",
       "      <td>NOV22_MAY23</td>\n",
       "    </tr>\n",
       "    <tr>\n",
       "      <th>2</th>\n",
       "      <td>ЭЛЕКТРОТОВАРЫ</td>\n",
       "      <td>92.2</td>\n",
       "      <td>2.2</td>\n",
       "      <td>NOV22_MAY23</td>\n",
       "    </tr>\n",
       "  </tbody>\n",
       "</table>\n",
       "</div>"
      ],
      "text/plain": [
       "              group_name  mean_perc_of_previous_in_dept  \\\n",
       "8                    САД                           75.1   \n",
       "6             САНТЕХНИКА                           82.6   \n",
       "9       СКОБЯНЫЕ ИЗДЕЛИЯ                           84.0   \n",
       "11  ОТДЕЛОЧНЫЕ МАТЕРИАЛЫ                           85.7   \n",
       "12                  СВЕТ                           85.9   \n",
       "1      СТОЛЯРНЫЕ ИЗДЕЛИЯ                           87.2   \n",
       "0         СТРОЙМАТЕРИАЛЫ                           88.8   \n",
       "4     НАПОЛЬНЫЕ ПОКРЫТИЯ                           88.8   \n",
       "3            ИНСТРУМЕНТЫ                           89.1   \n",
       "10                КРАСКИ                           89.2   \n",
       "13              ХРАНЕНИЕ                           89.8   \n",
       "14                 КУХНИ                           90.1   \n",
       "5                 ПЛИТКА                           91.4   \n",
       "7          ВОДОСНАБЖЕНИЕ                           91.5   \n",
       "2          ЭЛЕКТРОТОВАРЫ                           92.2   \n",
       "\n",
       "    variance_perc_of_previous_in_dept       period  \n",
       "8                                48.1  NOV22_MAY23  \n",
       "6                                 2.4  NOV22_MAY23  \n",
       "9                                 5.6  NOV22_MAY23  \n",
       "11                                4.7  NOV22_MAY23  \n",
       "12                               15.6  NOV22_MAY23  \n",
       "1                                30.2  NOV22_MAY23  \n",
       "0                                23.6  NOV22_MAY23  \n",
       "4                                25.8  NOV22_MAY23  \n",
       "3                                 2.0  NOV22_MAY23  \n",
       "10                                3.9  NOV22_MAY23  \n",
       "13                                3.6  NOV22_MAY23  \n",
       "14                                9.7  NOV22_MAY23  \n",
       "5                                17.2  NOV22_MAY23  \n",
       "7                                 4.8  NOV22_MAY23  \n",
       "2                                 2.2  NOV22_MAY23  "
      ]
     },
     "execution_count": 35,
     "metadata": {},
     "output_type": "execute_result"
    }
   ],
   "source": [
    "fed_core_sps_intersecttion_gr['period'] = 'NOV22_MAY23'\n",
    "\n",
    "fed_core_sps_intersecttion_gr"
   ]
  },
  {
   "cell_type": "code",
   "execution_count": 36,
   "id": "ab5db71b-0a29-4f61-9bd7-3b3e0b6ed871",
   "metadata": {},
   "outputs": [],
   "source": [
    "#fed_core_sps_intersecttion_gr.to_csv('fed_core_sps_intersecttion_gr_NOV22_MAY23')"
   ]
  },
  {
   "cell_type": "code",
   "execution_count": null,
   "id": "0c075b80-f564-466e-a3b5-34682214e62b",
   "metadata": {},
   "outputs": [],
   "source": []
  }
 ],
 "metadata": {
  "kernelspec": {
   "display_name": "Python 3 (ipykernel)",
   "language": "python",
   "name": "python3"
  },
  "language_info": {
   "codemirror_mode": {
    "name": "ipython",
    "version": 3
   },
   "file_extension": ".py",
   "mimetype": "text/x-python",
   "name": "python",
   "nbconvert_exporter": "python",
   "pygments_lexer": "ipython3",
   "version": "3.11.5"
  }
 },
 "nbformat": 4,
 "nbformat_minor": 5
}
